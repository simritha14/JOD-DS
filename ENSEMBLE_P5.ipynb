{
  "nbformat": 4,
  "nbformat_minor": 0,
  "metadata": {
    "colab": {
      "name": "ENSEMBLE_P5.ipynb",
      "provenance": [],
      "collapsed_sections": [],
      "mount_file_id": "1hIbwYVwW0f7K3t160s5Mc7Mp4ORKrx_A",
      "authorship_tag": "ABX9TyNOEg2QUpVYa3jn97WXe3ob",
      "include_colab_link": true
    },
    "kernelspec": {
      "name": "python3",
      "display_name": "Python 3"
    },
    "language_info": {
      "name": "python"
    }
  },
  "cells": [
    {
      "cell_type": "markdown",
      "metadata": {
        "id": "view-in-github",
        "colab_type": "text"
      },
      "source": [
        "<a href=\"https://colab.research.google.com/github/simritha14/JOD-DS/blob/main/ENSEMBLE_P5.ipynb\" target=\"_parent\"><img src=\"https://colab.research.google.com/assets/colab-badge.svg\" alt=\"Open In Colab\"/></a>"
      ]
    },
    {
      "cell_type": "markdown",
      "source": [
        "# Ensemble Learning\n",
        "# Project: Building Basic predictive models over the NYC Taxi Trip dataset"
      ],
      "metadata": {
        "id": "X4QPOS4hMAeD"
      }
    },
    {
      "cell_type": "markdown",
      "source": [
        "Models to build :\n",
        "\n",
        "\n",
        "*  Knn Model\n",
        "*  Linear Model with Regularization\n",
        "*  Random Forest Model\n",
        "*  Gradient Boosting Decision Tree"
      ],
      "metadata": {
        "id": "lRh6keWROJiy"
      }
    },
    {
      "cell_type": "markdown",
      "metadata": {
        "id": "52690c18"
      },
      "source": [
        "#### Importing Libraries"
      ]
    },
    {
      "cell_type": "code",
      "execution_count": null,
      "metadata": {
        "id": "d04dc402"
      },
      "outputs": [],
      "source": [
        "#importing libraries \n",
        "\n",
        "import pandas as pd \n",
        "import numpy as np\n",
        "import seaborn as sns\n",
        "import matplotlib.pyplot as plt\n",
        "import warnings\n",
        "warnings.filterwarnings('ignore')"
      ]
    },
    {
      "cell_type": "markdown",
      "metadata": {
        "id": "bcb44856"
      },
      "source": [
        "#### Importing Dataset"
      ]
    },
    {
      "cell_type": "code",
      "source": [
        "path = \"/content/drive/MyDrive/nyc_taxi_trip_duration.csv\"\n",
        "dat = pd.read_csv(path)"
      ],
      "metadata": {
        "id": "Spu4KY00IB-7"
      },
      "execution_count": null,
      "outputs": []
    },
    {
      "cell_type": "code",
      "source": [
        "dat.shape"
      ],
      "metadata": {
        "colab": {
          "base_uri": "https://localhost:8080/"
        },
        "id": "ISllTsQaIL7k",
        "outputId": "233dcd86-7486-404f-f670-110527ddb1ca"
      },
      "execution_count": null,
      "outputs": [
        {
          "output_type": "execute_result",
          "data": {
            "text/plain": [
              "(729322, 11)"
            ]
          },
          "metadata": {},
          "execution_count": 3
        }
      ]
    },
    {
      "cell_type": "markdown",
      "metadata": {
        "id": "3651a389"
      },
      "source": [
        "## Cleaning the Dataset\n",
        "To use the data we need to first clean it"
      ]
    },
    {
      "cell_type": "code",
      "execution_count": null,
      "metadata": {
        "scrolled": true,
        "id": "735d6470",
        "colab": {
          "base_uri": "https://localhost:8080/"
        },
        "outputId": "36201071-ee75-4544-8607-fbfd058f11de"
      },
      "outputs": [
        {
          "output_type": "execute_result",
          "data": {
            "text/plain": [
              "id                     object\n",
              "vendor_id               int64\n",
              "pickup_datetime        object\n",
              "dropoff_datetime       object\n",
              "passenger_count         int64\n",
              "pickup_longitude      float64\n",
              "pickup_latitude       float64\n",
              "dropoff_longitude     float64\n",
              "dropoff_latitude      float64\n",
              "store_and_fwd_flag     object\n",
              "trip_duration           int64\n",
              "dtype: object"
            ]
          },
          "metadata": {},
          "execution_count": 4
        }
      ],
      "source": [
        "dat.dtypes"
      ]
    },
    {
      "cell_type": "code",
      "execution_count": null,
      "metadata": {
        "scrolled": true,
        "id": "0fb2e0db",
        "colab": {
          "base_uri": "https://localhost:8080/",
          "height": 337
        },
        "outputId": "c1e12afe-63ae-4c5d-bb39-eb563ae20f8e"
      },
      "outputs": [
        {
          "output_type": "execute_result",
          "data": {
            "text/plain": [
              "          id  vendor_id      pickup_datetime     dropoff_datetime  \\\n",
              "0  id1080784          2  2016-02-29 16:40:21  2016-02-29 16:47:01   \n",
              "1  id0889885          1  2016-03-11 23:35:37  2016-03-11 23:53:57   \n",
              "2  id0857912          2  2016-02-21 17:59:33  2016-02-21 18:26:48   \n",
              "3  id3744273          2  2016-01-05 09:44:31  2016-01-05 10:03:32   \n",
              "4  id0232939          1  2016-02-17 06:42:23  2016-02-17 06:56:31   \n",
              "\n",
              "   passenger_count  pickup_longitude  pickup_latitude  dropoff_longitude  \\\n",
              "0                1        -73.953918        40.778873         -73.963875   \n",
              "1                2        -73.988312        40.731743         -73.994751   \n",
              "2                2        -73.997314        40.721458         -73.948029   \n",
              "3                6        -73.961670        40.759720         -73.956779   \n",
              "4                1        -74.017120        40.708469         -73.988182   \n",
              "\n",
              "   dropoff_latitude store_and_fwd_flag  trip_duration  \n",
              "0         40.771164                  N            400  \n",
              "1         40.694931                  N           1100  \n",
              "2         40.774918                  N           1635  \n",
              "3         40.780628                  N           1141  \n",
              "4         40.740631                  N            848  "
            ],
            "text/html": [
              "\n",
              "  <div id=\"df-a36fb2c7-b2ef-413a-ad4d-c0f9d7aef8c2\">\n",
              "    <div class=\"colab-df-container\">\n",
              "      <div>\n",
              "<style scoped>\n",
              "    .dataframe tbody tr th:only-of-type {\n",
              "        vertical-align: middle;\n",
              "    }\n",
              "\n",
              "    .dataframe tbody tr th {\n",
              "        vertical-align: top;\n",
              "    }\n",
              "\n",
              "    .dataframe thead th {\n",
              "        text-align: right;\n",
              "    }\n",
              "</style>\n",
              "<table border=\"1\" class=\"dataframe\">\n",
              "  <thead>\n",
              "    <tr style=\"text-align: right;\">\n",
              "      <th></th>\n",
              "      <th>id</th>\n",
              "      <th>vendor_id</th>\n",
              "      <th>pickup_datetime</th>\n",
              "      <th>dropoff_datetime</th>\n",
              "      <th>passenger_count</th>\n",
              "      <th>pickup_longitude</th>\n",
              "      <th>pickup_latitude</th>\n",
              "      <th>dropoff_longitude</th>\n",
              "      <th>dropoff_latitude</th>\n",
              "      <th>store_and_fwd_flag</th>\n",
              "      <th>trip_duration</th>\n",
              "    </tr>\n",
              "  </thead>\n",
              "  <tbody>\n",
              "    <tr>\n",
              "      <th>0</th>\n",
              "      <td>id1080784</td>\n",
              "      <td>2</td>\n",
              "      <td>2016-02-29 16:40:21</td>\n",
              "      <td>2016-02-29 16:47:01</td>\n",
              "      <td>1</td>\n",
              "      <td>-73.953918</td>\n",
              "      <td>40.778873</td>\n",
              "      <td>-73.963875</td>\n",
              "      <td>40.771164</td>\n",
              "      <td>N</td>\n",
              "      <td>400</td>\n",
              "    </tr>\n",
              "    <tr>\n",
              "      <th>1</th>\n",
              "      <td>id0889885</td>\n",
              "      <td>1</td>\n",
              "      <td>2016-03-11 23:35:37</td>\n",
              "      <td>2016-03-11 23:53:57</td>\n",
              "      <td>2</td>\n",
              "      <td>-73.988312</td>\n",
              "      <td>40.731743</td>\n",
              "      <td>-73.994751</td>\n",
              "      <td>40.694931</td>\n",
              "      <td>N</td>\n",
              "      <td>1100</td>\n",
              "    </tr>\n",
              "    <tr>\n",
              "      <th>2</th>\n",
              "      <td>id0857912</td>\n",
              "      <td>2</td>\n",
              "      <td>2016-02-21 17:59:33</td>\n",
              "      <td>2016-02-21 18:26:48</td>\n",
              "      <td>2</td>\n",
              "      <td>-73.997314</td>\n",
              "      <td>40.721458</td>\n",
              "      <td>-73.948029</td>\n",
              "      <td>40.774918</td>\n",
              "      <td>N</td>\n",
              "      <td>1635</td>\n",
              "    </tr>\n",
              "    <tr>\n",
              "      <th>3</th>\n",
              "      <td>id3744273</td>\n",
              "      <td>2</td>\n",
              "      <td>2016-01-05 09:44:31</td>\n",
              "      <td>2016-01-05 10:03:32</td>\n",
              "      <td>6</td>\n",
              "      <td>-73.961670</td>\n",
              "      <td>40.759720</td>\n",
              "      <td>-73.956779</td>\n",
              "      <td>40.780628</td>\n",
              "      <td>N</td>\n",
              "      <td>1141</td>\n",
              "    </tr>\n",
              "    <tr>\n",
              "      <th>4</th>\n",
              "      <td>id0232939</td>\n",
              "      <td>1</td>\n",
              "      <td>2016-02-17 06:42:23</td>\n",
              "      <td>2016-02-17 06:56:31</td>\n",
              "      <td>1</td>\n",
              "      <td>-74.017120</td>\n",
              "      <td>40.708469</td>\n",
              "      <td>-73.988182</td>\n",
              "      <td>40.740631</td>\n",
              "      <td>N</td>\n",
              "      <td>848</td>\n",
              "    </tr>\n",
              "  </tbody>\n",
              "</table>\n",
              "</div>\n",
              "      <button class=\"colab-df-convert\" onclick=\"convertToInteractive('df-a36fb2c7-b2ef-413a-ad4d-c0f9d7aef8c2')\"\n",
              "              title=\"Convert this dataframe to an interactive table.\"\n",
              "              style=\"display:none;\">\n",
              "        \n",
              "  <svg xmlns=\"http://www.w3.org/2000/svg\" height=\"24px\"viewBox=\"0 0 24 24\"\n",
              "       width=\"24px\">\n",
              "    <path d=\"M0 0h24v24H0V0z\" fill=\"none\"/>\n",
              "    <path d=\"M18.56 5.44l.94 2.06.94-2.06 2.06-.94-2.06-.94-.94-2.06-.94 2.06-2.06.94zm-11 1L8.5 8.5l.94-2.06 2.06-.94-2.06-.94L8.5 2.5l-.94 2.06-2.06.94zm10 10l.94 2.06.94-2.06 2.06-.94-2.06-.94-.94-2.06-.94 2.06-2.06.94z\"/><path d=\"M17.41 7.96l-1.37-1.37c-.4-.4-.92-.59-1.43-.59-.52 0-1.04.2-1.43.59L10.3 9.45l-7.72 7.72c-.78.78-.78 2.05 0 2.83L4 21.41c.39.39.9.59 1.41.59.51 0 1.02-.2 1.41-.59l7.78-7.78 2.81-2.81c.8-.78.8-2.07 0-2.86zM5.41 20L4 18.59l7.72-7.72 1.47 1.35L5.41 20z\"/>\n",
              "  </svg>\n",
              "      </button>\n",
              "      \n",
              "  <style>\n",
              "    .colab-df-container {\n",
              "      display:flex;\n",
              "      flex-wrap:wrap;\n",
              "      gap: 12px;\n",
              "    }\n",
              "\n",
              "    .colab-df-convert {\n",
              "      background-color: #E8F0FE;\n",
              "      border: none;\n",
              "      border-radius: 50%;\n",
              "      cursor: pointer;\n",
              "      display: none;\n",
              "      fill: #1967D2;\n",
              "      height: 32px;\n",
              "      padding: 0 0 0 0;\n",
              "      width: 32px;\n",
              "    }\n",
              "\n",
              "    .colab-df-convert:hover {\n",
              "      background-color: #E2EBFA;\n",
              "      box-shadow: 0px 1px 2px rgba(60, 64, 67, 0.3), 0px 1px 3px 1px rgba(60, 64, 67, 0.15);\n",
              "      fill: #174EA6;\n",
              "    }\n",
              "\n",
              "    [theme=dark] .colab-df-convert {\n",
              "      background-color: #3B4455;\n",
              "      fill: #D2E3FC;\n",
              "    }\n",
              "\n",
              "    [theme=dark] .colab-df-convert:hover {\n",
              "      background-color: #434B5C;\n",
              "      box-shadow: 0px 1px 3px 1px rgba(0, 0, 0, 0.15);\n",
              "      filter: drop-shadow(0px 1px 2px rgba(0, 0, 0, 0.3));\n",
              "      fill: #FFFFFF;\n",
              "    }\n",
              "  </style>\n",
              "\n",
              "      <script>\n",
              "        const buttonEl =\n",
              "          document.querySelector('#df-a36fb2c7-b2ef-413a-ad4d-c0f9d7aef8c2 button.colab-df-convert');\n",
              "        buttonEl.style.display =\n",
              "          google.colab.kernel.accessAllowed ? 'block' : 'none';\n",
              "\n",
              "        async function convertToInteractive(key) {\n",
              "          const element = document.querySelector('#df-a36fb2c7-b2ef-413a-ad4d-c0f9d7aef8c2');\n",
              "          const dataTable =\n",
              "            await google.colab.kernel.invokeFunction('convertToInteractive',\n",
              "                                                     [key], {});\n",
              "          if (!dataTable) return;\n",
              "\n",
              "          const docLinkHtml = 'Like what you see? Visit the ' +\n",
              "            '<a target=\"_blank\" href=https://colab.research.google.com/notebooks/data_table.ipynb>data table notebook</a>'\n",
              "            + ' to learn more about interactive tables.';\n",
              "          element.innerHTML = '';\n",
              "          dataTable['output_type'] = 'display_data';\n",
              "          await google.colab.output.renderOutput(dataTable, element);\n",
              "          const docLink = document.createElement('div');\n",
              "          docLink.innerHTML = docLinkHtml;\n",
              "          element.appendChild(docLink);\n",
              "        }\n",
              "      </script>\n",
              "    </div>\n",
              "  </div>\n",
              "  "
            ]
          },
          "metadata": {},
          "execution_count": 5
        }
      ],
      "source": [
        "dat.head()"
      ]
    },
    {
      "cell_type": "markdown",
      "metadata": {
        "id": "7ecb68d1"
      },
      "source": [
        "### Typecasting the Variables"
      ]
    },
    {
      "cell_type": "code",
      "execution_count": null,
      "metadata": {
        "id": "1eef2348"
      },
      "outputs": [],
      "source": [
        "dat['vendor_id'] = dat['vendor_id'].astype('category')"
      ]
    },
    {
      "cell_type": "markdown",
      "source": [
        "- converting vendor_id to a category as it is a categorical variable"
      ],
      "metadata": {
        "id": "RU6TlhnhO617"
      }
    },
    {
      "cell_type": "code",
      "execution_count": null,
      "metadata": {
        "id": "efa76e48"
      },
      "outputs": [],
      "source": [
        "dat['pickup_datetime'] = pd.to_datetime(dat.pickup_datetime)\n",
        "dat['dropoff_datetime'] = pd.to_datetime(dat.dropoff_datetime)"
      ]
    },
    {
      "cell_type": "markdown",
      "source": [
        "typecasting pickup_datetime and dropoff_datetime to datatime datatype to be able to extract thee following details\n",
        "\n",
        "*   pickup hour\n",
        "*   pickup day\n",
        "*   pickup month\n",
        "*   dropoff hour\n",
        "*   dropoff day\n",
        "*   dropoff month\n",
        "\n"
      ],
      "metadata": {
        "id": "SPJR0pAmPEhX"
      }
    },
    {
      "cell_type": "code",
      "execution_count": null,
      "metadata": {
        "id": "88d47a19"
      },
      "outputs": [],
      "source": [
        "#using the function dt from datatime library\n",
        "dat['pickuphour']=dat.pickup_datetime.dt.hour\n",
        "dat['pickupday']=dat.pickup_datetime.dt.dayofweek\n",
        "dat['pickupmonth']=dat.pickup_datetime.dt.month\n",
        "dat['dropoffhour']=dat.dropoff_datetime.dt.hour\n",
        "dat['dropoffday']=dat.dropoff_datetime.dt.dayofweek\n",
        "dat['dropoffmonth']=dat.dropoff_datetime.dt.month"
      ]
    },
    {
      "cell_type": "code",
      "execution_count": null,
      "metadata": {
        "id": "577f4660"
      },
      "outputs": [],
      "source": [
        "#encoding store_and_fwd_flag\n",
        "from sklearn.preprocessing import LabelEncoder\n",
        "label_encoder = LabelEncoder()\n",
        "dat['store_and_fwd_encoded'] = label_encoder.fit_transform(dat['store_and_fwd_flag'])"
      ]
    },
    {
      "cell_type": "markdown",
      "source": [
        "- Encoding the store_and_fwd_flag variable to convert it into a numerical variable"
      ],
      "metadata": {
        "id": "AaVtkf5_QEaT"
      }
    },
    {
      "cell_type": "markdown",
      "metadata": {
        "id": "8419b418"
      },
      "source": [
        "### Missing Values"
      ]
    },
    {
      "cell_type": "code",
      "execution_count": null,
      "metadata": {
        "id": "29b9942c",
        "colab": {
          "base_uri": "https://localhost:8080/"
        },
        "outputId": "0a453390-4655-453b-c288-fbe839dadbe9"
      },
      "outputs": [
        {
          "output_type": "execute_result",
          "data": {
            "text/plain": [
              "id                       0\n",
              "vendor_id                0\n",
              "pickup_datetime          0\n",
              "dropoff_datetime         0\n",
              "passenger_count          0\n",
              "pickup_longitude         0\n",
              "pickup_latitude          0\n",
              "dropoff_longitude        0\n",
              "dropoff_latitude         0\n",
              "store_and_fwd_flag       0\n",
              "trip_duration            0\n",
              "pickuphour               0\n",
              "pickupday                0\n",
              "pickupmonth              0\n",
              "dropoffhour              0\n",
              "dropoffday               0\n",
              "dropoffmonth             0\n",
              "store_and_fwd_encoded    0\n",
              "dtype: int64"
            ]
          },
          "metadata": {},
          "execution_count": 10
        }
      ],
      "source": [
        "#checking for missing values\n",
        "dat.isnull().sum()"
      ]
    },
    {
      "cell_type": "markdown",
      "source": [
        "* There are no missing values in our dataset so we can move forward with the modeling process"
      ],
      "metadata": {
        "id": "PR0UewPZQShh"
      }
    },
    {
      "cell_type": "code",
      "source": [
        "#Removing Columns with less Significance\n",
        "data=dat.drop(['pickup_datetime','dropoff_datetime','id','pickup_longitude','pickup_latitude','dropoff_longitude','dropoff_latitude'],axis=1)"
      ],
      "metadata": {
        "id": "1LWtv_PxfwKE"
      },
      "execution_count": null,
      "outputs": []
    },
    {
      "cell_type": "code",
      "execution_count": null,
      "metadata": {
        "scrolled": true,
        "id": "d46a8fae",
        "colab": {
          "base_uri": "https://localhost:8080/",
          "height": 206
        },
        "outputId": "2bb67528-0811-468d-89bd-bd429768621a"
      },
      "outputs": [
        {
          "output_type": "execute_result",
          "data": {
            "text/plain": [
              "  vendor_id  passenger_count store_and_fwd_flag  trip_duration  pickuphour  \\\n",
              "0         2                1                  N            400          16   \n",
              "1         1                2                  N           1100          23   \n",
              "2         2                2                  N           1635          17   \n",
              "3         2                6                  N           1141           9   \n",
              "4         1                1                  N            848           6   \n",
              "\n",
              "   pickupday  pickupmonth  dropoffhour  dropoffday  dropoffmonth  \\\n",
              "0          0            2           16           0             2   \n",
              "1          4            3           23           4             3   \n",
              "2          6            2           18           6             2   \n",
              "3          1            1           10           1             1   \n",
              "4          2            2            6           2             2   \n",
              "\n",
              "   store_and_fwd_encoded  \n",
              "0                      0  \n",
              "1                      0  \n",
              "2                      0  \n",
              "3                      0  \n",
              "4                      0  "
            ],
            "text/html": [
              "\n",
              "  <div id=\"df-7961cb3f-9a36-42e8-b1a7-3d73e1f6fbc1\">\n",
              "    <div class=\"colab-df-container\">\n",
              "      <div>\n",
              "<style scoped>\n",
              "    .dataframe tbody tr th:only-of-type {\n",
              "        vertical-align: middle;\n",
              "    }\n",
              "\n",
              "    .dataframe tbody tr th {\n",
              "        vertical-align: top;\n",
              "    }\n",
              "\n",
              "    .dataframe thead th {\n",
              "        text-align: right;\n",
              "    }\n",
              "</style>\n",
              "<table border=\"1\" class=\"dataframe\">\n",
              "  <thead>\n",
              "    <tr style=\"text-align: right;\">\n",
              "      <th></th>\n",
              "      <th>vendor_id</th>\n",
              "      <th>passenger_count</th>\n",
              "      <th>store_and_fwd_flag</th>\n",
              "      <th>trip_duration</th>\n",
              "      <th>pickuphour</th>\n",
              "      <th>pickupday</th>\n",
              "      <th>pickupmonth</th>\n",
              "      <th>dropoffhour</th>\n",
              "      <th>dropoffday</th>\n",
              "      <th>dropoffmonth</th>\n",
              "      <th>store_and_fwd_encoded</th>\n",
              "    </tr>\n",
              "  </thead>\n",
              "  <tbody>\n",
              "    <tr>\n",
              "      <th>0</th>\n",
              "      <td>2</td>\n",
              "      <td>1</td>\n",
              "      <td>N</td>\n",
              "      <td>400</td>\n",
              "      <td>16</td>\n",
              "      <td>0</td>\n",
              "      <td>2</td>\n",
              "      <td>16</td>\n",
              "      <td>0</td>\n",
              "      <td>2</td>\n",
              "      <td>0</td>\n",
              "    </tr>\n",
              "    <tr>\n",
              "      <th>1</th>\n",
              "      <td>1</td>\n",
              "      <td>2</td>\n",
              "      <td>N</td>\n",
              "      <td>1100</td>\n",
              "      <td>23</td>\n",
              "      <td>4</td>\n",
              "      <td>3</td>\n",
              "      <td>23</td>\n",
              "      <td>4</td>\n",
              "      <td>3</td>\n",
              "      <td>0</td>\n",
              "    </tr>\n",
              "    <tr>\n",
              "      <th>2</th>\n",
              "      <td>2</td>\n",
              "      <td>2</td>\n",
              "      <td>N</td>\n",
              "      <td>1635</td>\n",
              "      <td>17</td>\n",
              "      <td>6</td>\n",
              "      <td>2</td>\n",
              "      <td>18</td>\n",
              "      <td>6</td>\n",
              "      <td>2</td>\n",
              "      <td>0</td>\n",
              "    </tr>\n",
              "    <tr>\n",
              "      <th>3</th>\n",
              "      <td>2</td>\n",
              "      <td>6</td>\n",
              "      <td>N</td>\n",
              "      <td>1141</td>\n",
              "      <td>9</td>\n",
              "      <td>1</td>\n",
              "      <td>1</td>\n",
              "      <td>10</td>\n",
              "      <td>1</td>\n",
              "      <td>1</td>\n",
              "      <td>0</td>\n",
              "    </tr>\n",
              "    <tr>\n",
              "      <th>4</th>\n",
              "      <td>1</td>\n",
              "      <td>1</td>\n",
              "      <td>N</td>\n",
              "      <td>848</td>\n",
              "      <td>6</td>\n",
              "      <td>2</td>\n",
              "      <td>2</td>\n",
              "      <td>6</td>\n",
              "      <td>2</td>\n",
              "      <td>2</td>\n",
              "      <td>0</td>\n",
              "    </tr>\n",
              "  </tbody>\n",
              "</table>\n",
              "</div>\n",
              "      <button class=\"colab-df-convert\" onclick=\"convertToInteractive('df-7961cb3f-9a36-42e8-b1a7-3d73e1f6fbc1')\"\n",
              "              title=\"Convert this dataframe to an interactive table.\"\n",
              "              style=\"display:none;\">\n",
              "        \n",
              "  <svg xmlns=\"http://www.w3.org/2000/svg\" height=\"24px\"viewBox=\"0 0 24 24\"\n",
              "       width=\"24px\">\n",
              "    <path d=\"M0 0h24v24H0V0z\" fill=\"none\"/>\n",
              "    <path d=\"M18.56 5.44l.94 2.06.94-2.06 2.06-.94-2.06-.94-.94-2.06-.94 2.06-2.06.94zm-11 1L8.5 8.5l.94-2.06 2.06-.94-2.06-.94L8.5 2.5l-.94 2.06-2.06.94zm10 10l.94 2.06.94-2.06 2.06-.94-2.06-.94-.94-2.06-.94 2.06-2.06.94z\"/><path d=\"M17.41 7.96l-1.37-1.37c-.4-.4-.92-.59-1.43-.59-.52 0-1.04.2-1.43.59L10.3 9.45l-7.72 7.72c-.78.78-.78 2.05 0 2.83L4 21.41c.39.39.9.59 1.41.59.51 0 1.02-.2 1.41-.59l7.78-7.78 2.81-2.81c.8-.78.8-2.07 0-2.86zM5.41 20L4 18.59l7.72-7.72 1.47 1.35L5.41 20z\"/>\n",
              "  </svg>\n",
              "      </button>\n",
              "      \n",
              "  <style>\n",
              "    .colab-df-container {\n",
              "      display:flex;\n",
              "      flex-wrap:wrap;\n",
              "      gap: 12px;\n",
              "    }\n",
              "\n",
              "    .colab-df-convert {\n",
              "      background-color: #E8F0FE;\n",
              "      border: none;\n",
              "      border-radius: 50%;\n",
              "      cursor: pointer;\n",
              "      display: none;\n",
              "      fill: #1967D2;\n",
              "      height: 32px;\n",
              "      padding: 0 0 0 0;\n",
              "      width: 32px;\n",
              "    }\n",
              "\n",
              "    .colab-df-convert:hover {\n",
              "      background-color: #E2EBFA;\n",
              "      box-shadow: 0px 1px 2px rgba(60, 64, 67, 0.3), 0px 1px 3px 1px rgba(60, 64, 67, 0.15);\n",
              "      fill: #174EA6;\n",
              "    }\n",
              "\n",
              "    [theme=dark] .colab-df-convert {\n",
              "      background-color: #3B4455;\n",
              "      fill: #D2E3FC;\n",
              "    }\n",
              "\n",
              "    [theme=dark] .colab-df-convert:hover {\n",
              "      background-color: #434B5C;\n",
              "      box-shadow: 0px 1px 3px 1px rgba(0, 0, 0, 0.15);\n",
              "      filter: drop-shadow(0px 1px 2px rgba(0, 0, 0, 0.3));\n",
              "      fill: #FFFFFF;\n",
              "    }\n",
              "  </style>\n",
              "\n",
              "      <script>\n",
              "        const buttonEl =\n",
              "          document.querySelector('#df-7961cb3f-9a36-42e8-b1a7-3d73e1f6fbc1 button.colab-df-convert');\n",
              "        buttonEl.style.display =\n",
              "          google.colab.kernel.accessAllowed ? 'block' : 'none';\n",
              "\n",
              "        async function convertToInteractive(key) {\n",
              "          const element = document.querySelector('#df-7961cb3f-9a36-42e8-b1a7-3d73e1f6fbc1');\n",
              "          const dataTable =\n",
              "            await google.colab.kernel.invokeFunction('convertToInteractive',\n",
              "                                                     [key], {});\n",
              "          if (!dataTable) return;\n",
              "\n",
              "          const docLinkHtml = 'Like what you see? Visit the ' +\n",
              "            '<a target=\"_blank\" href=https://colab.research.google.com/notebooks/data_table.ipynb>data table notebook</a>'\n",
              "            + ' to learn more about interactive tables.';\n",
              "          element.innerHTML = '';\n",
              "          dataTable['output_type'] = 'display_data';\n",
              "          await google.colab.output.renderOutput(dataTable, element);\n",
              "          const docLink = document.createElement('div');\n",
              "          docLink.innerHTML = docLinkHtml;\n",
              "          element.appendChild(docLink);\n",
              "        }\n",
              "      </script>\n",
              "    </div>\n",
              "  </div>\n",
              "  "
            ]
          },
          "metadata": {},
          "execution_count": 12
        }
      ],
      "source": [
        "data.head()"
      ]
    },
    {
      "cell_type": "markdown",
      "source": [
        "* This is the final set of features we are going to build the models upon"
      ],
      "metadata": {
        "id": "WZWpdTpePj8_"
      }
    },
    {
      "cell_type": "markdown",
      "metadata": {
        "id": "43YdTqwERjVp"
      },
      "source": [
        "### Segregating variables: Independent and Dependent Variables"
      ]
    },
    {
      "cell_type": "code",
      "execution_count": null,
      "metadata": {
        "id": "481aa0a2"
      },
      "outputs": [],
      "source": [
        "#converting the categorical variables to dummy columns\n",
        "data=pd.get_dummies(data)"
      ]
    },
    {
      "cell_type": "code",
      "execution_count": null,
      "metadata": {
        "id": "2000d302",
        "colab": {
          "base_uri": "https://localhost:8080/"
        },
        "outputId": "c1c68ba8-e8f3-494b-8b2d-1aca7d7a5f51"
      },
      "outputs": [
        {
          "output_type": "execute_result",
          "data": {
            "text/plain": [
              "((729322, 12), (729322,))"
            ]
          },
          "metadata": {},
          "execution_count": 14
        }
      ],
      "source": [
        "#seperating independent and dependent variables\n",
        "x = data.drop(['trip_duration'], axis=1)\n",
        "y = data['trip_duration']\n",
        "x.shape, y.shape"
      ]
    },
    {
      "cell_type": "markdown",
      "metadata": {
        "id": "lflLCUkEgCYc"
      },
      "source": [
        "### Scaling the data (Using MinMax Scaler)"
      ]
    },
    {
      "cell_type": "code",
      "execution_count": null,
      "metadata": {
        "id": "n_fh-4zPgCYe"
      },
      "outputs": [],
      "source": [
        "## Importing the MinMax Scaler\n",
        "from sklearn.preprocessing import MinMaxScaler\n",
        "scaler = MinMaxScaler()\n",
        "x_scaled = scaler.fit_transform(x)"
      ]
    },
    {
      "cell_type": "code",
      "execution_count": null,
      "metadata": {
        "id": "_EVo2H04gCYf"
      },
      "outputs": [],
      "source": [
        "x = pd.DataFrame(x_scaled, columns = x.columns)"
      ]
    },
    {
      "cell_type": "code",
      "execution_count": null,
      "metadata": {
        "id": "MF6VAApngCYf",
        "colab": {
          "base_uri": "https://localhost:8080/",
          "height": 270
        },
        "outputId": "416fd8d4-a4e4-4d90-9294-4388e46581cc"
      },
      "outputs": [
        {
          "output_type": "execute_result",
          "data": {
            "text/plain": [
              "   passenger_count  pickuphour  pickupday  pickupmonth  dropoffhour  \\\n",
              "0         0.111111    0.695652   0.000000          0.2     0.695652   \n",
              "1         0.222222    1.000000   0.666667          0.4     1.000000   \n",
              "2         0.222222    0.739130   1.000000          0.2     0.782609   \n",
              "3         0.666667    0.391304   0.166667          0.0     0.434783   \n",
              "4         0.111111    0.260870   0.333333          0.2     0.260870   \n",
              "\n",
              "   dropoffday  dropoffmonth  store_and_fwd_encoded  vendor_id_1  vendor_id_2  \\\n",
              "0    0.000000      0.166667                    0.0          0.0          1.0   \n",
              "1    0.666667      0.333333                    0.0          1.0          0.0   \n",
              "2    1.000000      0.166667                    0.0          0.0          1.0   \n",
              "3    0.166667      0.000000                    0.0          0.0          1.0   \n",
              "4    0.333333      0.166667                    0.0          1.0          0.0   \n",
              "\n",
              "   store_and_fwd_flag_N  store_and_fwd_flag_Y  \n",
              "0                   1.0                   0.0  \n",
              "1                   1.0                   0.0  \n",
              "2                   1.0                   0.0  \n",
              "3                   1.0                   0.0  \n",
              "4                   1.0                   0.0  "
            ],
            "text/html": [
              "\n",
              "  <div id=\"df-6eef4cc8-9dd1-4ec7-85f6-6c4fa531b3a2\">\n",
              "    <div class=\"colab-df-container\">\n",
              "      <div>\n",
              "<style scoped>\n",
              "    .dataframe tbody tr th:only-of-type {\n",
              "        vertical-align: middle;\n",
              "    }\n",
              "\n",
              "    .dataframe tbody tr th {\n",
              "        vertical-align: top;\n",
              "    }\n",
              "\n",
              "    .dataframe thead th {\n",
              "        text-align: right;\n",
              "    }\n",
              "</style>\n",
              "<table border=\"1\" class=\"dataframe\">\n",
              "  <thead>\n",
              "    <tr style=\"text-align: right;\">\n",
              "      <th></th>\n",
              "      <th>passenger_count</th>\n",
              "      <th>pickuphour</th>\n",
              "      <th>pickupday</th>\n",
              "      <th>pickupmonth</th>\n",
              "      <th>dropoffhour</th>\n",
              "      <th>dropoffday</th>\n",
              "      <th>dropoffmonth</th>\n",
              "      <th>store_and_fwd_encoded</th>\n",
              "      <th>vendor_id_1</th>\n",
              "      <th>vendor_id_2</th>\n",
              "      <th>store_and_fwd_flag_N</th>\n",
              "      <th>store_and_fwd_flag_Y</th>\n",
              "    </tr>\n",
              "  </thead>\n",
              "  <tbody>\n",
              "    <tr>\n",
              "      <th>0</th>\n",
              "      <td>0.111111</td>\n",
              "      <td>0.695652</td>\n",
              "      <td>0.000000</td>\n",
              "      <td>0.2</td>\n",
              "      <td>0.695652</td>\n",
              "      <td>0.000000</td>\n",
              "      <td>0.166667</td>\n",
              "      <td>0.0</td>\n",
              "      <td>0.0</td>\n",
              "      <td>1.0</td>\n",
              "      <td>1.0</td>\n",
              "      <td>0.0</td>\n",
              "    </tr>\n",
              "    <tr>\n",
              "      <th>1</th>\n",
              "      <td>0.222222</td>\n",
              "      <td>1.000000</td>\n",
              "      <td>0.666667</td>\n",
              "      <td>0.4</td>\n",
              "      <td>1.000000</td>\n",
              "      <td>0.666667</td>\n",
              "      <td>0.333333</td>\n",
              "      <td>0.0</td>\n",
              "      <td>1.0</td>\n",
              "      <td>0.0</td>\n",
              "      <td>1.0</td>\n",
              "      <td>0.0</td>\n",
              "    </tr>\n",
              "    <tr>\n",
              "      <th>2</th>\n",
              "      <td>0.222222</td>\n",
              "      <td>0.739130</td>\n",
              "      <td>1.000000</td>\n",
              "      <td>0.2</td>\n",
              "      <td>0.782609</td>\n",
              "      <td>1.000000</td>\n",
              "      <td>0.166667</td>\n",
              "      <td>0.0</td>\n",
              "      <td>0.0</td>\n",
              "      <td>1.0</td>\n",
              "      <td>1.0</td>\n",
              "      <td>0.0</td>\n",
              "    </tr>\n",
              "    <tr>\n",
              "      <th>3</th>\n",
              "      <td>0.666667</td>\n",
              "      <td>0.391304</td>\n",
              "      <td>0.166667</td>\n",
              "      <td>0.0</td>\n",
              "      <td>0.434783</td>\n",
              "      <td>0.166667</td>\n",
              "      <td>0.000000</td>\n",
              "      <td>0.0</td>\n",
              "      <td>0.0</td>\n",
              "      <td>1.0</td>\n",
              "      <td>1.0</td>\n",
              "      <td>0.0</td>\n",
              "    </tr>\n",
              "    <tr>\n",
              "      <th>4</th>\n",
              "      <td>0.111111</td>\n",
              "      <td>0.260870</td>\n",
              "      <td>0.333333</td>\n",
              "      <td>0.2</td>\n",
              "      <td>0.260870</td>\n",
              "      <td>0.333333</td>\n",
              "      <td>0.166667</td>\n",
              "      <td>0.0</td>\n",
              "      <td>1.0</td>\n",
              "      <td>0.0</td>\n",
              "      <td>1.0</td>\n",
              "      <td>0.0</td>\n",
              "    </tr>\n",
              "  </tbody>\n",
              "</table>\n",
              "</div>\n",
              "      <button class=\"colab-df-convert\" onclick=\"convertToInteractive('df-6eef4cc8-9dd1-4ec7-85f6-6c4fa531b3a2')\"\n",
              "              title=\"Convert this dataframe to an interactive table.\"\n",
              "              style=\"display:none;\">\n",
              "        \n",
              "  <svg xmlns=\"http://www.w3.org/2000/svg\" height=\"24px\"viewBox=\"0 0 24 24\"\n",
              "       width=\"24px\">\n",
              "    <path d=\"M0 0h24v24H0V0z\" fill=\"none\"/>\n",
              "    <path d=\"M18.56 5.44l.94 2.06.94-2.06 2.06-.94-2.06-.94-.94-2.06-.94 2.06-2.06.94zm-11 1L8.5 8.5l.94-2.06 2.06-.94-2.06-.94L8.5 2.5l-.94 2.06-2.06.94zm10 10l.94 2.06.94-2.06 2.06-.94-2.06-.94-.94-2.06-.94 2.06-2.06.94z\"/><path d=\"M17.41 7.96l-1.37-1.37c-.4-.4-.92-.59-1.43-.59-.52 0-1.04.2-1.43.59L10.3 9.45l-7.72 7.72c-.78.78-.78 2.05 0 2.83L4 21.41c.39.39.9.59 1.41.59.51 0 1.02-.2 1.41-.59l7.78-7.78 2.81-2.81c.8-.78.8-2.07 0-2.86zM5.41 20L4 18.59l7.72-7.72 1.47 1.35L5.41 20z\"/>\n",
              "  </svg>\n",
              "      </button>\n",
              "      \n",
              "  <style>\n",
              "    .colab-df-container {\n",
              "      display:flex;\n",
              "      flex-wrap:wrap;\n",
              "      gap: 12px;\n",
              "    }\n",
              "\n",
              "    .colab-df-convert {\n",
              "      background-color: #E8F0FE;\n",
              "      border: none;\n",
              "      border-radius: 50%;\n",
              "      cursor: pointer;\n",
              "      display: none;\n",
              "      fill: #1967D2;\n",
              "      height: 32px;\n",
              "      padding: 0 0 0 0;\n",
              "      width: 32px;\n",
              "    }\n",
              "\n",
              "    .colab-df-convert:hover {\n",
              "      background-color: #E2EBFA;\n",
              "      box-shadow: 0px 1px 2px rgba(60, 64, 67, 0.3), 0px 1px 3px 1px rgba(60, 64, 67, 0.15);\n",
              "      fill: #174EA6;\n",
              "    }\n",
              "\n",
              "    [theme=dark] .colab-df-convert {\n",
              "      background-color: #3B4455;\n",
              "      fill: #D2E3FC;\n",
              "    }\n",
              "\n",
              "    [theme=dark] .colab-df-convert:hover {\n",
              "      background-color: #434B5C;\n",
              "      box-shadow: 0px 1px 3px 1px rgba(0, 0, 0, 0.15);\n",
              "      filter: drop-shadow(0px 1px 2px rgba(0, 0, 0, 0.3));\n",
              "      fill: #FFFFFF;\n",
              "    }\n",
              "  </style>\n",
              "\n",
              "      <script>\n",
              "        const buttonEl =\n",
              "          document.querySelector('#df-6eef4cc8-9dd1-4ec7-85f6-6c4fa531b3a2 button.colab-df-convert');\n",
              "        buttonEl.style.display =\n",
              "          google.colab.kernel.accessAllowed ? 'block' : 'none';\n",
              "\n",
              "        async function convertToInteractive(key) {\n",
              "          const element = document.querySelector('#df-6eef4cc8-9dd1-4ec7-85f6-6c4fa531b3a2');\n",
              "          const dataTable =\n",
              "            await google.colab.kernel.invokeFunction('convertToInteractive',\n",
              "                                                     [key], {});\n",
              "          if (!dataTable) return;\n",
              "\n",
              "          const docLinkHtml = 'Like what you see? Visit the ' +\n",
              "            '<a target=\"_blank\" href=https://colab.research.google.com/notebooks/data_table.ipynb>data table notebook</a>'\n",
              "            + ' to learn more about interactive tables.';\n",
              "          element.innerHTML = '';\n",
              "          dataTable['output_type'] = 'display_data';\n",
              "          await google.colab.output.renderOutput(dataTable, element);\n",
              "          const docLink = document.createElement('div');\n",
              "          docLink.innerHTML = docLinkHtml;\n",
              "          element.appendChild(docLink);\n",
              "        }\n",
              "      </script>\n",
              "    </div>\n",
              "  </div>\n",
              "  "
            ]
          },
          "metadata": {},
          "execution_count": 17
        }
      ],
      "source": [
        "x.head()"
      ]
    },
    {
      "cell_type": "code",
      "source": [
        "# Importing Train test split\n",
        "from sklearn.model_selection import train_test_split\n",
        "train_x,test_x,train_y,test_y = train_test_split(x,y, random_state = 56)"
      ],
      "metadata": {
        "id": "DcgjYbACq2gA"
      },
      "execution_count": null,
      "outputs": []
    },
    {
      "cell_type": "code",
      "source": [
        "# Importing the predictive models\n",
        "from sklearn.neighbors import KNeighborsRegressor\n",
        "from sklearn.linear_model import Ridge\n",
        "from sklearn.ensemble import RandomForestRegressor\n",
        "from sklearn.ensemble import GradientBoostingRegressor"
      ],
      "metadata": {
        "id": "1otriG7yq_eu"
      },
      "execution_count": null,
      "outputs": []
    },
    {
      "cell_type": "markdown",
      "metadata": {
        "id": "D-awUNTQQJrB"
      },
      "source": [
        "## KNeighbors Regressor model\n"
      ]
    },
    {
      "cell_type": "code",
      "source": [
        "# creating a knn instance\n",
        "model1 = KNeighborsRegressor(n_neighbors=2)\n",
        "\n",
        "#training the model\n",
        "model1.fit(train_x,train_y)\n",
        "\n",
        "pred1=model1.predict(test_x)\n",
        "\n",
        "# Evaluating the KNeighbors Regressor model using score\n",
        "pred1[:10], model1.score(test_x, test_y)"
      ],
      "metadata": {
        "colab": {
          "base_uri": "https://localhost:8080/"
        },
        "id": "6TQ3Rop4JcYl",
        "outputId": "cd2554b9-fd90-41b1-9efd-5d3973678b3c"
      },
      "execution_count": null,
      "outputs": [
        {
          "output_type": "execute_result",
          "data": {
            "text/plain": [
              "(array([ 931.5,  721.5,  528. , 1178. ,  813. ,  874. ,  322.5, 1341.5,\n",
              "        1010. ,  965.5]), 0.7441862413787768)"
            ]
          },
          "metadata": {},
          "execution_count": 20
        }
      ]
    },
    {
      "cell_type": "markdown",
      "source": [
        "* The Knn regressor scored pretty good."
      ],
      "metadata": {
        "id": "eB7nFClXRTqX"
      }
    },
    {
      "cell_type": "markdown",
      "metadata": {
        "id": "r8sfVs_-RBdc"
      },
      "source": [
        "## Ridge Regression model\n"
      ]
    },
    {
      "cell_type": "code",
      "source": [
        "model2 = Ridge(alpha=1.5)\n",
        "model2.fit(train_x, train_y)\n",
        "pred2=model2.predict(test_x)\n",
        "\n",
        "# Evaluating the Ridge Regression model using score\n",
        "pred2[:10], model2.score(test_x, test_y)"
      ],
      "metadata": {
        "colab": {
          "base_uri": "https://localhost:8080/"
        },
        "id": "bhUH35TnOFFT",
        "outputId": "e1312abb-65dc-4c60-bb4f-7ddc143f84a2"
      },
      "execution_count": null,
      "outputs": [
        {
          "output_type": "execute_result",
          "data": {
            "text/plain": [
              "(array([ 794.47717293, 1075.34203686, 1034.47864732,  808.47986679,\n",
              "         887.16881083, 1036.51022929, 1001.72529889, 1064.79402949,\n",
              "        1034.3731249 ,  769.81664162]), 0.008935395769454013)"
            ]
          },
          "metadata": {},
          "execution_count": 21
        }
      ]
    },
    {
      "cell_type": "markdown",
      "source": [
        "* The ridge model did not perform well. The data was well cleaned but it still is very bad."
      ],
      "metadata": {
        "id": "BNVjHm7pRdo3"
      }
    },
    {
      "cell_type": "markdown",
      "metadata": {
        "id": "KwzdkrE1RJDg"
      },
      "source": [
        "## Random Forest Regressor model\n"
      ]
    },
    {
      "cell_type": "code",
      "source": [
        "#creating a random forest instance\n",
        "model3 = RandomForestRegressor(random_state=96, n_estimators=100)\n",
        "\n",
        "#training the model\n",
        "model3.fit(train_x,train_y)\n",
        "pred3=model3.predict(test_x)\n",
        "\n",
        "#Evaluating the Random Forest Regressor model using score\n",
        "pred3[:10], model3.score(test_x, test_y)"
      ],
      "metadata": {
        "colab": {
          "base_uri": "https://localhost:8080/"
        },
        "id": "XU_NHTGkVL-Q",
        "outputId": "05bee069-725f-4105-a56b-816bbb9bbdcf"
      },
      "execution_count": null,
      "outputs": [
        {
          "output_type": "execute_result",
          "data": {
            "text/plain": [
              "(array([ 683.35042143, 1076.38076319,  602.54747879,  533.40283144,\n",
              "         820.30899896, 1236.13548613,  601.54468516,  681.05748668,\n",
              "        1234.66966303,  665.02916505]), 0.9241511426209903)"
            ]
          },
          "metadata": {},
          "execution_count": 22
        }
      ]
    },
    {
      "cell_type": "markdown",
      "source": [
        "* The Random forest model gave one of the best results. "
      ],
      "metadata": {
        "id": "0i9OWS6HRpoj"
      }
    },
    {
      "cell_type": "markdown",
      "metadata": {
        "id": "HmPfrWrDRIEx"
      },
      "source": [
        "## Gradient Boosting Regressor model\n"
      ]
    },
    {
      "cell_type": "code",
      "source": [
        "#creating an Gradient boosting instance\n",
        "model4 = GradientBoostingRegressor(random_state=96, n_estimators=200, subsample=0.7)\n",
        "\n",
        "#training the model\n",
        "model4.fit(train_x,train_y)\n",
        "pred4=model4.predict(test_x)\n",
        "\n",
        "#Evaluating the Gradient Boosting Regressor model using score\n",
        "pred4[:10], model4.score(test_x, test_y)"
      ],
      "metadata": {
        "colab": {
          "base_uri": "https://localhost:8080/"
        },
        "id": "5btxSWLTX29P",
        "outputId": "1919d895-4e1b-4bfe-eb51-acd5baca81a6"
      },
      "execution_count": null,
      "outputs": [
        {
          "output_type": "execute_result",
          "data": {
            "text/plain": [
              "(array([ 621.87784718,  899.93331365,  749.91814257,  608.40697561,\n",
              "         895.43757917,  975.57685477,  750.80571303,  749.46008197,\n",
              "        1006.11704653,  649.9668565 ]), 0.655618575204646)"
            ]
          },
          "metadata": {},
          "execution_count": 23
        }
      ]
    },
    {
      "cell_type": "markdown",
      "source": [
        "* The Gradient Boosting gave a decent score too."
      ],
      "metadata": {
        "id": "A7mgFhQ0Ry2Z"
      }
    },
    {
      "cell_type": "markdown",
      "source": [
        "# The Final Prediction Model using the Averaging technique"
      ],
      "metadata": {
        "id": "y4KmALcMR7ub"
      }
    },
    {
      "cell_type": "code",
      "source": [
        "#creating a new dataframe with all the model's predictions and the actual prediction\n",
        "df = pd.DataFrame(columns=['KNN_MODEL', 'LINEAR_MODEL', 'RANDOMFOREST_MODEL','GRADIENTBOOSTING_MODEL','Actual'])\n",
        "df['KNN_MODEL'] = pred1\n",
        "df['LINEAR_MODEL'] = pred2\n",
        "df['RANDOMFOREST_MODEL'] = pred3\n",
        "df['GRADIENTBOOSTING_MODEL'] = pred4\n",
        "df['Actual'] = np.array(test_y)"
      ],
      "metadata": {
        "id": "ed_ele-BZoaJ"
      },
      "execution_count": null,
      "outputs": []
    },
    {
      "cell_type": "code",
      "source": [
        "df.head()"
      ],
      "metadata": {
        "colab": {
          "base_uri": "https://localhost:8080/",
          "height": 206
        },
        "id": "E11MR0L4K6Rb",
        "outputId": "ad9bc27c-b7b4-4479-c899-dd6ab38b3003"
      },
      "execution_count": null,
      "outputs": [
        {
          "output_type": "execute_result",
          "data": {
            "text/plain": [
              "   KNN_MODEL  LINEAR_MODEL  RANDOMFOREST_MODEL  GRADIENTBOOSTING_MODEL  Actual\n",
              "0      931.5    794.477173          683.350421              621.877847    2406\n",
              "1      721.5   1075.342037         1076.380763              899.933314    1457\n",
              "2      528.0   1034.478647          602.547479              749.918143     163\n",
              "3     1178.0    808.479867          533.402831              608.406976    2160\n",
              "4      813.0    887.168811          820.308999              895.437579     402"
            ],
            "text/html": [
              "\n",
              "  <div id=\"df-aa5be52f-e0a7-482f-98ce-6331bf9e1cdc\">\n",
              "    <div class=\"colab-df-container\">\n",
              "      <div>\n",
              "<style scoped>\n",
              "    .dataframe tbody tr th:only-of-type {\n",
              "        vertical-align: middle;\n",
              "    }\n",
              "\n",
              "    .dataframe tbody tr th {\n",
              "        vertical-align: top;\n",
              "    }\n",
              "\n",
              "    .dataframe thead th {\n",
              "        text-align: right;\n",
              "    }\n",
              "</style>\n",
              "<table border=\"1\" class=\"dataframe\">\n",
              "  <thead>\n",
              "    <tr style=\"text-align: right;\">\n",
              "      <th></th>\n",
              "      <th>KNN_MODEL</th>\n",
              "      <th>LINEAR_MODEL</th>\n",
              "      <th>RANDOMFOREST_MODEL</th>\n",
              "      <th>GRADIENTBOOSTING_MODEL</th>\n",
              "      <th>Actual</th>\n",
              "    </tr>\n",
              "  </thead>\n",
              "  <tbody>\n",
              "    <tr>\n",
              "      <th>0</th>\n",
              "      <td>931.5</td>\n",
              "      <td>794.477173</td>\n",
              "      <td>683.350421</td>\n",
              "      <td>621.877847</td>\n",
              "      <td>2406</td>\n",
              "    </tr>\n",
              "    <tr>\n",
              "      <th>1</th>\n",
              "      <td>721.5</td>\n",
              "      <td>1075.342037</td>\n",
              "      <td>1076.380763</td>\n",
              "      <td>899.933314</td>\n",
              "      <td>1457</td>\n",
              "    </tr>\n",
              "    <tr>\n",
              "      <th>2</th>\n",
              "      <td>528.0</td>\n",
              "      <td>1034.478647</td>\n",
              "      <td>602.547479</td>\n",
              "      <td>749.918143</td>\n",
              "      <td>163</td>\n",
              "    </tr>\n",
              "    <tr>\n",
              "      <th>3</th>\n",
              "      <td>1178.0</td>\n",
              "      <td>808.479867</td>\n",
              "      <td>533.402831</td>\n",
              "      <td>608.406976</td>\n",
              "      <td>2160</td>\n",
              "    </tr>\n",
              "    <tr>\n",
              "      <th>4</th>\n",
              "      <td>813.0</td>\n",
              "      <td>887.168811</td>\n",
              "      <td>820.308999</td>\n",
              "      <td>895.437579</td>\n",
              "      <td>402</td>\n",
              "    </tr>\n",
              "  </tbody>\n",
              "</table>\n",
              "</div>\n",
              "      <button class=\"colab-df-convert\" onclick=\"convertToInteractive('df-aa5be52f-e0a7-482f-98ce-6331bf9e1cdc')\"\n",
              "              title=\"Convert this dataframe to an interactive table.\"\n",
              "              style=\"display:none;\">\n",
              "        \n",
              "  <svg xmlns=\"http://www.w3.org/2000/svg\" height=\"24px\"viewBox=\"0 0 24 24\"\n",
              "       width=\"24px\">\n",
              "    <path d=\"M0 0h24v24H0V0z\" fill=\"none\"/>\n",
              "    <path d=\"M18.56 5.44l.94 2.06.94-2.06 2.06-.94-2.06-.94-.94-2.06-.94 2.06-2.06.94zm-11 1L8.5 8.5l.94-2.06 2.06-.94-2.06-.94L8.5 2.5l-.94 2.06-2.06.94zm10 10l.94 2.06.94-2.06 2.06-.94-2.06-.94-.94-2.06-.94 2.06-2.06.94z\"/><path d=\"M17.41 7.96l-1.37-1.37c-.4-.4-.92-.59-1.43-.59-.52 0-1.04.2-1.43.59L10.3 9.45l-7.72 7.72c-.78.78-.78 2.05 0 2.83L4 21.41c.39.39.9.59 1.41.59.51 0 1.02-.2 1.41-.59l7.78-7.78 2.81-2.81c.8-.78.8-2.07 0-2.86zM5.41 20L4 18.59l7.72-7.72 1.47 1.35L5.41 20z\"/>\n",
              "  </svg>\n",
              "      </button>\n",
              "      \n",
              "  <style>\n",
              "    .colab-df-container {\n",
              "      display:flex;\n",
              "      flex-wrap:wrap;\n",
              "      gap: 12px;\n",
              "    }\n",
              "\n",
              "    .colab-df-convert {\n",
              "      background-color: #E8F0FE;\n",
              "      border: none;\n",
              "      border-radius: 50%;\n",
              "      cursor: pointer;\n",
              "      display: none;\n",
              "      fill: #1967D2;\n",
              "      height: 32px;\n",
              "      padding: 0 0 0 0;\n",
              "      width: 32px;\n",
              "    }\n",
              "\n",
              "    .colab-df-convert:hover {\n",
              "      background-color: #E2EBFA;\n",
              "      box-shadow: 0px 1px 2px rgba(60, 64, 67, 0.3), 0px 1px 3px 1px rgba(60, 64, 67, 0.15);\n",
              "      fill: #174EA6;\n",
              "    }\n",
              "\n",
              "    [theme=dark] .colab-df-convert {\n",
              "      background-color: #3B4455;\n",
              "      fill: #D2E3FC;\n",
              "    }\n",
              "\n",
              "    [theme=dark] .colab-df-convert:hover {\n",
              "      background-color: #434B5C;\n",
              "      box-shadow: 0px 1px 3px 1px rgba(0, 0, 0, 0.15);\n",
              "      filter: drop-shadow(0px 1px 2px rgba(0, 0, 0, 0.3));\n",
              "      fill: #FFFFFF;\n",
              "    }\n",
              "  </style>\n",
              "\n",
              "      <script>\n",
              "        const buttonEl =\n",
              "          document.querySelector('#df-aa5be52f-e0a7-482f-98ce-6331bf9e1cdc button.colab-df-convert');\n",
              "        buttonEl.style.display =\n",
              "          google.colab.kernel.accessAllowed ? 'block' : 'none';\n",
              "\n",
              "        async function convertToInteractive(key) {\n",
              "          const element = document.querySelector('#df-aa5be52f-e0a7-482f-98ce-6331bf9e1cdc');\n",
              "          const dataTable =\n",
              "            await google.colab.kernel.invokeFunction('convertToInteractive',\n",
              "                                                     [key], {});\n",
              "          if (!dataTable) return;\n",
              "\n",
              "          const docLinkHtml = 'Like what you see? Visit the ' +\n",
              "            '<a target=\"_blank\" href=https://colab.research.google.com/notebooks/data_table.ipynb>data table notebook</a>'\n",
              "            + ' to learn more about interactive tables.';\n",
              "          element.innerHTML = '';\n",
              "          dataTable['output_type'] = 'display_data';\n",
              "          await google.colab.output.renderOutput(dataTable, element);\n",
              "          const docLink = document.createElement('div');\n",
              "          docLink.innerHTML = docLinkHtml;\n",
              "          element.appendChild(docLink);\n",
              "        }\n",
              "      </script>\n",
              "    </div>\n",
              "  </div>\n",
              "  "
            ]
          },
          "metadata": {},
          "execution_count": 25
        }
      ]
    },
    {
      "cell_type": "code",
      "source": [
        "#calculating the final_predictions from taking the mean of predictions of all the models\n",
        "from statistics import mean\n",
        "final_pred = np.array([])\n",
        "for i in range(0,len(test_x)):\n",
        "    final_pred = np.append(final_pred, mean([pred1[i], pred2[i], pred3[i], pred4[i]]))"
      ],
      "metadata": {
        "id": "M9t0IdrLZoM0"
      },
      "execution_count": null,
      "outputs": []
    },
    {
      "cell_type": "code",
      "source": [
        "#importing r2_score\n",
        "from sklearn.metrics import r2_score"
      ],
      "metadata": {
        "id": "w6dmhNIOJHbD"
      },
      "execution_count": null,
      "outputs": []
    },
    {
      "cell_type": "code",
      "source": [
        "r2_score(test_y, pred1), r2_score(test_y, pred2), r2_score(test_y, pred3), r2_score(test_y, pred4)"
      ],
      "metadata": {
        "colab": {
          "base_uri": "https://localhost:8080/"
        },
        "id": "NCF7c2W9JHSJ",
        "outputId": "c65618d2-f652-41c3-fbf6-f6d45de4ee34"
      },
      "execution_count": null,
      "outputs": [
        {
          "output_type": "execute_result",
          "data": {
            "text/plain": [
              "(0.7441862413787768,\n",
              " 0.008935395769454013,\n",
              " 0.9241511426209903,\n",
              " 0.655618575204646)"
            ]
          },
          "metadata": {},
          "execution_count": 28
        }
      ]
    },
    {
      "cell_type": "code",
      "source": [
        "r2_score(test_y, final_pred)"
      ],
      "metadata": {
        "colab": {
          "base_uri": "https://localhost:8080/"
        },
        "id": "bTLmHT_RJHV8",
        "outputId": "eb2e75ac-4fbf-47a2-822a-54e28a4ef592"
      },
      "execution_count": null,
      "outputs": [
        {
          "output_type": "execute_result",
          "data": {
            "text/plain": [
              "0.7691518573947"
            ]
          },
          "metadata": {},
          "execution_count": 29
        }
      ]
    },
    {
      "cell_type": "markdown",
      "source": [
        "* The final prediction score comes out to be 0.77 which is pretty good."
      ],
      "metadata": {
        "id": "M_5kqa5jSooJ"
      }
    }
  ]
}