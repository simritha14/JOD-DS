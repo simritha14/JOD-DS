{
  "cells": [
    {
      "cell_type": "markdown",
      "id": "520b3dd4",
      "metadata": {
        "id": "520b3dd4"
      },
      "source": [
        "#Building Basic predictive models over the NYC Taxi Trip dataset."
      ]
    },
    {
      "cell_type": "markdown",
      "source": [
        "\n",
        "Models to build :\n",
        "\n",
        "*   Benchmark Model\n",
        "*   Knn Model\n",
        "*   Linear Model\n",
        "*   Decision Tree Model\n",
        "\n",
        "\n",
        "\n",
        "\n",
        "\n"
      ],
      "metadata": {
        "id": "k07R-sZxN1xW"
      },
      "id": "k07R-sZxN1xW"
    },
    {
      "cell_type": "markdown",
      "source": [
        "MEAN SQUARED ERROR: \n",
        "\n",
        "- We are using the MEAN SQUARED ERROR in this project as we are dealing with a regression based problem.\n",
        "\n",
        "- We prefer MSE over Mean Alsolute Error as it provides a gross idea of the magnitude of error. "
      ],
      "metadata": {
        "id": "ISfAJKndSU2U"
      },
      "id": "ISfAJKndSU2U"
    },
    {
      "cell_type": "markdown",
      "id": "52690c18",
      "metadata": {
        "id": "52690c18"
      },
      "source": [
        "#### Importing Libraries"
      ]
    },
    {
      "cell_type": "code",
      "execution_count": null,
      "id": "d04dc402",
      "metadata": {
        "id": "d04dc402"
      },
      "outputs": [],
      "source": [
        "#importing libraries \n",
        "\n",
        "import pandas as pd \n",
        "import numpy as np\n",
        "import seaborn as sns\n",
        "import matplotlib.pyplot as plt\n",
        "import warnings\n",
        "warnings.filterwarnings('ignore')"
      ]
    },
    {
      "cell_type": "markdown",
      "id": "bcb44856",
      "metadata": {
        "id": "bcb44856"
      },
      "source": [
        "#### Importing Dataset"
      ]
    },
    {
      "cell_type": "code",
      "source": [
        "\n",
        "dat = pd.read_csv('nyc_taxi_trip_duration Dataset.csv')\n",
        "dat.shape\n"
      ],
      "metadata": {
        "id": "3gsIpKQvr-26",
        "colab": {
          "base_uri": "https://localhost:8080/"
        },
        "outputId": "217f40d0-b819-42a4-88d6-5a440370b6c9"
      },
      "id": "3gsIpKQvr-26",
      "execution_count": null,
      "outputs": [
        {
          "output_type": "execute_result",
          "data": {
            "text/plain": [
              "(729322, 11)"
            ]
          },
          "metadata": {},
          "execution_count": 53
        }
      ]
    },
    {
      "cell_type": "markdown",
      "id": "3651a389",
      "metadata": {
        "id": "3651a389"
      },
      "source": [
        "## Cleaning the Dataset\n",
        "To use the data we need to clean it first"
      ]
    },
    {
      "cell_type": "code",
      "execution_count": null,
      "id": "735d6470",
      "metadata": {
        "scrolled": true,
        "id": "735d6470",
        "colab": {
          "base_uri": "https://localhost:8080/"
        },
        "outputId": "58a0c1c2-bc8a-44b6-c1fd-8a42e41594da"
      },
      "outputs": [
        {
          "output_type": "execute_result",
          "data": {
            "text/plain": [
              "id                     object\n",
              "vendor_id               int64\n",
              "pickup_datetime        object\n",
              "dropoff_datetime       object\n",
              "passenger_count         int64\n",
              "pickup_longitude      float64\n",
              "pickup_latitude       float64\n",
              "dropoff_longitude     float64\n",
              "dropoff_latitude      float64\n",
              "store_and_fwd_flag     object\n",
              "trip_duration           int64\n",
              "dtype: object"
            ]
          },
          "metadata": {},
          "execution_count": 54
        }
      ],
      "source": [
        "dat.dtypes"
      ]
    },
    {
      "cell_type": "code",
      "execution_count": null,
      "id": "0fb2e0db",
      "metadata": {
        "scrolled": true,
        "id": "0fb2e0db",
        "colab": {
          "base_uri": "https://localhost:8080/",
          "height": 357
        },
        "outputId": "17929560-50ae-412e-99c4-fe3554edbf81"
      },
      "outputs": [
        {
          "output_type": "execute_result",
          "data": {
            "text/html": [
              "\n",
              "  <div id=\"df-9219c7fc-3ae2-45ec-90c3-94becfcca608\">\n",
              "    <div class=\"colab-df-container\">\n",
              "      <div>\n",
              "<style scoped>\n",
              "    .dataframe tbody tr th:only-of-type {\n",
              "        vertical-align: middle;\n",
              "    }\n",
              "\n",
              "    .dataframe tbody tr th {\n",
              "        vertical-align: top;\n",
              "    }\n",
              "\n",
              "    .dataframe thead th {\n",
              "        text-align: right;\n",
              "    }\n",
              "</style>\n",
              "<table border=\"1\" class=\"dataframe\">\n",
              "  <thead>\n",
              "    <tr style=\"text-align: right;\">\n",
              "      <th></th>\n",
              "      <th>id</th>\n",
              "      <th>vendor_id</th>\n",
              "      <th>pickup_datetime</th>\n",
              "      <th>dropoff_datetime</th>\n",
              "      <th>passenger_count</th>\n",
              "      <th>pickup_longitude</th>\n",
              "      <th>pickup_latitude</th>\n",
              "      <th>dropoff_longitude</th>\n",
              "      <th>dropoff_latitude</th>\n",
              "      <th>store_and_fwd_flag</th>\n",
              "      <th>trip_duration</th>\n",
              "    </tr>\n",
              "  </thead>\n",
              "  <tbody>\n",
              "    <tr>\n",
              "      <th>0</th>\n",
              "      <td>id1080784</td>\n",
              "      <td>2</td>\n",
              "      <td>2016-02-29 16:40:21</td>\n",
              "      <td>2016-02-29 16:47:01</td>\n",
              "      <td>1</td>\n",
              "      <td>-73.953918</td>\n",
              "      <td>40.778873</td>\n",
              "      <td>-73.963875</td>\n",
              "      <td>40.771164</td>\n",
              "      <td>N</td>\n",
              "      <td>400</td>\n",
              "    </tr>\n",
              "    <tr>\n",
              "      <th>1</th>\n",
              "      <td>id0889885</td>\n",
              "      <td>1</td>\n",
              "      <td>2016-03-11 23:35:37</td>\n",
              "      <td>2016-03-11 23:53:57</td>\n",
              "      <td>2</td>\n",
              "      <td>-73.988312</td>\n",
              "      <td>40.731743</td>\n",
              "      <td>-73.994751</td>\n",
              "      <td>40.694931</td>\n",
              "      <td>N</td>\n",
              "      <td>1100</td>\n",
              "    </tr>\n",
              "    <tr>\n",
              "      <th>2</th>\n",
              "      <td>id0857912</td>\n",
              "      <td>2</td>\n",
              "      <td>2016-02-21 17:59:33</td>\n",
              "      <td>2016-02-21 18:26:48</td>\n",
              "      <td>2</td>\n",
              "      <td>-73.997314</td>\n",
              "      <td>40.721458</td>\n",
              "      <td>-73.948029</td>\n",
              "      <td>40.774918</td>\n",
              "      <td>N</td>\n",
              "      <td>1635</td>\n",
              "    </tr>\n",
              "    <tr>\n",
              "      <th>3</th>\n",
              "      <td>id3744273</td>\n",
              "      <td>2</td>\n",
              "      <td>2016-01-05 09:44:31</td>\n",
              "      <td>2016-01-05 10:03:32</td>\n",
              "      <td>6</td>\n",
              "      <td>-73.961670</td>\n",
              "      <td>40.759720</td>\n",
              "      <td>-73.956779</td>\n",
              "      <td>40.780628</td>\n",
              "      <td>N</td>\n",
              "      <td>1141</td>\n",
              "    </tr>\n",
              "    <tr>\n",
              "      <th>4</th>\n",
              "      <td>id0232939</td>\n",
              "      <td>1</td>\n",
              "      <td>2016-02-17 06:42:23</td>\n",
              "      <td>2016-02-17 06:56:31</td>\n",
              "      <td>1</td>\n",
              "      <td>-74.017120</td>\n",
              "      <td>40.708469</td>\n",
              "      <td>-73.988182</td>\n",
              "      <td>40.740631</td>\n",
              "      <td>N</td>\n",
              "      <td>848</td>\n",
              "    </tr>\n",
              "  </tbody>\n",
              "</table>\n",
              "</div>\n",
              "      <button class=\"colab-df-convert\" onclick=\"convertToInteractive('df-9219c7fc-3ae2-45ec-90c3-94becfcca608')\"\n",
              "              title=\"Convert this dataframe to an interactive table.\"\n",
              "              style=\"display:none;\">\n",
              "        \n",
              "  <svg xmlns=\"http://www.w3.org/2000/svg\" height=\"24px\"viewBox=\"0 0 24 24\"\n",
              "       width=\"24px\">\n",
              "    <path d=\"M0 0h24v24H0V0z\" fill=\"none\"/>\n",
              "    <path d=\"M18.56 5.44l.94 2.06.94-2.06 2.06-.94-2.06-.94-.94-2.06-.94 2.06-2.06.94zm-11 1L8.5 8.5l.94-2.06 2.06-.94-2.06-.94L8.5 2.5l-.94 2.06-2.06.94zm10 10l.94 2.06.94-2.06 2.06-.94-2.06-.94-.94-2.06-.94 2.06-2.06.94z\"/><path d=\"M17.41 7.96l-1.37-1.37c-.4-.4-.92-.59-1.43-.59-.52 0-1.04.2-1.43.59L10.3 9.45l-7.72 7.72c-.78.78-.78 2.05 0 2.83L4 21.41c.39.39.9.59 1.41.59.51 0 1.02-.2 1.41-.59l7.78-7.78 2.81-2.81c.8-.78.8-2.07 0-2.86zM5.41 20L4 18.59l7.72-7.72 1.47 1.35L5.41 20z\"/>\n",
              "  </svg>\n",
              "      </button>\n",
              "      \n",
              "  <style>\n",
              "    .colab-df-container {\n",
              "      display:flex;\n",
              "      flex-wrap:wrap;\n",
              "      gap: 12px;\n",
              "    }\n",
              "\n",
              "    .colab-df-convert {\n",
              "      background-color: #E8F0FE;\n",
              "      border: none;\n",
              "      border-radius: 50%;\n",
              "      cursor: pointer;\n",
              "      display: none;\n",
              "      fill: #1967D2;\n",
              "      height: 32px;\n",
              "      padding: 0 0 0 0;\n",
              "      width: 32px;\n",
              "    }\n",
              "\n",
              "    .colab-df-convert:hover {\n",
              "      background-color: #E2EBFA;\n",
              "      box-shadow: 0px 1px 2px rgba(60, 64, 67, 0.3), 0px 1px 3px 1px rgba(60, 64, 67, 0.15);\n",
              "      fill: #174EA6;\n",
              "    }\n",
              "\n",
              "    [theme=dark] .colab-df-convert {\n",
              "      background-color: #3B4455;\n",
              "      fill: #D2E3FC;\n",
              "    }\n",
              "\n",
              "    [theme=dark] .colab-df-convert:hover {\n",
              "      background-color: #434B5C;\n",
              "      box-shadow: 0px 1px 3px 1px rgba(0, 0, 0, 0.15);\n",
              "      filter: drop-shadow(0px 1px 2px rgba(0, 0, 0, 0.3));\n",
              "      fill: #FFFFFF;\n",
              "    }\n",
              "  </style>\n",
              "\n",
              "      <script>\n",
              "        const buttonEl =\n",
              "          document.querySelector('#df-9219c7fc-3ae2-45ec-90c3-94becfcca608 button.colab-df-convert');\n",
              "        buttonEl.style.display =\n",
              "          google.colab.kernel.accessAllowed ? 'block' : 'none';\n",
              "\n",
              "        async function convertToInteractive(key) {\n",
              "          const element = document.querySelector('#df-9219c7fc-3ae2-45ec-90c3-94becfcca608');\n",
              "          const dataTable =\n",
              "            await google.colab.kernel.invokeFunction('convertToInteractive',\n",
              "                                                     [key], {});\n",
              "          if (!dataTable) return;\n",
              "\n",
              "          const docLinkHtml = 'Like what you see? Visit the ' +\n",
              "            '<a target=\"_blank\" href=https://colab.research.google.com/notebooks/data_table.ipynb>data table notebook</a>'\n",
              "            + ' to learn more about interactive tables.';\n",
              "          element.innerHTML = '';\n",
              "          dataTable['output_type'] = 'display_data';\n",
              "          await google.colab.output.renderOutput(dataTable, element);\n",
              "          const docLink = document.createElement('div');\n",
              "          docLink.innerHTML = docLinkHtml;\n",
              "          element.appendChild(docLink);\n",
              "        }\n",
              "      </script>\n",
              "    </div>\n",
              "  </div>\n",
              "  "
            ],
            "text/plain": [
              "          id  vendor_id  ... store_and_fwd_flag trip_duration\n",
              "0  id1080784          2  ...                  N           400\n",
              "1  id0889885          1  ...                  N          1100\n",
              "2  id0857912          2  ...                  N          1635\n",
              "3  id3744273          2  ...                  N          1141\n",
              "4  id0232939          1  ...                  N           848\n",
              "\n",
              "[5 rows x 11 columns]"
            ]
          },
          "metadata": {},
          "execution_count": 55
        }
      ],
      "source": [
        "dat.head()"
      ]
    },
    {
      "cell_type": "markdown",
      "id": "7ecb68d1",
      "metadata": {
        "id": "7ecb68d1"
      },
      "source": [
        "### Typecasting the Variables"
      ]
    },
    {
      "cell_type": "code",
      "execution_count": null,
      "id": "1eef2348",
      "metadata": {
        "id": "1eef2348"
      },
      "outputs": [],
      "source": [
        "dat['vendor_id'] = dat['vendor_id'].astype('category')"
      ]
    },
    {
      "cell_type": "markdown",
      "source": [
        "- converting vendor_id to a category as it is a categorical variable"
      ],
      "metadata": {
        "id": "RU6TlhnhO617"
      },
      "id": "RU6TlhnhO617"
    },
    {
      "cell_type": "code",
      "execution_count": null,
      "id": "efa76e48",
      "metadata": {
        "id": "efa76e48"
      },
      "outputs": [],
      "source": [
        "dat['pickup_datetime'] = pd.to_datetime(dat.pickup_datetime)\n",
        "dat['dropoff_datetime'] = pd.to_datetime(dat.dropoff_datetime)"
      ]
    },
    {
      "cell_type": "markdown",
      "source": [
        "typecasting pickup_datetime and dropoff_datetime to datatime datatype to be able to extract thee following details\n",
        "\n",
        "*   pickup hour\n",
        "*   pickup day\n",
        "*   pickup month\n",
        "*   dropoff hour\n",
        "*   dropoff day\n",
        "*   dropoff month\n",
        "\n"
      ],
      "metadata": {
        "id": "SPJR0pAmPEhX"
      },
      "id": "SPJR0pAmPEhX"
    },
    {
      "cell_type": "code",
      "execution_count": null,
      "id": "88d47a19",
      "metadata": {
        "id": "88d47a19"
      },
      "outputs": [],
      "source": [
        "#using the function dt from datatime library\n",
        "dat['pickuphour']=dat.pickup_datetime.dt.hour\n",
        "dat['pickupday']=dat.pickup_datetime.dt.dayofweek\n",
        "dat['pickupmonth']=dat.pickup_datetime.dt.month\n",
        "dat['dropoffhour']=dat.dropoff_datetime.dt.hour\n",
        "dat['dropoffday']=dat.dropoff_datetime.dt.dayofweek\n",
        "dat['dropoffmonth']=dat.dropoff_datetime.dt.month"
      ]
    },
    {
      "cell_type": "code",
      "execution_count": null,
      "id": "577f4660",
      "metadata": {
        "id": "577f4660"
      },
      "outputs": [],
      "source": [
        "#encoding store_and_fwd_flag\n",
        "from sklearn.preprocessing import LabelEncoder\n",
        "label_encoder = LabelEncoder()\n",
        "dat['store_and_fwd_encoded'] = label_encoder.fit_transform(dat['store_and_fwd_flag'])"
      ]
    },
    {
      "cell_type": "markdown",
      "source": [
        "- encoding the store_and_fwd_flag variable for easy analyzing"
      ],
      "metadata": {
        "id": "AaVtkf5_QEaT"
      },
      "id": "AaVtkf5_QEaT"
    },
    {
      "cell_type": "markdown",
      "id": "8419b418",
      "metadata": {
        "id": "8419b418"
      },
      "source": [
        "### Missing Values"
      ]
    },
    {
      "cell_type": "code",
      "execution_count": null,
      "id": "29b9942c",
      "metadata": {
        "id": "29b9942c",
        "colab": {
          "base_uri": "https://localhost:8080/"
        },
        "outputId": "594fbfa9-97f7-47c8-e74d-252f6b1b7540"
      },
      "outputs": [
        {
          "output_type": "execute_result",
          "data": {
            "text/plain": [
              "id                       0\n",
              "vendor_id                0\n",
              "pickup_datetime          0\n",
              "dropoff_datetime         0\n",
              "passenger_count          0\n",
              "pickup_longitude         0\n",
              "pickup_latitude          0\n",
              "dropoff_longitude        0\n",
              "dropoff_latitude         0\n",
              "store_and_fwd_flag       0\n",
              "trip_duration            0\n",
              "pickuphour               0\n",
              "pickupday                0\n",
              "pickupmonth              0\n",
              "dropoffhour              0\n",
              "dropoffday               0\n",
              "dropoffmonth             0\n",
              "store_and_fwd_encoded    0\n",
              "dtype: int64"
            ]
          },
          "metadata": {},
          "execution_count": 60
        }
      ],
      "source": [
        "#checking for missing values\n",
        "dat.isnull().sum()"
      ]
    },
    {
      "cell_type": "markdown",
      "source": [
        "There are no missing values in our dataset so we can move forward"
      ],
      "metadata": {
        "id": "PR0UewPZQShh"
      },
      "id": "PR0UewPZQShh"
    },
    {
      "cell_type": "code",
      "execution_count": null,
      "id": "ddc449a0",
      "metadata": {
        "id": "ddc449a0"
      },
      "outputs": [],
      "source": [
        "#Removing Columns with less Significance\n",
        "data=dat.drop(['pickup_datetime','dropoff_datetime','id','pickup_longitude','pickup_latitude','dropoff_longitude','dropoff_latitude','store_and_fwd_flag'], axis=1)"
      ]
    },
    {
      "cell_type": "code",
      "execution_count": null,
      "id": "d46a8fae",
      "metadata": {
        "scrolled": true,
        "id": "d46a8fae",
        "colab": {
          "base_uri": "https://localhost:8080/",
          "height": 250
        },
        "outputId": "93bb2fca-c002-45c9-9c77-664c6d04c04d"
      },
      "outputs": [
        {
          "output_type": "execute_result",
          "data": {
            "text/html": [
              "\n",
              "  <div id=\"df-fe3b5323-1ecc-4d5c-8cb2-ac06c3d84ac2\">\n",
              "    <div class=\"colab-df-container\">\n",
              "      <div>\n",
              "<style scoped>\n",
              "    .dataframe tbody tr th:only-of-type {\n",
              "        vertical-align: middle;\n",
              "    }\n",
              "\n",
              "    .dataframe tbody tr th {\n",
              "        vertical-align: top;\n",
              "    }\n",
              "\n",
              "    .dataframe thead th {\n",
              "        text-align: right;\n",
              "    }\n",
              "</style>\n",
              "<table border=\"1\" class=\"dataframe\">\n",
              "  <thead>\n",
              "    <tr style=\"text-align: right;\">\n",
              "      <th></th>\n",
              "      <th>vendor_id</th>\n",
              "      <th>passenger_count</th>\n",
              "      <th>trip_duration</th>\n",
              "      <th>pickuphour</th>\n",
              "      <th>pickupday</th>\n",
              "      <th>pickupmonth</th>\n",
              "      <th>dropoffhour</th>\n",
              "      <th>dropoffday</th>\n",
              "      <th>dropoffmonth</th>\n",
              "      <th>store_and_fwd_encoded</th>\n",
              "    </tr>\n",
              "  </thead>\n",
              "  <tbody>\n",
              "    <tr>\n",
              "      <th>0</th>\n",
              "      <td>2</td>\n",
              "      <td>1</td>\n",
              "      <td>400</td>\n",
              "      <td>16</td>\n",
              "      <td>0</td>\n",
              "      <td>2</td>\n",
              "      <td>16</td>\n",
              "      <td>0</td>\n",
              "      <td>2</td>\n",
              "      <td>0</td>\n",
              "    </tr>\n",
              "    <tr>\n",
              "      <th>1</th>\n",
              "      <td>1</td>\n",
              "      <td>2</td>\n",
              "      <td>1100</td>\n",
              "      <td>23</td>\n",
              "      <td>4</td>\n",
              "      <td>3</td>\n",
              "      <td>23</td>\n",
              "      <td>4</td>\n",
              "      <td>3</td>\n",
              "      <td>0</td>\n",
              "    </tr>\n",
              "    <tr>\n",
              "      <th>2</th>\n",
              "      <td>2</td>\n",
              "      <td>2</td>\n",
              "      <td>1635</td>\n",
              "      <td>17</td>\n",
              "      <td>6</td>\n",
              "      <td>2</td>\n",
              "      <td>18</td>\n",
              "      <td>6</td>\n",
              "      <td>2</td>\n",
              "      <td>0</td>\n",
              "    </tr>\n",
              "    <tr>\n",
              "      <th>3</th>\n",
              "      <td>2</td>\n",
              "      <td>6</td>\n",
              "      <td>1141</td>\n",
              "      <td>9</td>\n",
              "      <td>1</td>\n",
              "      <td>1</td>\n",
              "      <td>10</td>\n",
              "      <td>1</td>\n",
              "      <td>1</td>\n",
              "      <td>0</td>\n",
              "    </tr>\n",
              "    <tr>\n",
              "      <th>4</th>\n",
              "      <td>1</td>\n",
              "      <td>1</td>\n",
              "      <td>848</td>\n",
              "      <td>6</td>\n",
              "      <td>2</td>\n",
              "      <td>2</td>\n",
              "      <td>6</td>\n",
              "      <td>2</td>\n",
              "      <td>2</td>\n",
              "      <td>0</td>\n",
              "    </tr>\n",
              "  </tbody>\n",
              "</table>\n",
              "</div>\n",
              "      <button class=\"colab-df-convert\" onclick=\"convertToInteractive('df-fe3b5323-1ecc-4d5c-8cb2-ac06c3d84ac2')\"\n",
              "              title=\"Convert this dataframe to an interactive table.\"\n",
              "              style=\"display:none;\">\n",
              "        \n",
              "  <svg xmlns=\"http://www.w3.org/2000/svg\" height=\"24px\"viewBox=\"0 0 24 24\"\n",
              "       width=\"24px\">\n",
              "    <path d=\"M0 0h24v24H0V0z\" fill=\"none\"/>\n",
              "    <path d=\"M18.56 5.44l.94 2.06.94-2.06 2.06-.94-2.06-.94-.94-2.06-.94 2.06-2.06.94zm-11 1L8.5 8.5l.94-2.06 2.06-.94-2.06-.94L8.5 2.5l-.94 2.06-2.06.94zm10 10l.94 2.06.94-2.06 2.06-.94-2.06-.94-.94-2.06-.94 2.06-2.06.94z\"/><path d=\"M17.41 7.96l-1.37-1.37c-.4-.4-.92-.59-1.43-.59-.52 0-1.04.2-1.43.59L10.3 9.45l-7.72 7.72c-.78.78-.78 2.05 0 2.83L4 21.41c.39.39.9.59 1.41.59.51 0 1.02-.2 1.41-.59l7.78-7.78 2.81-2.81c.8-.78.8-2.07 0-2.86zM5.41 20L4 18.59l7.72-7.72 1.47 1.35L5.41 20z\"/>\n",
              "  </svg>\n",
              "      </button>\n",
              "      \n",
              "  <style>\n",
              "    .colab-df-container {\n",
              "      display:flex;\n",
              "      flex-wrap:wrap;\n",
              "      gap: 12px;\n",
              "    }\n",
              "\n",
              "    .colab-df-convert {\n",
              "      background-color: #E8F0FE;\n",
              "      border: none;\n",
              "      border-radius: 50%;\n",
              "      cursor: pointer;\n",
              "      display: none;\n",
              "      fill: #1967D2;\n",
              "      height: 32px;\n",
              "      padding: 0 0 0 0;\n",
              "      width: 32px;\n",
              "    }\n",
              "\n",
              "    .colab-df-convert:hover {\n",
              "      background-color: #E2EBFA;\n",
              "      box-shadow: 0px 1px 2px rgba(60, 64, 67, 0.3), 0px 1px 3px 1px rgba(60, 64, 67, 0.15);\n",
              "      fill: #174EA6;\n",
              "    }\n",
              "\n",
              "    [theme=dark] .colab-df-convert {\n",
              "      background-color: #3B4455;\n",
              "      fill: #D2E3FC;\n",
              "    }\n",
              "\n",
              "    [theme=dark] .colab-df-convert:hover {\n",
              "      background-color: #434B5C;\n",
              "      box-shadow: 0px 1px 3px 1px rgba(0, 0, 0, 0.15);\n",
              "      filter: drop-shadow(0px 1px 2px rgba(0, 0, 0, 0.3));\n",
              "      fill: #FFFFFF;\n",
              "    }\n",
              "  </style>\n",
              "\n",
              "      <script>\n",
              "        const buttonEl =\n",
              "          document.querySelector('#df-fe3b5323-1ecc-4d5c-8cb2-ac06c3d84ac2 button.colab-df-convert');\n",
              "        buttonEl.style.display =\n",
              "          google.colab.kernel.accessAllowed ? 'block' : 'none';\n",
              "\n",
              "        async function convertToInteractive(key) {\n",
              "          const element = document.querySelector('#df-fe3b5323-1ecc-4d5c-8cb2-ac06c3d84ac2');\n",
              "          const dataTable =\n",
              "            await google.colab.kernel.invokeFunction('convertToInteractive',\n",
              "                                                     [key], {});\n",
              "          if (!dataTable) return;\n",
              "\n",
              "          const docLinkHtml = 'Like what you see? Visit the ' +\n",
              "            '<a target=\"_blank\" href=https://colab.research.google.com/notebooks/data_table.ipynb>data table notebook</a>'\n",
              "            + ' to learn more about interactive tables.';\n",
              "          element.innerHTML = '';\n",
              "          dataTable['output_type'] = 'display_data';\n",
              "          await google.colab.output.renderOutput(dataTable, element);\n",
              "          const docLink = document.createElement('div');\n",
              "          docLink.innerHTML = docLinkHtml;\n",
              "          element.appendChild(docLink);\n",
              "        }\n",
              "      </script>\n",
              "    </div>\n",
              "  </div>\n",
              "  "
            ],
            "text/plain": [
              "  vendor_id  passenger_count  ...  dropoffmonth  store_and_fwd_encoded\n",
              "0         2                1  ...             2                      0\n",
              "1         1                2  ...             3                      0\n",
              "2         2                2  ...             2                      0\n",
              "3         2                6  ...             1                      0\n",
              "4         1                1  ...             2                      0\n",
              "\n",
              "[5 rows x 10 columns]"
            ]
          },
          "metadata": {},
          "execution_count": 62
        }
      ],
      "source": [
        "data.head()"
      ]
    },
    {
      "cell_type": "markdown",
      "source": [
        "#Benchmark Model"
      ],
      "metadata": {
        "id": "Vbvk_qSe8-oZ"
      },
      "id": "Vbvk_qSe8-oZ"
    },
    {
      "cell_type": "markdown",
      "source": [
        "Shuffling and Creating Train and Test Set"
      ],
      "metadata": {
        "id": "HKhU11Si9O7Q"
      },
      "id": "HKhU11Si9O7Q"
    },
    {
      "cell_type": "code",
      "source": [
        "from sklearn.utils import shuffle\n",
        "\n",
        "# Shuffling the Dataset\n",
        "data = shuffle(data, random_state = 52)\n",
        "\n",
        "#creating 4 divisions\n",
        "div = int(data.shape[0]/4)\n",
        "\n",
        "# 3 parts to train set and 1 part to test set\n",
        "train = data.loc[:3*div+1,:]\n",
        "test = data.loc[3*div+1:]"
      ],
      "metadata": {
        "id": "IEn7V5wS9KTt"
      },
      "id": "IEn7V5wS9KTt",
      "execution_count": null,
      "outputs": []
    },
    {
      "cell_type": "code",
      "source": [
        "train.head()"
      ],
      "metadata": {
        "id": "nYwPLbM59Luo",
        "colab": {
          "base_uri": "https://localhost:8080/",
          "height": 270
        },
        "outputId": "5a3d881e-b6a0-4458-8f4e-108c581ddfea"
      },
      "id": "nYwPLbM59Luo",
      "execution_count": null,
      "outputs": [
        {
          "output_type": "execute_result",
          "data": {
            "text/html": [
              "\n",
              "  <div id=\"df-d89bdcf1-1976-47e6-bf83-2706dc1beed4\">\n",
              "    <div class=\"colab-df-container\">\n",
              "      <div>\n",
              "<style scoped>\n",
              "    .dataframe tbody tr th:only-of-type {\n",
              "        vertical-align: middle;\n",
              "    }\n",
              "\n",
              "    .dataframe tbody tr th {\n",
              "        vertical-align: top;\n",
              "    }\n",
              "\n",
              "    .dataframe thead th {\n",
              "        text-align: right;\n",
              "    }\n",
              "</style>\n",
              "<table border=\"1\" class=\"dataframe\">\n",
              "  <thead>\n",
              "    <tr style=\"text-align: right;\">\n",
              "      <th></th>\n",
              "      <th>vendor_id</th>\n",
              "      <th>passenger_count</th>\n",
              "      <th>trip_duration</th>\n",
              "      <th>pickuphour</th>\n",
              "      <th>pickupday</th>\n",
              "      <th>pickupmonth</th>\n",
              "      <th>dropoffhour</th>\n",
              "      <th>dropoffday</th>\n",
              "      <th>dropoffmonth</th>\n",
              "      <th>store_and_fwd_encoded</th>\n",
              "    </tr>\n",
              "  </thead>\n",
              "  <tbody>\n",
              "    <tr>\n",
              "      <th>184765</th>\n",
              "      <td>2</td>\n",
              "      <td>1</td>\n",
              "      <td>819</td>\n",
              "      <td>23</td>\n",
              "      <td>2</td>\n",
              "      <td>3</td>\n",
              "      <td>23</td>\n",
              "      <td>2</td>\n",
              "      <td>3</td>\n",
              "      <td>0</td>\n",
              "    </tr>\n",
              "    <tr>\n",
              "      <th>697925</th>\n",
              "      <td>2</td>\n",
              "      <td>6</td>\n",
              "      <td>1065</td>\n",
              "      <td>17</td>\n",
              "      <td>2</td>\n",
              "      <td>2</td>\n",
              "      <td>17</td>\n",
              "      <td>2</td>\n",
              "      <td>2</td>\n",
              "      <td>0</td>\n",
              "    </tr>\n",
              "    <tr>\n",
              "      <th>73547</th>\n",
              "      <td>1</td>\n",
              "      <td>1</td>\n",
              "      <td>211</td>\n",
              "      <td>0</td>\n",
              "      <td>4</td>\n",
              "      <td>1</td>\n",
              "      <td>0</td>\n",
              "      <td>4</td>\n",
              "      <td>1</td>\n",
              "      <td>0</td>\n",
              "    </tr>\n",
              "    <tr>\n",
              "      <th>281498</th>\n",
              "      <td>2</td>\n",
              "      <td>6</td>\n",
              "      <td>779</td>\n",
              "      <td>18</td>\n",
              "      <td>1</td>\n",
              "      <td>5</td>\n",
              "      <td>18</td>\n",
              "      <td>1</td>\n",
              "      <td>5</td>\n",
              "      <td>0</td>\n",
              "    </tr>\n",
              "    <tr>\n",
              "      <th>374196</th>\n",
              "      <td>1</td>\n",
              "      <td>1</td>\n",
              "      <td>964</td>\n",
              "      <td>1</td>\n",
              "      <td>6</td>\n",
              "      <td>6</td>\n",
              "      <td>1</td>\n",
              "      <td>6</td>\n",
              "      <td>6</td>\n",
              "      <td>0</td>\n",
              "    </tr>\n",
              "  </tbody>\n",
              "</table>\n",
              "</div>\n",
              "      <button class=\"colab-df-convert\" onclick=\"convertToInteractive('df-d89bdcf1-1976-47e6-bf83-2706dc1beed4')\"\n",
              "              title=\"Convert this dataframe to an interactive table.\"\n",
              "              style=\"display:none;\">\n",
              "        \n",
              "  <svg xmlns=\"http://www.w3.org/2000/svg\" height=\"24px\"viewBox=\"0 0 24 24\"\n",
              "       width=\"24px\">\n",
              "    <path d=\"M0 0h24v24H0V0z\" fill=\"none\"/>\n",
              "    <path d=\"M18.56 5.44l.94 2.06.94-2.06 2.06-.94-2.06-.94-.94-2.06-.94 2.06-2.06.94zm-11 1L8.5 8.5l.94-2.06 2.06-.94-2.06-.94L8.5 2.5l-.94 2.06-2.06.94zm10 10l.94 2.06.94-2.06 2.06-.94-2.06-.94-.94-2.06-.94 2.06-2.06.94z\"/><path d=\"M17.41 7.96l-1.37-1.37c-.4-.4-.92-.59-1.43-.59-.52 0-1.04.2-1.43.59L10.3 9.45l-7.72 7.72c-.78.78-.78 2.05 0 2.83L4 21.41c.39.39.9.59 1.41.59.51 0 1.02-.2 1.41-.59l7.78-7.78 2.81-2.81c.8-.78.8-2.07 0-2.86zM5.41 20L4 18.59l7.72-7.72 1.47 1.35L5.41 20z\"/>\n",
              "  </svg>\n",
              "      </button>\n",
              "      \n",
              "  <style>\n",
              "    .colab-df-container {\n",
              "      display:flex;\n",
              "      flex-wrap:wrap;\n",
              "      gap: 12px;\n",
              "    }\n",
              "\n",
              "    .colab-df-convert {\n",
              "      background-color: #E8F0FE;\n",
              "      border: none;\n",
              "      border-radius: 50%;\n",
              "      cursor: pointer;\n",
              "      display: none;\n",
              "      fill: #1967D2;\n",
              "      height: 32px;\n",
              "      padding: 0 0 0 0;\n",
              "      width: 32px;\n",
              "    }\n",
              "\n",
              "    .colab-df-convert:hover {\n",
              "      background-color: #E2EBFA;\n",
              "      box-shadow: 0px 1px 2px rgba(60, 64, 67, 0.3), 0px 1px 3px 1px rgba(60, 64, 67, 0.15);\n",
              "      fill: #174EA6;\n",
              "    }\n",
              "\n",
              "    [theme=dark] .colab-df-convert {\n",
              "      background-color: #3B4455;\n",
              "      fill: #D2E3FC;\n",
              "    }\n",
              "\n",
              "    [theme=dark] .colab-df-convert:hover {\n",
              "      background-color: #434B5C;\n",
              "      box-shadow: 0px 1px 3px 1px rgba(0, 0, 0, 0.15);\n",
              "      filter: drop-shadow(0px 1px 2px rgba(0, 0, 0, 0.3));\n",
              "      fill: #FFFFFF;\n",
              "    }\n",
              "  </style>\n",
              "\n",
              "      <script>\n",
              "        const buttonEl =\n",
              "          document.querySelector('#df-d89bdcf1-1976-47e6-bf83-2706dc1beed4 button.colab-df-convert');\n",
              "        buttonEl.style.display =\n",
              "          google.colab.kernel.accessAllowed ? 'block' : 'none';\n",
              "\n",
              "        async function convertToInteractive(key) {\n",
              "          const element = document.querySelector('#df-d89bdcf1-1976-47e6-bf83-2706dc1beed4');\n",
              "          const dataTable =\n",
              "            await google.colab.kernel.invokeFunction('convertToInteractive',\n",
              "                                                     [key], {});\n",
              "          if (!dataTable) return;\n",
              "\n",
              "          const docLinkHtml = 'Like what you see? Visit the ' +\n",
              "            '<a target=\"_blank\" href=https://colab.research.google.com/notebooks/data_table.ipynb>data table notebook</a>'\n",
              "            + ' to learn more about interactive tables.';\n",
              "          element.innerHTML = '';\n",
              "          dataTable['output_type'] = 'display_data';\n",
              "          await google.colab.output.renderOutput(dataTable, element);\n",
              "          const docLink = document.createElement('div');\n",
              "          docLink.innerHTML = docLinkHtml;\n",
              "          element.appendChild(docLink);\n",
              "        }\n",
              "      </script>\n",
              "    </div>\n",
              "  </div>\n",
              "  "
            ],
            "text/plain": [
              "       vendor_id  passenger_count  ...  dropoffmonth  store_and_fwd_encoded\n",
              "184765         2                1  ...             3                      0\n",
              "697925         2                6  ...             2                      0\n",
              "73547          1                1  ...             1                      0\n",
              "281498         2                6  ...             5                      0\n",
              "374196         1                1  ...             6                      0\n",
              "\n",
              "[5 rows x 10 columns]"
            ]
          },
          "metadata": {},
          "execution_count": 64
        }
      ]
    },
    {
      "cell_type": "code",
      "source": [
        "test.head()"
      ],
      "metadata": {
        "id": "e3kX53Af9XHA",
        "colab": {
          "base_uri": "https://localhost:8080/",
          "height": 270
        },
        "outputId": "cd60e2a3-d22e-4575-f18d-7b4a6472a955"
      },
      "id": "e3kX53Af9XHA",
      "execution_count": null,
      "outputs": [
        {
          "output_type": "execute_result",
          "data": {
            "text/html": [
              "\n",
              "  <div id=\"df-54d26ea5-a63e-4f4f-a311-1f59f420317e\">\n",
              "    <div class=\"colab-df-container\">\n",
              "      <div>\n",
              "<style scoped>\n",
              "    .dataframe tbody tr th:only-of-type {\n",
              "        vertical-align: middle;\n",
              "    }\n",
              "\n",
              "    .dataframe tbody tr th {\n",
              "        vertical-align: top;\n",
              "    }\n",
              "\n",
              "    .dataframe thead th {\n",
              "        text-align: right;\n",
              "    }\n",
              "</style>\n",
              "<table border=\"1\" class=\"dataframe\">\n",
              "  <thead>\n",
              "    <tr style=\"text-align: right;\">\n",
              "      <th></th>\n",
              "      <th>vendor_id</th>\n",
              "      <th>passenger_count</th>\n",
              "      <th>trip_duration</th>\n",
              "      <th>pickuphour</th>\n",
              "      <th>pickupday</th>\n",
              "      <th>pickupmonth</th>\n",
              "      <th>dropoffhour</th>\n",
              "      <th>dropoffday</th>\n",
              "      <th>dropoffmonth</th>\n",
              "      <th>store_and_fwd_encoded</th>\n",
              "    </tr>\n",
              "  </thead>\n",
              "  <tbody>\n",
              "    <tr>\n",
              "      <th>546991</th>\n",
              "      <td>1</td>\n",
              "      <td>1</td>\n",
              "      <td>346</td>\n",
              "      <td>7</td>\n",
              "      <td>2</td>\n",
              "      <td>5</td>\n",
              "      <td>8</td>\n",
              "      <td>2</td>\n",
              "      <td>5</td>\n",
              "      <td>0</td>\n",
              "    </tr>\n",
              "    <tr>\n",
              "      <th>663400</th>\n",
              "      <td>2</td>\n",
              "      <td>1</td>\n",
              "      <td>1024</td>\n",
              "      <td>21</td>\n",
              "      <td>5</td>\n",
              "      <td>2</td>\n",
              "      <td>21</td>\n",
              "      <td>5</td>\n",
              "      <td>2</td>\n",
              "      <td>0</td>\n",
              "    </tr>\n",
              "    <tr>\n",
              "      <th>298272</th>\n",
              "      <td>1</td>\n",
              "      <td>2</td>\n",
              "      <td>192</td>\n",
              "      <td>12</td>\n",
              "      <td>4</td>\n",
              "      <td>5</td>\n",
              "      <td>12</td>\n",
              "      <td>4</td>\n",
              "      <td>5</td>\n",
              "      <td>0</td>\n",
              "    </tr>\n",
              "    <tr>\n",
              "      <th>334316</th>\n",
              "      <td>1</td>\n",
              "      <td>1</td>\n",
              "      <td>663</td>\n",
              "      <td>17</td>\n",
              "      <td>5</td>\n",
              "      <td>1</td>\n",
              "      <td>17</td>\n",
              "      <td>5</td>\n",
              "      <td>1</td>\n",
              "      <td>0</td>\n",
              "    </tr>\n",
              "    <tr>\n",
              "      <th>610220</th>\n",
              "      <td>2</td>\n",
              "      <td>2</td>\n",
              "      <td>275</td>\n",
              "      <td>4</td>\n",
              "      <td>5</td>\n",
              "      <td>4</td>\n",
              "      <td>4</td>\n",
              "      <td>5</td>\n",
              "      <td>4</td>\n",
              "      <td>0</td>\n",
              "    </tr>\n",
              "  </tbody>\n",
              "</table>\n",
              "</div>\n",
              "      <button class=\"colab-df-convert\" onclick=\"convertToInteractive('df-54d26ea5-a63e-4f4f-a311-1f59f420317e')\"\n",
              "              title=\"Convert this dataframe to an interactive table.\"\n",
              "              style=\"display:none;\">\n",
              "        \n",
              "  <svg xmlns=\"http://www.w3.org/2000/svg\" height=\"24px\"viewBox=\"0 0 24 24\"\n",
              "       width=\"24px\">\n",
              "    <path d=\"M0 0h24v24H0V0z\" fill=\"none\"/>\n",
              "    <path d=\"M18.56 5.44l.94 2.06.94-2.06 2.06-.94-2.06-.94-.94-2.06-.94 2.06-2.06.94zm-11 1L8.5 8.5l.94-2.06 2.06-.94-2.06-.94L8.5 2.5l-.94 2.06-2.06.94zm10 10l.94 2.06.94-2.06 2.06-.94-2.06-.94-.94-2.06-.94 2.06-2.06.94z\"/><path d=\"M17.41 7.96l-1.37-1.37c-.4-.4-.92-.59-1.43-.59-.52 0-1.04.2-1.43.59L10.3 9.45l-7.72 7.72c-.78.78-.78 2.05 0 2.83L4 21.41c.39.39.9.59 1.41.59.51 0 1.02-.2 1.41-.59l7.78-7.78 2.81-2.81c.8-.78.8-2.07 0-2.86zM5.41 20L4 18.59l7.72-7.72 1.47 1.35L5.41 20z\"/>\n",
              "  </svg>\n",
              "      </button>\n",
              "      \n",
              "  <style>\n",
              "    .colab-df-container {\n",
              "      display:flex;\n",
              "      flex-wrap:wrap;\n",
              "      gap: 12px;\n",
              "    }\n",
              "\n",
              "    .colab-df-convert {\n",
              "      background-color: #E8F0FE;\n",
              "      border: none;\n",
              "      border-radius: 50%;\n",
              "      cursor: pointer;\n",
              "      display: none;\n",
              "      fill: #1967D2;\n",
              "      height: 32px;\n",
              "      padding: 0 0 0 0;\n",
              "      width: 32px;\n",
              "    }\n",
              "\n",
              "    .colab-df-convert:hover {\n",
              "      background-color: #E2EBFA;\n",
              "      box-shadow: 0px 1px 2px rgba(60, 64, 67, 0.3), 0px 1px 3px 1px rgba(60, 64, 67, 0.15);\n",
              "      fill: #174EA6;\n",
              "    }\n",
              "\n",
              "    [theme=dark] .colab-df-convert {\n",
              "      background-color: #3B4455;\n",
              "      fill: #D2E3FC;\n",
              "    }\n",
              "\n",
              "    [theme=dark] .colab-df-convert:hover {\n",
              "      background-color: #434B5C;\n",
              "      box-shadow: 0px 1px 3px 1px rgba(0, 0, 0, 0.15);\n",
              "      filter: drop-shadow(0px 1px 2px rgba(0, 0, 0, 0.3));\n",
              "      fill: #FFFFFF;\n",
              "    }\n",
              "  </style>\n",
              "\n",
              "      <script>\n",
              "        const buttonEl =\n",
              "          document.querySelector('#df-54d26ea5-a63e-4f4f-a311-1f59f420317e button.colab-df-convert');\n",
              "        buttonEl.style.display =\n",
              "          google.colab.kernel.accessAllowed ? 'block' : 'none';\n",
              "\n",
              "        async function convertToInteractive(key) {\n",
              "          const element = document.querySelector('#df-54d26ea5-a63e-4f4f-a311-1f59f420317e');\n",
              "          const dataTable =\n",
              "            await google.colab.kernel.invokeFunction('convertToInteractive',\n",
              "                                                     [key], {});\n",
              "          if (!dataTable) return;\n",
              "\n",
              "          const docLinkHtml = 'Like what you see? Visit the ' +\n",
              "            '<a target=\"_blank\" href=https://colab.research.google.com/notebooks/data_table.ipynb>data table notebook</a>'\n",
              "            + ' to learn more about interactive tables.';\n",
              "          element.innerHTML = '';\n",
              "          dataTable['output_type'] = 'display_data';\n",
              "          await google.colab.output.renderOutput(dataTable, element);\n",
              "          const docLink = document.createElement('div');\n",
              "          docLink.innerHTML = docLinkHtml;\n",
              "          element.appendChild(docLink);\n",
              "        }\n",
              "      </script>\n",
              "    </div>\n",
              "  </div>\n",
              "  "
            ],
            "text/plain": [
              "       vendor_id  passenger_count  ...  dropoffmonth  store_and_fwd_encoded\n",
              "546991         1                1  ...             5                      0\n",
              "663400         2                1  ...             2                      0\n",
              "298272         1                2  ...             5                      0\n",
              "334316         1                1  ...             1                      0\n",
              "610220         2                2  ...             4                      0\n",
              "\n",
              "[5 rows x 10 columns]"
            ]
          },
          "metadata": {},
          "execution_count": 65
        }
      ]
    },
    {
      "cell_type": "markdown",
      "source": [
        "Simple Mean ( mean of trip_duration)"
      ],
      "metadata": {
        "id": "opgR46Jl9c8-"
      },
      "id": "opgR46Jl9c8-"
    },
    {
      "cell_type": "code",
      "source": [
        "test['simple_mean'] = train['trip_duration'].mean()"
      ],
      "metadata": {
        "id": "psbv9wby9XDp"
      },
      "id": "psbv9wby9XDp",
      "execution_count": null,
      "outputs": []
    },
    {
      "cell_type": "code",
      "source": [
        "#calculating mean squared error\n",
        "from sklearn.metrics import mean_squared_error as mse\n",
        "\n",
        "simple_mean_error = mse(test['trip_duration'] , test['simple_mean'])\n",
        "simple_mean_error"
      ],
      "metadata": {
        "id": "9xconIG59WxK",
        "colab": {
          "base_uri": "https://localhost:8080/"
        },
        "outputId": "d8ae8a10-a0ee-4b94-c880-76abd7e7dcdc"
      },
      "id": "9xconIG59WxK",
      "execution_count": null,
      "outputs": [
        {
          "output_type": "execute_result",
          "data": {
            "text/plain": [
              "10390927.741288628"
            ]
          },
          "metadata": {},
          "execution_count": 67
        }
      ]
    },
    {
      "cell_type": "markdown",
      "source": [
        "The simple mean error is fund so now we can find the mean of trip_duration with respect to other variables and see if we can lower the mse value more"
      ],
      "metadata": {
        "id": "4XXWAajiR0rL"
      },
      "id": "4XXWAajiR0rL"
    },
    {
      "cell_type": "markdown",
      "source": [
        "Mean trip_duration with respect to passenger_count"
      ],
      "metadata": {
        "id": "569z5GH59u4G"
      },
      "id": "569z5GH59u4G"
    },
    {
      "cell_type": "code",
      "source": [
        "pc = pd.pivot_table(train, values='trip_duration', index = ['passenger_count'], aggfunc=np.mean)\n",
        "pc"
      ],
      "metadata": {
        "id": "W6kA0oCd9sDX",
        "colab": {
          "base_uri": "https://localhost:8080/",
          "height": 363
        },
        "outputId": "b0eb1d30-f256-4b94-c54b-016f19e74706"
      },
      "id": "W6kA0oCd9sDX",
      "execution_count": null,
      "outputs": [
        {
          "output_type": "execute_result",
          "data": {
            "text/html": [
              "\n",
              "  <div id=\"df-92ea708a-5023-47c9-8094-9aec44903f17\">\n",
              "    <div class=\"colab-df-container\">\n",
              "      <div>\n",
              "<style scoped>\n",
              "    .dataframe tbody tr th:only-of-type {\n",
              "        vertical-align: middle;\n",
              "    }\n",
              "\n",
              "    .dataframe tbody tr th {\n",
              "        vertical-align: top;\n",
              "    }\n",
              "\n",
              "    .dataframe thead th {\n",
              "        text-align: right;\n",
              "    }\n",
              "</style>\n",
              "<table border=\"1\" class=\"dataframe\">\n",
              "  <thead>\n",
              "    <tr style=\"text-align: right;\">\n",
              "      <th></th>\n",
              "      <th>trip_duration</th>\n",
              "    </tr>\n",
              "    <tr>\n",
              "      <th>passenger_count</th>\n",
              "      <th></th>\n",
              "    </tr>\n",
              "  </thead>\n",
              "  <tbody>\n",
              "    <tr>\n",
              "      <th>0</th>\n",
              "      <td>435.464286</td>\n",
              "    </tr>\n",
              "    <tr>\n",
              "      <th>1</th>\n",
              "      <td>918.981595</td>\n",
              "    </tr>\n",
              "    <tr>\n",
              "      <th>2</th>\n",
              "      <td>1001.165949</td>\n",
              "    </tr>\n",
              "    <tr>\n",
              "      <th>3</th>\n",
              "      <td>1033.103726</td>\n",
              "    </tr>\n",
              "    <tr>\n",
              "      <th>4</th>\n",
              "      <td>1006.264779</td>\n",
              "    </tr>\n",
              "    <tr>\n",
              "      <th>5</th>\n",
              "      <td>1078.830649</td>\n",
              "    </tr>\n",
              "    <tr>\n",
              "      <th>6</th>\n",
              "      <td>1080.191888</td>\n",
              "    </tr>\n",
              "    <tr>\n",
              "      <th>7</th>\n",
              "      <td>19.000000</td>\n",
              "    </tr>\n",
              "    <tr>\n",
              "      <th>9</th>\n",
              "      <td>560.000000</td>\n",
              "    </tr>\n",
              "  </tbody>\n",
              "</table>\n",
              "</div>\n",
              "      <button class=\"colab-df-convert\" onclick=\"convertToInteractive('df-92ea708a-5023-47c9-8094-9aec44903f17')\"\n",
              "              title=\"Convert this dataframe to an interactive table.\"\n",
              "              style=\"display:none;\">\n",
              "        \n",
              "  <svg xmlns=\"http://www.w3.org/2000/svg\" height=\"24px\"viewBox=\"0 0 24 24\"\n",
              "       width=\"24px\">\n",
              "    <path d=\"M0 0h24v24H0V0z\" fill=\"none\"/>\n",
              "    <path d=\"M18.56 5.44l.94 2.06.94-2.06 2.06-.94-2.06-.94-.94-2.06-.94 2.06-2.06.94zm-11 1L8.5 8.5l.94-2.06 2.06-.94-2.06-.94L8.5 2.5l-.94 2.06-2.06.94zm10 10l.94 2.06.94-2.06 2.06-.94-2.06-.94-.94-2.06-.94 2.06-2.06.94z\"/><path d=\"M17.41 7.96l-1.37-1.37c-.4-.4-.92-.59-1.43-.59-.52 0-1.04.2-1.43.59L10.3 9.45l-7.72 7.72c-.78.78-.78 2.05 0 2.83L4 21.41c.39.39.9.59 1.41.59.51 0 1.02-.2 1.41-.59l7.78-7.78 2.81-2.81c.8-.78.8-2.07 0-2.86zM5.41 20L4 18.59l7.72-7.72 1.47 1.35L5.41 20z\"/>\n",
              "  </svg>\n",
              "      </button>\n",
              "      \n",
              "  <style>\n",
              "    .colab-df-container {\n",
              "      display:flex;\n",
              "      flex-wrap:wrap;\n",
              "      gap: 12px;\n",
              "    }\n",
              "\n",
              "    .colab-df-convert {\n",
              "      background-color: #E8F0FE;\n",
              "      border: none;\n",
              "      border-radius: 50%;\n",
              "      cursor: pointer;\n",
              "      display: none;\n",
              "      fill: #1967D2;\n",
              "      height: 32px;\n",
              "      padding: 0 0 0 0;\n",
              "      width: 32px;\n",
              "    }\n",
              "\n",
              "    .colab-df-convert:hover {\n",
              "      background-color: #E2EBFA;\n",
              "      box-shadow: 0px 1px 2px rgba(60, 64, 67, 0.3), 0px 1px 3px 1px rgba(60, 64, 67, 0.15);\n",
              "      fill: #174EA6;\n",
              "    }\n",
              "\n",
              "    [theme=dark] .colab-df-convert {\n",
              "      background-color: #3B4455;\n",
              "      fill: #D2E3FC;\n",
              "    }\n",
              "\n",
              "    [theme=dark] .colab-df-convert:hover {\n",
              "      background-color: #434B5C;\n",
              "      box-shadow: 0px 1px 3px 1px rgba(0, 0, 0, 0.15);\n",
              "      filter: drop-shadow(0px 1px 2px rgba(0, 0, 0, 0.3));\n",
              "      fill: #FFFFFF;\n",
              "    }\n",
              "  </style>\n",
              "\n",
              "      <script>\n",
              "        const buttonEl =\n",
              "          document.querySelector('#df-92ea708a-5023-47c9-8094-9aec44903f17 button.colab-df-convert');\n",
              "        buttonEl.style.display =\n",
              "          google.colab.kernel.accessAllowed ? 'block' : 'none';\n",
              "\n",
              "        async function convertToInteractive(key) {\n",
              "          const element = document.querySelector('#df-92ea708a-5023-47c9-8094-9aec44903f17');\n",
              "          const dataTable =\n",
              "            await google.colab.kernel.invokeFunction('convertToInteractive',\n",
              "                                                     [key], {});\n",
              "          if (!dataTable) return;\n",
              "\n",
              "          const docLinkHtml = 'Like what you see? Visit the ' +\n",
              "            '<a target=\"_blank\" href=https://colab.research.google.com/notebooks/data_table.ipynb>data table notebook</a>'\n",
              "            + ' to learn more about interactive tables.';\n",
              "          element.innerHTML = '';\n",
              "          dataTable['output_type'] = 'display_data';\n",
              "          await google.colab.output.renderOutput(dataTable, element);\n",
              "          const docLink = document.createElement('div');\n",
              "          docLink.innerHTML = docLinkHtml;\n",
              "          element.appendChild(docLink);\n",
              "        }\n",
              "      </script>\n",
              "    </div>\n",
              "  </div>\n",
              "  "
            ],
            "text/plain": [
              "                 trip_duration\n",
              "passenger_count               \n",
              "0                   435.464286\n",
              "1                   918.981595\n",
              "2                  1001.165949\n",
              "3                  1033.103726\n",
              "4                  1006.264779\n",
              "5                  1078.830649\n",
              "6                  1080.191888\n",
              "7                    19.000000\n",
              "9                   560.000000"
            ]
          },
          "metadata": {},
          "execution_count": 68
        }
      ]
    },
    {
      "cell_type": "code",
      "source": [
        "# initializing new column to zero\n",
        "test['passenger_count_mean'] = 0\n",
        "\n",
        "# For every unique entry in Outlet_Identifier\n",
        "for i in train['passenger_count'].unique():\n",
        "    \n",
        "  # Assign the mean value corresponding to unique entry\n",
        "  test['passenger_count_mean'][test['passenger_count'] == str(i)] = train['trip_duration'][train['passenger_count'] == str(i)].mean()"
      ],
      "metadata": {
        "id": "9DQo72Uc9sAF"
      },
      "id": "9DQo72Uc9sAF",
      "execution_count": null,
      "outputs": []
    },
    {
      "cell_type": "code",
      "source": [
        "#calculating mean squared error\n",
        "out_type_error = mse(test['trip_duration'] , test['passenger_count'] )\n",
        "out_type_error"
      ],
      "metadata": {
        "id": "SRON-COs9r9F",
        "colab": {
          "base_uri": "https://localhost:8080/"
        },
        "outputId": "fcbc0e54-8fc4-4649-c94a-22289cf5f8e0"
      },
      "id": "SRON-COs9r9F",
      "execution_count": null,
      "outputs": [
        {
          "output_type": "execute_result",
          "data": {
            "text/plain": [
              "11305724.129396172"
            ]
          },
          "metadata": {},
          "execution_count": 70
        }
      ]
    },
    {
      "cell_type": "markdown",
      "source": [
        "Here the value of mse doesnt seem to decrease so lets move onto another variable"
      ],
      "metadata": {
        "id": "9ec1AT5YTMPp"
      },
      "id": "9ec1AT5YTMPp"
    },
    {
      "cell_type": "markdown",
      "source": [
        "Mean trip_duration with respect to vendor_id"
      ],
      "metadata": {
        "id": "AbvXD2ED-7Gs"
      },
      "id": "AbvXD2ED-7Gs"
    },
    {
      "cell_type": "code",
      "source": [
        "vid = pd.pivot_table(train, values='trip_duration', index = ['vendor_id'], aggfunc=np.mean)"
      ],
      "metadata": {
        "id": "akzfWzve9rwz"
      },
      "id": "akzfWzve9rwz",
      "execution_count": null,
      "outputs": []
    },
    {
      "cell_type": "code",
      "source": [
        "# initializing new column to zero\n",
        "test['vendor_id_mean'] = 0\n",
        "\n",
        "# For every unique entry in Outlet_Identifier\n",
        "for i in train['vendor_id'].unique():\n",
        "    \n",
        "  # Assign the mean value corresponding to unique entry\n",
        "  test['vendor_id_mean'][test['vendor_id'] == str(i)] = train['trip_duration'][train['vendor_id'] == str(i)].mean()"
      ],
      "metadata": {
        "id": "8RUQmTy99rtT"
      },
      "id": "8RUQmTy99rtT",
      "execution_count": null,
      "outputs": []
    },
    {
      "cell_type": "code",
      "source": [
        "#calculating mean squared error\n",
        "v_id_error = mse(test['trip_duration'] , test['vendor_id'] )\n",
        "v_id_error"
      ],
      "metadata": {
        "id": "E5zdqGhR9rla",
        "colab": {
          "base_uri": "https://localhost:8080/"
        },
        "outputId": "aa7109fe-65ad-4807-cff0-5d70a242df40"
      },
      "id": "E5zdqGhR9rla",
      "execution_count": null,
      "outputs": [
        {
          "output_type": "execute_result",
          "data": {
            "text/plain": [
              "11305987.045748591"
            ]
          },
          "metadata": {},
          "execution_count": 73
        }
      ]
    },
    {
      "cell_type": "markdown",
      "source": [
        "Mean trip_duration with respect to pickup_datetime in hours"
      ],
      "metadata": {
        "id": "Jxk3yKxs_NC3"
      },
      "id": "Jxk3yKxs_NC3"
    },
    {
      "cell_type": "code",
      "source": [
        "phour = pd.pivot_table(train, values='trip_duration', index =data.pickuphour, aggfunc=np.mean)"
      ],
      "metadata": {
        "id": "Jeo1-3gg9rbG"
      },
      "id": "Jeo1-3gg9rbG",
      "execution_count": null,
      "outputs": []
    },
    {
      "cell_type": "code",
      "source": [
        "# initializing new column to zero\n",
        "test['pickuphour_mean'] = 0\n",
        "\n",
        "# For every unique entry in Outlet_Identifier\n",
        "for i in train['pickuphour'].unique():\n",
        "    \n",
        "  # Assign the mean value corresponding to unique entry\n",
        "  test['pickuphour_mean'][test['pickuphour'] == str(i)] = train['trip_duration'][train['pickuphour'] == str(i)].mean()"
      ],
      "metadata": {
        "id": "cFZCpScU_I0_"
      },
      "id": "cFZCpScU_I0_",
      "execution_count": null,
      "outputs": []
    },
    {
      "cell_type": "code",
      "source": [
        "#calculating mean squared error\n",
        "phour_error = mse(test['trip_duration'] , test['pickuphour'] )\n",
        "phour_error"
      ],
      "metadata": {
        "id": "E98wtyVJ_Ix0",
        "colab": {
          "base_uri": "https://localhost:8080/"
        },
        "outputId": "f258bc9a-a750-446a-9948-06121a3e3526"
      },
      "id": "E98wtyVJ_Ix0",
      "execution_count": null,
      "outputs": [
        {
          "output_type": "execute_result",
          "data": {
            "text/plain": [
              "11282982.755029269"
            ]
          },
          "metadata": {},
          "execution_count": 76
        }
      ]
    },
    {
      "cell_type": "markdown",
      "source": [
        "Mean trip_duration with respect to dropoff_datetime in hours¶"
      ],
      "metadata": {
        "id": "t4Atrnz-_XyS"
      },
      "id": "t4Atrnz-_XyS"
    },
    {
      "cell_type": "code",
      "source": [
        "dhour = pd.pivot_table(train, values='trip_duration', index =data.dropoffhour, aggfunc=np.mean)"
      ],
      "metadata": {
        "id": "QrytTDvM_Iux"
      },
      "id": "QrytTDvM_Iux",
      "execution_count": null,
      "outputs": []
    },
    {
      "cell_type": "code",
      "source": [
        "# initializing new column to zero\n",
        "test['dropoffhour_mean'] = 0\n",
        "\n",
        "# For every unique entry in Outlet_Identifier\n",
        "for i in train['dropoffhour'].unique():\n",
        "    \n",
        "  # Assign the mean value corresponding to unique entry\n",
        "  test['dropoffhour_mean'][test['dropoffhour'] == str(i)] = train['trip_duration'][train['dropoffhour'] == str(i)].mean()"
      ],
      "metadata": {
        "id": "EWBcdHif_Irv"
      },
      "id": "EWBcdHif_Irv",
      "execution_count": null,
      "outputs": []
    },
    {
      "cell_type": "code",
      "source": [
        "#calculating mean squared error\n",
        "dhour_error = mse(test['trip_duration'] , test['dropoffhour'] )\n",
        "dhour_error"
      ],
      "metadata": {
        "id": "PMIahxpC_IoV",
        "colab": {
          "base_uri": "https://localhost:8080/"
        },
        "outputId": "9dbebf89-6170-4122-9ebc-c3f1a1352536"
      },
      "id": "PMIahxpC_IoV",
      "execution_count": null,
      "outputs": [
        {
          "output_type": "execute_result",
          "data": {
            "text/plain": [
              "11283034.901970685"
            ]
          },
          "metadata": {},
          "execution_count": 79
        }
      ]
    },
    {
      "cell_type": "markdown",
      "source": [
        "Mean trip_duration with respect to store_and_fwd_flag"
      ],
      "metadata": {
        "id": "SDsFcPaU_fVu"
      },
      "id": "SDsFcPaU_fVu"
    },
    {
      "cell_type": "code",
      "source": [
        "sff = pd.pivot_table(train, values='trip_duration', index =data.store_and_fwd_encoded, aggfunc=np.mean)"
      ],
      "metadata": {
        "id": "7G_jfgRs_Ik3"
      },
      "id": "7G_jfgRs_Ik3",
      "execution_count": null,
      "outputs": []
    },
    {
      "cell_type": "code",
      "source": [
        "# initializing new column to zero\n",
        "test['store_and_fwd_flag_mean'] = 0\n",
        "\n",
        "# For every unique entry in Outlet_Identifier\n",
        "for i in train['store_and_fwd_encoded'].unique():\n",
        "    \n",
        "  # Assign the mean value corresponding to unique entry\n",
        "  test['store_and_fwd_flag_mean'][test['store_and_fwd_encoded'] == str(i)] = train['trip_duration'][train['store_and_fwd_encoded'] == str(i)].mean()"
      ],
      "metadata": {
        "id": "QKMyAxOY_IhW"
      },
      "id": "QKMyAxOY_IhW",
      "execution_count": null,
      "outputs": []
    },
    {
      "cell_type": "code",
      "source": [
        "#calculating mean squared error\n",
        "sff_error = mse(test['trip_duration'] , test['store_and_fwd_encoded'] )\n",
        "sff_error"
      ],
      "metadata": {
        "id": "qsBcV-rE_Id9",
        "colab": {
          "base_uri": "https://localhost:8080/"
        },
        "outputId": "c0a69a24-f38d-4cbf-ac97-1433d917ebcd"
      },
      "id": "qsBcV-rE_Id9",
      "execution_count": null,
      "outputs": [
        {
          "output_type": "execute_result",
          "data": {
            "text/plain": [
              "11309029.02552896"
            ]
          },
          "metadata": {},
          "execution_count": 82
        }
      ]
    },
    {
      "cell_type": "markdown",
      "source": [
        "The mse score seem to increase so lets find the mean value with respect to two variables"
      ],
      "metadata": {
        "id": "BWO_mZpyTb9H"
      },
      "id": "BWO_mZpyTb9H"
    },
    {
      "cell_type": "markdown",
      "source": [
        "Mean trip_duration with respect to both vendor_id and passenger_count"
      ],
      "metadata": {
        "id": "C4c4-Zrz_rTx"
      },
      "id": "C4c4-Zrz_rTx"
    },
    {
      "cell_type": "code",
      "source": [
        "vpcombo = pd.pivot_table(train, values = 'trip_duration', index = ['vendor_id','passenger_count'], aggfunc = np.mean)\n",
        "vpcombo"
      ],
      "metadata": {
        "id": "oyCpv5q1_qvl",
        "colab": {
          "base_uri": "https://localhost:8080/",
          "height": 582
        },
        "outputId": "94627c4f-3f2e-449a-a3d8-bd87b97545a9"
      },
      "id": "oyCpv5q1_qvl",
      "execution_count": null,
      "outputs": [
        {
          "output_type": "execute_result",
          "data": {
            "text/html": [
              "\n",
              "  <div id=\"df-60bda711-42a3-4bcc-ab8a-20cc5917d7c2\">\n",
              "    <div class=\"colab-df-container\">\n",
              "      <div>\n",
              "<style scoped>\n",
              "    .dataframe tbody tr th:only-of-type {\n",
              "        vertical-align: middle;\n",
              "    }\n",
              "\n",
              "    .dataframe tbody tr th {\n",
              "        vertical-align: top;\n",
              "    }\n",
              "\n",
              "    .dataframe thead th {\n",
              "        text-align: right;\n",
              "    }\n",
              "</style>\n",
              "<table border=\"1\" class=\"dataframe\">\n",
              "  <thead>\n",
              "    <tr style=\"text-align: right;\">\n",
              "      <th></th>\n",
              "      <th></th>\n",
              "      <th>trip_duration</th>\n",
              "    </tr>\n",
              "    <tr>\n",
              "      <th>vendor_id</th>\n",
              "      <th>passenger_count</th>\n",
              "      <th></th>\n",
              "    </tr>\n",
              "  </thead>\n",
              "  <tbody>\n",
              "    <tr>\n",
              "      <th rowspan=\"7\" valign=\"top\">1</th>\n",
              "      <th>0</th>\n",
              "      <td>652.125000</td>\n",
              "    </tr>\n",
              "    <tr>\n",
              "      <th>1</th>\n",
              "      <td>815.482533</td>\n",
              "    </tr>\n",
              "    <tr>\n",
              "      <th>2</th>\n",
              "      <td>928.395674</td>\n",
              "    </tr>\n",
              "    <tr>\n",
              "      <th>3</th>\n",
              "      <td>933.271325</td>\n",
              "    </tr>\n",
              "    <tr>\n",
              "      <th>4</th>\n",
              "      <td>966.717845</td>\n",
              "    </tr>\n",
              "    <tr>\n",
              "      <th>5</th>\n",
              "      <td>927.401515</td>\n",
              "    </tr>\n",
              "    <tr>\n",
              "      <th>6</th>\n",
              "      <td>1111.621212</td>\n",
              "    </tr>\n",
              "    <tr>\n",
              "      <th rowspan=\"9\" valign=\"top\">2</th>\n",
              "      <th>0</th>\n",
              "      <td>146.583333</td>\n",
              "    </tr>\n",
              "    <tr>\n",
              "      <th>1</th>\n",
              "      <td>1036.671663</td>\n",
              "    </tr>\n",
              "    <tr>\n",
              "      <th>2</th>\n",
              "      <td>1057.780612</td>\n",
              "    </tr>\n",
              "    <tr>\n",
              "      <th>3</th>\n",
              "      <td>1094.415458</td>\n",
              "    </tr>\n",
              "    <tr>\n",
              "      <th>4</th>\n",
              "      <td>1035.624662</td>\n",
              "    </tr>\n",
              "    <tr>\n",
              "      <th>5</th>\n",
              "      <td>1079.454787</td>\n",
              "    </tr>\n",
              "    <tr>\n",
              "      <th>6</th>\n",
              "      <td>1080.087671</td>\n",
              "    </tr>\n",
              "    <tr>\n",
              "      <th>7</th>\n",
              "      <td>19.000000</td>\n",
              "    </tr>\n",
              "    <tr>\n",
              "      <th>9</th>\n",
              "      <td>560.000000</td>\n",
              "    </tr>\n",
              "  </tbody>\n",
              "</table>\n",
              "</div>\n",
              "      <button class=\"colab-df-convert\" onclick=\"convertToInteractive('df-60bda711-42a3-4bcc-ab8a-20cc5917d7c2')\"\n",
              "              title=\"Convert this dataframe to an interactive table.\"\n",
              "              style=\"display:none;\">\n",
              "        \n",
              "  <svg xmlns=\"http://www.w3.org/2000/svg\" height=\"24px\"viewBox=\"0 0 24 24\"\n",
              "       width=\"24px\">\n",
              "    <path d=\"M0 0h24v24H0V0z\" fill=\"none\"/>\n",
              "    <path d=\"M18.56 5.44l.94 2.06.94-2.06 2.06-.94-2.06-.94-.94-2.06-.94 2.06-2.06.94zm-11 1L8.5 8.5l.94-2.06 2.06-.94-2.06-.94L8.5 2.5l-.94 2.06-2.06.94zm10 10l.94 2.06.94-2.06 2.06-.94-2.06-.94-.94-2.06-.94 2.06-2.06.94z\"/><path d=\"M17.41 7.96l-1.37-1.37c-.4-.4-.92-.59-1.43-.59-.52 0-1.04.2-1.43.59L10.3 9.45l-7.72 7.72c-.78.78-.78 2.05 0 2.83L4 21.41c.39.39.9.59 1.41.59.51 0 1.02-.2 1.41-.59l7.78-7.78 2.81-2.81c.8-.78.8-2.07 0-2.86zM5.41 20L4 18.59l7.72-7.72 1.47 1.35L5.41 20z\"/>\n",
              "  </svg>\n",
              "      </button>\n",
              "      \n",
              "  <style>\n",
              "    .colab-df-container {\n",
              "      display:flex;\n",
              "      flex-wrap:wrap;\n",
              "      gap: 12px;\n",
              "    }\n",
              "\n",
              "    .colab-df-convert {\n",
              "      background-color: #E8F0FE;\n",
              "      border: none;\n",
              "      border-radius: 50%;\n",
              "      cursor: pointer;\n",
              "      display: none;\n",
              "      fill: #1967D2;\n",
              "      height: 32px;\n",
              "      padding: 0 0 0 0;\n",
              "      width: 32px;\n",
              "    }\n",
              "\n",
              "    .colab-df-convert:hover {\n",
              "      background-color: #E2EBFA;\n",
              "      box-shadow: 0px 1px 2px rgba(60, 64, 67, 0.3), 0px 1px 3px 1px rgba(60, 64, 67, 0.15);\n",
              "      fill: #174EA6;\n",
              "    }\n",
              "\n",
              "    [theme=dark] .colab-df-convert {\n",
              "      background-color: #3B4455;\n",
              "      fill: #D2E3FC;\n",
              "    }\n",
              "\n",
              "    [theme=dark] .colab-df-convert:hover {\n",
              "      background-color: #434B5C;\n",
              "      box-shadow: 0px 1px 3px 1px rgba(0, 0, 0, 0.15);\n",
              "      filter: drop-shadow(0px 1px 2px rgba(0, 0, 0, 0.3));\n",
              "      fill: #FFFFFF;\n",
              "    }\n",
              "  </style>\n",
              "\n",
              "      <script>\n",
              "        const buttonEl =\n",
              "          document.querySelector('#df-60bda711-42a3-4bcc-ab8a-20cc5917d7c2 button.colab-df-convert');\n",
              "        buttonEl.style.display =\n",
              "          google.colab.kernel.accessAllowed ? 'block' : 'none';\n",
              "\n",
              "        async function convertToInteractive(key) {\n",
              "          const element = document.querySelector('#df-60bda711-42a3-4bcc-ab8a-20cc5917d7c2');\n",
              "          const dataTable =\n",
              "            await google.colab.kernel.invokeFunction('convertToInteractive',\n",
              "                                                     [key], {});\n",
              "          if (!dataTable) return;\n",
              "\n",
              "          const docLinkHtml = 'Like what you see? Visit the ' +\n",
              "            '<a target=\"_blank\" href=https://colab.research.google.com/notebooks/data_table.ipynb>data table notebook</a>'\n",
              "            + ' to learn more about interactive tables.';\n",
              "          element.innerHTML = '';\n",
              "          dataTable['output_type'] = 'display_data';\n",
              "          await google.colab.output.renderOutput(dataTable, element);\n",
              "          const docLink = document.createElement('div');\n",
              "          docLink.innerHTML = docLinkHtml;\n",
              "          element.appendChild(docLink);\n",
              "        }\n",
              "      </script>\n",
              "    </div>\n",
              "  </div>\n",
              "  "
            ],
            "text/plain": [
              "                           trip_duration\n",
              "vendor_id passenger_count               \n",
              "1         0                   652.125000\n",
              "          1                   815.482533\n",
              "          2                   928.395674\n",
              "          3                   933.271325\n",
              "          4                   966.717845\n",
              "          5                   927.401515\n",
              "          6                  1111.621212\n",
              "2         0                   146.583333\n",
              "          1                  1036.671663\n",
              "          2                  1057.780612\n",
              "          3                  1094.415458\n",
              "          4                  1035.624662\n",
              "          5                  1079.454787\n",
              "          6                  1080.087671\n",
              "          7                    19.000000\n",
              "          9                   560.000000"
            ]
          },
          "metadata": {},
          "execution_count": 83
        }
      ]
    },
    {
      "cell_type": "code",
      "source": [
        "# Initiating new empty column\n",
        "test['vpcombo_mean'] = 0\n",
        "\n",
        "# Assigning variables to strings ( to shorten code length)\n",
        "s2 = 'vendor_id'\n",
        "s1 = 'passenger_count'\n",
        "\n",
        "# For every Unique Value in s1\n",
        "for i in test[s1].unique():\n",
        "  # For every Unique Value in s2\n",
        "  for j in test[s2].unique():\n",
        "    # Calculate and Assign mean to new column, corresponding to both unique values of s1 and s2 simultaneously\n",
        "    test['vpcombo_mean'][(test[s1] == i) & (test[s2]==str(j))] = train['trip_duration'][(train[s1] == i) & (train[s2]==str(j))].mean()"
      ],
      "metadata": {
        "id": "FfW5okaV_qr_"
      },
      "id": "FfW5okaV_qr_",
      "execution_count": null,
      "outputs": []
    },
    {
      "cell_type": "code",
      "source": [
        "vpcombo_mean_error =mse(test['trip_duration'] , test['vpcombo_mean'] )\n",
        "vpcombo_mean_error"
      ],
      "metadata": {
        "id": "rJl4nWHT_qoq",
        "colab": {
          "base_uri": "https://localhost:8080/"
        },
        "outputId": "97d41c15-278f-4a50-8dd5-729e48cfccee"
      },
      "id": "rJl4nWHT_qoq",
      "execution_count": null,
      "outputs": [
        {
          "output_type": "execute_result",
          "data": {
            "text/plain": [
              "11309041.1104309"
            ]
          },
          "metadata": {},
          "execution_count": 85
        }
      ]
    },
    {
      "cell_type": "markdown",
      "source": [
        "Mean trip_duration with respect to both pickupday and pickuphour"
      ],
      "metadata": {
        "id": "KycSwk4x_95_"
      },
      "id": "KycSwk4x_95_"
    },
    {
      "cell_type": "code",
      "source": [
        "phdcombo = pd.pivot_table(train, values = 'trip_duration', index = ['pickuphour','pickupday'], aggfunc = np.mean)\n",
        "phdcombo"
      ],
      "metadata": {
        "id": "rhmV5UGW_qlS",
        "colab": {
          "base_uri": "https://localhost:8080/",
          "height": 455
        },
        "outputId": "da9c221a-a841-404e-a8f2-12019fa190f2"
      },
      "id": "rhmV5UGW_qlS",
      "execution_count": null,
      "outputs": [
        {
          "output_type": "execute_result",
          "data": {
            "text/html": [
              "\n",
              "  <div id=\"df-6955f8a9-92bf-43c5-9639-2a0d088193f2\">\n",
              "    <div class=\"colab-df-container\">\n",
              "      <div>\n",
              "<style scoped>\n",
              "    .dataframe tbody tr th:only-of-type {\n",
              "        vertical-align: middle;\n",
              "    }\n",
              "\n",
              "    .dataframe tbody tr th {\n",
              "        vertical-align: top;\n",
              "    }\n",
              "\n",
              "    .dataframe thead th {\n",
              "        text-align: right;\n",
              "    }\n",
              "</style>\n",
              "<table border=\"1\" class=\"dataframe\">\n",
              "  <thead>\n",
              "    <tr style=\"text-align: right;\">\n",
              "      <th></th>\n",
              "      <th></th>\n",
              "      <th>trip_duration</th>\n",
              "    </tr>\n",
              "    <tr>\n",
              "      <th>pickuphour</th>\n",
              "      <th>pickupday</th>\n",
              "      <th></th>\n",
              "    </tr>\n",
              "  </thead>\n",
              "  <tbody>\n",
              "    <tr>\n",
              "      <th rowspan=\"5\" valign=\"top\">0</th>\n",
              "      <th>0</th>\n",
              "      <td>850.936009</td>\n",
              "    </tr>\n",
              "    <tr>\n",
              "      <th>1</th>\n",
              "      <td>1829.530172</td>\n",
              "    </tr>\n",
              "    <tr>\n",
              "      <th>2</th>\n",
              "      <td>770.380263</td>\n",
              "    </tr>\n",
              "    <tr>\n",
              "      <th>3</th>\n",
              "      <td>813.222607</td>\n",
              "    </tr>\n",
              "    <tr>\n",
              "      <th>4</th>\n",
              "      <td>936.937620</td>\n",
              "    </tr>\n",
              "    <tr>\n",
              "      <th>...</th>\n",
              "      <th>...</th>\n",
              "      <td>...</td>\n",
              "    </tr>\n",
              "    <tr>\n",
              "      <th rowspan=\"5\" valign=\"top\">23</th>\n",
              "      <th>2</th>\n",
              "      <td>927.716567</td>\n",
              "    </tr>\n",
              "    <tr>\n",
              "      <th>3</th>\n",
              "      <td>878.499182</td>\n",
              "    </tr>\n",
              "    <tr>\n",
              "      <th>4</th>\n",
              "      <td>937.706691</td>\n",
              "    </tr>\n",
              "    <tr>\n",
              "      <th>5</th>\n",
              "      <td>1035.113372</td>\n",
              "    </tr>\n",
              "    <tr>\n",
              "      <th>6</th>\n",
              "      <td>810.037785</td>\n",
              "    </tr>\n",
              "  </tbody>\n",
              "</table>\n",
              "<p>168 rows × 1 columns</p>\n",
              "</div>\n",
              "      <button class=\"colab-df-convert\" onclick=\"convertToInteractive('df-6955f8a9-92bf-43c5-9639-2a0d088193f2')\"\n",
              "              title=\"Convert this dataframe to an interactive table.\"\n",
              "              style=\"display:none;\">\n",
              "        \n",
              "  <svg xmlns=\"http://www.w3.org/2000/svg\" height=\"24px\"viewBox=\"0 0 24 24\"\n",
              "       width=\"24px\">\n",
              "    <path d=\"M0 0h24v24H0V0z\" fill=\"none\"/>\n",
              "    <path d=\"M18.56 5.44l.94 2.06.94-2.06 2.06-.94-2.06-.94-.94-2.06-.94 2.06-2.06.94zm-11 1L8.5 8.5l.94-2.06 2.06-.94-2.06-.94L8.5 2.5l-.94 2.06-2.06.94zm10 10l.94 2.06.94-2.06 2.06-.94-2.06-.94-.94-2.06-.94 2.06-2.06.94z\"/><path d=\"M17.41 7.96l-1.37-1.37c-.4-.4-.92-.59-1.43-.59-.52 0-1.04.2-1.43.59L10.3 9.45l-7.72 7.72c-.78.78-.78 2.05 0 2.83L4 21.41c.39.39.9.59 1.41.59.51 0 1.02-.2 1.41-.59l7.78-7.78 2.81-2.81c.8-.78.8-2.07 0-2.86zM5.41 20L4 18.59l7.72-7.72 1.47 1.35L5.41 20z\"/>\n",
              "  </svg>\n",
              "      </button>\n",
              "      \n",
              "  <style>\n",
              "    .colab-df-container {\n",
              "      display:flex;\n",
              "      flex-wrap:wrap;\n",
              "      gap: 12px;\n",
              "    }\n",
              "\n",
              "    .colab-df-convert {\n",
              "      background-color: #E8F0FE;\n",
              "      border: none;\n",
              "      border-radius: 50%;\n",
              "      cursor: pointer;\n",
              "      display: none;\n",
              "      fill: #1967D2;\n",
              "      height: 32px;\n",
              "      padding: 0 0 0 0;\n",
              "      width: 32px;\n",
              "    }\n",
              "\n",
              "    .colab-df-convert:hover {\n",
              "      background-color: #E2EBFA;\n",
              "      box-shadow: 0px 1px 2px rgba(60, 64, 67, 0.3), 0px 1px 3px 1px rgba(60, 64, 67, 0.15);\n",
              "      fill: #174EA6;\n",
              "    }\n",
              "\n",
              "    [theme=dark] .colab-df-convert {\n",
              "      background-color: #3B4455;\n",
              "      fill: #D2E3FC;\n",
              "    }\n",
              "\n",
              "    [theme=dark] .colab-df-convert:hover {\n",
              "      background-color: #434B5C;\n",
              "      box-shadow: 0px 1px 3px 1px rgba(0, 0, 0, 0.15);\n",
              "      filter: drop-shadow(0px 1px 2px rgba(0, 0, 0, 0.3));\n",
              "      fill: #FFFFFF;\n",
              "    }\n",
              "  </style>\n",
              "\n",
              "      <script>\n",
              "        const buttonEl =\n",
              "          document.querySelector('#df-6955f8a9-92bf-43c5-9639-2a0d088193f2 button.colab-df-convert');\n",
              "        buttonEl.style.display =\n",
              "          google.colab.kernel.accessAllowed ? 'block' : 'none';\n",
              "\n",
              "        async function convertToInteractive(key) {\n",
              "          const element = document.querySelector('#df-6955f8a9-92bf-43c5-9639-2a0d088193f2');\n",
              "          const dataTable =\n",
              "            await google.colab.kernel.invokeFunction('convertToInteractive',\n",
              "                                                     [key], {});\n",
              "          if (!dataTable) return;\n",
              "\n",
              "          const docLinkHtml = 'Like what you see? Visit the ' +\n",
              "            '<a target=\"_blank\" href=https://colab.research.google.com/notebooks/data_table.ipynb>data table notebook</a>'\n",
              "            + ' to learn more about interactive tables.';\n",
              "          element.innerHTML = '';\n",
              "          dataTable['output_type'] = 'display_data';\n",
              "          await google.colab.output.renderOutput(dataTable, element);\n",
              "          const docLink = document.createElement('div');\n",
              "          docLink.innerHTML = docLinkHtml;\n",
              "          element.appendChild(docLink);\n",
              "        }\n",
              "      </script>\n",
              "    </div>\n",
              "  </div>\n",
              "  "
            ],
            "text/plain": [
              "                      trip_duration\n",
              "pickuphour pickupday               \n",
              "0          0             850.936009\n",
              "           1            1829.530172\n",
              "           2             770.380263\n",
              "           3             813.222607\n",
              "           4             936.937620\n",
              "...                             ...\n",
              "23         2             927.716567\n",
              "           3             878.499182\n",
              "           4             937.706691\n",
              "           5            1035.113372\n",
              "           6             810.037785\n",
              "\n",
              "[168 rows x 1 columns]"
            ]
          },
          "metadata": {},
          "execution_count": 86
        }
      ]
    },
    {
      "cell_type": "code",
      "source": [
        "# Initiating new empty column\n",
        "test['phdcombo_mean'] = 0\n",
        "\n",
        "# Assigning variables to strings ( to shorten code length)\n",
        "s2 = 'pickuphour'\n",
        "s1 = 'pickupday'\n",
        "\n",
        "# For every Unique Value in s1\n",
        "for i in test[s1].unique():\n",
        "  # For every Unique Value in s2\n",
        "  for j in test[s2].unique():\n",
        "    # Calculate and Assign mean to new column, corresponding to both unique values of s1 and s2 simultaneously\n",
        "    test['phdcombo_mean'][(test[s1] == i) & (test[s2]==str(j))] = train['trip_duration'][(train[s1] == i) & (train[s2]==str(j))].mean()"
      ],
      "metadata": {
        "id": "zXvqhtVc_Iap"
      },
      "id": "zXvqhtVc_Iap",
      "execution_count": null,
      "outputs": []
    },
    {
      "cell_type": "code",
      "source": [
        "phdcombo_mean_error = mse(test['trip_duration'] , test['phdcombo_mean'] )\n",
        "phdcombo_mean_error"
      ],
      "metadata": {
        "id": "RXzQkFlG_IXT",
        "colab": {
          "base_uri": "https://localhost:8080/"
        },
        "outputId": "31cf27f0-d9de-44ad-e52d-d8b503535c50"
      },
      "id": "RXzQkFlG_IXT",
      "execution_count": null,
      "outputs": [
        {
          "output_type": "execute_result",
          "data": {
            "text/plain": [
              "11309041.1104309"
            ]
          },
          "metadata": {},
          "execution_count": 88
        }
      ]
    },
    {
      "cell_type": "markdown",
      "source": [
        "The lowest mse score was obtained by training the model with the mean of the target variable"
      ],
      "metadata": {
        "id": "N7X8AAcLUUAW"
      },
      "id": "N7X8AAcLUUAW"
    },
    {
      "cell_type": "markdown",
      "id": "c6ca6953",
      "metadata": {
        "id": "c6ca6953"
      },
      "source": [
        "### Segregating variables: Independent and Dependent Variables"
      ]
    },
    {
      "cell_type": "code",
      "execution_count": null,
      "id": "481aa0a2",
      "metadata": {
        "id": "481aa0a2"
      },
      "outputs": [],
      "source": [
        "#converting the categorical variables to dummy columns\n",
        "data=pd.get_dummies(data)"
      ]
    },
    {
      "cell_type": "code",
      "execution_count": null,
      "id": "2000d302",
      "metadata": {
        "id": "2000d302",
        "colab": {
          "base_uri": "https://localhost:8080/"
        },
        "outputId": "c27e14c8-58fe-4e19-9893-20449386829f"
      },
      "outputs": [
        {
          "output_type": "execute_result",
          "data": {
            "text/plain": [
              "((729322, 10), (729322,))"
            ]
          },
          "metadata": {},
          "execution_count": 90
        }
      ],
      "source": [
        "#seperating independent and dependent variables\n",
        "x = data.drop(['trip_duration'], axis=1)\n",
        "y = data['trip_duration']\n",
        "x.shape, y.shape"
      ]
    },
    {
      "cell_type": "markdown",
      "id": "d24d7e4d",
      "metadata": {
        "id": "d24d7e4d"
      },
      "source": [
        "### Scaling the data (Using MinMax Scaler)"
      ]
    },
    {
      "cell_type": "code",
      "execution_count": null,
      "id": "50827186",
      "metadata": {
        "id": "50827186"
      },
      "outputs": [],
      "source": [
        "## Importing the MinMax Scaler\n",
        "from sklearn.preprocessing import MinMaxScaler\n",
        "scaler = MinMaxScaler()\n",
        "x_scaled = scaler.fit_transform(x)"
      ]
    },
    {
      "cell_type": "code",
      "execution_count": null,
      "id": "9b7de674",
      "metadata": {
        "id": "9b7de674"
      },
      "outputs": [],
      "source": [
        "x = pd.DataFrame(x_scaled, columns = x.columns)"
      ]
    },
    {
      "cell_type": "code",
      "execution_count": null,
      "id": "17a007af",
      "metadata": {
        "id": "17a007af",
        "colab": {
          "base_uri": "https://localhost:8080/",
          "height": 250
        },
        "outputId": "96c13962-7526-4e9b-9420-800adbc8dc29"
      },
      "outputs": [
        {
          "output_type": "execute_result",
          "data": {
            "text/html": [
              "\n",
              "  <div id=\"df-35e26deb-e958-4e28-9267-a654cf0e1fc9\">\n",
              "    <div class=\"colab-df-container\">\n",
              "      <div>\n",
              "<style scoped>\n",
              "    .dataframe tbody tr th:only-of-type {\n",
              "        vertical-align: middle;\n",
              "    }\n",
              "\n",
              "    .dataframe tbody tr th {\n",
              "        vertical-align: top;\n",
              "    }\n",
              "\n",
              "    .dataframe thead th {\n",
              "        text-align: right;\n",
              "    }\n",
              "</style>\n",
              "<table border=\"1\" class=\"dataframe\">\n",
              "  <thead>\n",
              "    <tr style=\"text-align: right;\">\n",
              "      <th></th>\n",
              "      <th>passenger_count</th>\n",
              "      <th>pickuphour</th>\n",
              "      <th>pickupday</th>\n",
              "      <th>pickupmonth</th>\n",
              "      <th>dropoffhour</th>\n",
              "      <th>dropoffday</th>\n",
              "      <th>dropoffmonth</th>\n",
              "      <th>store_and_fwd_encoded</th>\n",
              "      <th>vendor_id_1</th>\n",
              "      <th>vendor_id_2</th>\n",
              "    </tr>\n",
              "  </thead>\n",
              "  <tbody>\n",
              "    <tr>\n",
              "      <th>0</th>\n",
              "      <td>0.111111</td>\n",
              "      <td>1.000000</td>\n",
              "      <td>0.333333</td>\n",
              "      <td>0.4</td>\n",
              "      <td>1.000000</td>\n",
              "      <td>0.333333</td>\n",
              "      <td>0.333333</td>\n",
              "      <td>0.0</td>\n",
              "      <td>0.0</td>\n",
              "      <td>1.0</td>\n",
              "    </tr>\n",
              "    <tr>\n",
              "      <th>1</th>\n",
              "      <td>0.666667</td>\n",
              "      <td>0.739130</td>\n",
              "      <td>0.333333</td>\n",
              "      <td>0.2</td>\n",
              "      <td>0.739130</td>\n",
              "      <td>0.333333</td>\n",
              "      <td>0.166667</td>\n",
              "      <td>0.0</td>\n",
              "      <td>0.0</td>\n",
              "      <td>1.0</td>\n",
              "    </tr>\n",
              "    <tr>\n",
              "      <th>2</th>\n",
              "      <td>0.111111</td>\n",
              "      <td>0.000000</td>\n",
              "      <td>0.666667</td>\n",
              "      <td>0.0</td>\n",
              "      <td>0.000000</td>\n",
              "      <td>0.666667</td>\n",
              "      <td>0.000000</td>\n",
              "      <td>0.0</td>\n",
              "      <td>1.0</td>\n",
              "      <td>0.0</td>\n",
              "    </tr>\n",
              "    <tr>\n",
              "      <th>3</th>\n",
              "      <td>0.666667</td>\n",
              "      <td>0.782609</td>\n",
              "      <td>0.166667</td>\n",
              "      <td>0.8</td>\n",
              "      <td>0.782609</td>\n",
              "      <td>0.166667</td>\n",
              "      <td>0.666667</td>\n",
              "      <td>0.0</td>\n",
              "      <td>0.0</td>\n",
              "      <td>1.0</td>\n",
              "    </tr>\n",
              "    <tr>\n",
              "      <th>4</th>\n",
              "      <td>0.111111</td>\n",
              "      <td>0.043478</td>\n",
              "      <td>1.000000</td>\n",
              "      <td>1.0</td>\n",
              "      <td>0.043478</td>\n",
              "      <td>1.000000</td>\n",
              "      <td>0.833333</td>\n",
              "      <td>0.0</td>\n",
              "      <td>1.0</td>\n",
              "      <td>0.0</td>\n",
              "    </tr>\n",
              "  </tbody>\n",
              "</table>\n",
              "</div>\n",
              "      <button class=\"colab-df-convert\" onclick=\"convertToInteractive('df-35e26deb-e958-4e28-9267-a654cf0e1fc9')\"\n",
              "              title=\"Convert this dataframe to an interactive table.\"\n",
              "              style=\"display:none;\">\n",
              "        \n",
              "  <svg xmlns=\"http://www.w3.org/2000/svg\" height=\"24px\"viewBox=\"0 0 24 24\"\n",
              "       width=\"24px\">\n",
              "    <path d=\"M0 0h24v24H0V0z\" fill=\"none\"/>\n",
              "    <path d=\"M18.56 5.44l.94 2.06.94-2.06 2.06-.94-2.06-.94-.94-2.06-.94 2.06-2.06.94zm-11 1L8.5 8.5l.94-2.06 2.06-.94-2.06-.94L8.5 2.5l-.94 2.06-2.06.94zm10 10l.94 2.06.94-2.06 2.06-.94-2.06-.94-.94-2.06-.94 2.06-2.06.94z\"/><path d=\"M17.41 7.96l-1.37-1.37c-.4-.4-.92-.59-1.43-.59-.52 0-1.04.2-1.43.59L10.3 9.45l-7.72 7.72c-.78.78-.78 2.05 0 2.83L4 21.41c.39.39.9.59 1.41.59.51 0 1.02-.2 1.41-.59l7.78-7.78 2.81-2.81c.8-.78.8-2.07 0-2.86zM5.41 20L4 18.59l7.72-7.72 1.47 1.35L5.41 20z\"/>\n",
              "  </svg>\n",
              "      </button>\n",
              "      \n",
              "  <style>\n",
              "    .colab-df-container {\n",
              "      display:flex;\n",
              "      flex-wrap:wrap;\n",
              "      gap: 12px;\n",
              "    }\n",
              "\n",
              "    .colab-df-convert {\n",
              "      background-color: #E8F0FE;\n",
              "      border: none;\n",
              "      border-radius: 50%;\n",
              "      cursor: pointer;\n",
              "      display: none;\n",
              "      fill: #1967D2;\n",
              "      height: 32px;\n",
              "      padding: 0 0 0 0;\n",
              "      width: 32px;\n",
              "    }\n",
              "\n",
              "    .colab-df-convert:hover {\n",
              "      background-color: #E2EBFA;\n",
              "      box-shadow: 0px 1px 2px rgba(60, 64, 67, 0.3), 0px 1px 3px 1px rgba(60, 64, 67, 0.15);\n",
              "      fill: #174EA6;\n",
              "    }\n",
              "\n",
              "    [theme=dark] .colab-df-convert {\n",
              "      background-color: #3B4455;\n",
              "      fill: #D2E3FC;\n",
              "    }\n",
              "\n",
              "    [theme=dark] .colab-df-convert:hover {\n",
              "      background-color: #434B5C;\n",
              "      box-shadow: 0px 1px 3px 1px rgba(0, 0, 0, 0.15);\n",
              "      filter: drop-shadow(0px 1px 2px rgba(0, 0, 0, 0.3));\n",
              "      fill: #FFFFFF;\n",
              "    }\n",
              "  </style>\n",
              "\n",
              "      <script>\n",
              "        const buttonEl =\n",
              "          document.querySelector('#df-35e26deb-e958-4e28-9267-a654cf0e1fc9 button.colab-df-convert');\n",
              "        buttonEl.style.display =\n",
              "          google.colab.kernel.accessAllowed ? 'block' : 'none';\n",
              "\n",
              "        async function convertToInteractive(key) {\n",
              "          const element = document.querySelector('#df-35e26deb-e958-4e28-9267-a654cf0e1fc9');\n",
              "          const dataTable =\n",
              "            await google.colab.kernel.invokeFunction('convertToInteractive',\n",
              "                                                     [key], {});\n",
              "          if (!dataTable) return;\n",
              "\n",
              "          const docLinkHtml = 'Like what you see? Visit the ' +\n",
              "            '<a target=\"_blank\" href=https://colab.research.google.com/notebooks/data_table.ipynb>data table notebook</a>'\n",
              "            + ' to learn more about interactive tables.';\n",
              "          element.innerHTML = '';\n",
              "          dataTable['output_type'] = 'display_data';\n",
              "          await google.colab.output.renderOutput(dataTable, element);\n",
              "          const docLink = document.createElement('div');\n",
              "          docLink.innerHTML = docLinkHtml;\n",
              "          element.appendChild(docLink);\n",
              "        }\n",
              "      </script>\n",
              "    </div>\n",
              "  </div>\n",
              "  "
            ],
            "text/plain": [
              "   passenger_count  pickuphour  ...  vendor_id_1  vendor_id_2\n",
              "0         0.111111    1.000000  ...          0.0          1.0\n",
              "1         0.666667    0.739130  ...          0.0          1.0\n",
              "2         0.111111    0.000000  ...          1.0          0.0\n",
              "3         0.666667    0.782609  ...          0.0          1.0\n",
              "4         0.111111    0.043478  ...          1.0          0.0\n",
              "\n",
              "[5 rows x 10 columns]"
            ]
          },
          "metadata": {},
          "execution_count": 93
        }
      ],
      "source": [
        "x.head()"
      ]
    },
    {
      "cell_type": "markdown",
      "id": "654042a9",
      "metadata": {
        "id": "654042a9"
      },
      "source": [
        "#KNN Regressor Model"
      ]
    },
    {
      "cell_type": "code",
      "source": [
        "\n",
        "# Importing Train test split\n",
        "from sklearn.model_selection import train_test_split\n",
        "train_x,test_x,train_y,test_y = train_test_split(x,y, random_state = 56)"
      ],
      "metadata": {
        "id": "DcgjYbACq2gA"
      },
      "id": "DcgjYbACq2gA",
      "execution_count": null,
      "outputs": []
    },
    {
      "cell_type": "code",
      "source": [
        "#importing KNN regressor and metric mse\n",
        "\n",
        "from sklearn.neighbors import KNeighborsRegressor as KNN\n",
        "from sklearn.metrics import mean_squared_error, r2_score"
      ],
      "metadata": {
        "id": "1otriG7yq_eu"
      },
      "id": "1otriG7yq_eu",
      "execution_count": null,
      "outputs": []
    },
    {
      "cell_type": "code",
      "source": [
        "# Creating instance of KNN\n",
        "reg = KNN(n_neighbors = 4)\n",
        "\n",
        "# Fitting the model\n",
        "reg.fit(train_x, train_y)\n",
        "\n",
        "# Predicting over the Train Set and calculating mse\n",
        "test_predict = reg.predict(test_x) \n",
        "k=mse(test_predict, test_y)\n",
        "print('Test MSE Score ', k )"
      ],
      "metadata": {
        "id": "YjTBNi-jrX_C",
        "colab": {
          "base_uri": "https://localhost:8080/"
        },
        "outputId": "c307787e-1e34-4ab8-94aa-09d12c0024b1"
      },
      "id": "YjTBNi-jrX_C",
      "execution_count": null,
      "outputs": [
        {
          "output_type": "stream",
          "name": "stdout",
          "text": [
            "Test MSE Score  23829155.24148801\n"
          ]
        }
      ]
    },
    {
      "cell_type": "markdown",
      "id": "2a986321",
      "metadata": {
        "id": "2a986321"
      },
      "source": [
        "### Elbow for Classifier"
      ]
    },
    {
      "cell_type": "code",
      "source": [
        "def Elbow(K):\n",
        "  #initiating empty list\n",
        "    test_mse = []\n",
        "  \n",
        "  #training model for evey value of K\n",
        "    for i in K:\n",
        "        #Instance of KNN\n",
        "        reg = KNN(n_neighbors = i)\n",
        "        reg.fit(train_x, train_y)\n",
        "        #Appending mse value to empty list claculated using the predictions\n",
        "        tmp = reg.predict(test_x)\n",
        "        tmp = mse(tmp,test_y)\n",
        "        test_mse.append(tmp)\n",
        "    \n",
        "    return test_mse"
      ],
      "metadata": {
        "id": "QqC4kUqPtUtC"
      },
      "id": "QqC4kUqPtUtC",
      "execution_count": null,
      "outputs": []
    },
    {
      "cell_type": "code",
      "source": [
        "#Defining K range\n",
        "k = range(1,10)"
      ],
      "metadata": {
        "id": "H86o39sItYOY"
      },
      "id": "H86o39sItYOY",
      "execution_count": null,
      "outputs": []
    },
    {
      "cell_type": "code",
      "source": [
        "# calling above defined function\n",
        "test = Elbow(k)"
      ],
      "metadata": {
        "id": "P6Ew5EL8talS"
      },
      "id": "P6Ew5EL8talS",
      "execution_count": null,
      "outputs": []
    },
    {
      "cell_type": "code",
      "source": [
        "# plotting the Curves\n",
        "plt.plot(k, test)\n",
        "plt.xlabel('K Neighbors')\n",
        "plt.ylabel('Test Mean Squared Error')\n",
        "plt.title('Elbow Curve for test')"
      ],
      "metadata": {
        "id": "DLi9sV7ptd36",
        "colab": {
          "base_uri": "https://localhost:8080/",
          "height": 312
        },
        "outputId": "832ef772-8b69-4930-cdba-26d449674382"
      },
      "id": "DLi9sV7ptd36",
      "execution_count": null,
      "outputs": [
        {
          "output_type": "execute_result",
          "data": {
            "text/plain": [
              "Text(0.5, 1.0, 'Elbow Curve for test')"
            ]
          },
          "metadata": {},
          "execution_count": 163
        },
        {
          "output_type": "display_data",
          "data": {
            "image/png": "[encoded data removed]",
            "text/plain": [
              "<Figure size 432x288 with 1 Axes>"
            ]
          },
          "metadata": {
            "needs_background": "light"
          }
        }
      ]
    },
    {
      "cell_type": "markdown",
      "source": [
        "The best k value for the knn was observed as 9"
      ],
      "metadata": {
        "id": "eJfHU2-mU-ZH"
      },
      "id": "eJfHU2-mU-ZH"
    },
    {
      "cell_type": "code",
      "source": [
        "# Creating instance of KNN\n",
        "reg = KNN(n_neighbors = 9)\n",
        "# Fitting the model\n",
        "reg.fit(train_x, train_y)\n",
        "\n",
        "# Predicting using the Train Set and calculating MSE\n",
        "train_predict = reg.predict(train_x)\n",
        "ktrain = mse(train_predict, train_y)\n",
        "print('Train MSE    ', ktrain )"
      ],
      "metadata": {
        "id": "O24_2KhEtgmC",
        "colab": {
          "base_uri": "https://localhost:8080/"
        },
        "outputId": "65fdbbae-1ee4-43e3-c011-6e6902ed1582"
      },
      "id": "O24_2KhEtgmC",
      "execution_count": null,
      "outputs": [
        {
          "output_type": "stream",
          "name": "stdout",
          "text": [
            "Train MSE     10519814.6339617\n"
          ]
        }
      ]
    },
    {
      "cell_type": "code",
      "source": [
        "# Creating instance of KNN\n",
        "reg = KNN(n_neighbors = 9)\n",
        "# Fitting the model\n",
        "reg.fit(train_x, train_y)\n",
        "\n",
        "# Predicting using the Test Set and calculating MSE\n",
        "test_predict = reg.predict(test_x)\n",
        "ktest = mse(test_predict, test_y)\n",
        "print('Test MSE    ', ktest )"
      ],
      "metadata": {
        "id": "2CNpwnCH6b4_",
        "colab": {
          "base_uri": "https://localhost:8080/"
        },
        "outputId": "6c1d1962-1c27-48bd-e527-5810a3283a56"
      },
      "execution_count": null,
      "outputs": [
        {
          "output_type": "stream",
          "name": "stdout",
          "text": [
            "Test MSE     31086855.4391946\n"
          ]
        }
      ],
      "id": "2CNpwnCH6b4_"
    },
    {
      "cell_type": "markdown",
      "id": "41613548",
      "metadata": {
        "id": "41613548"
      },
      "source": [
        "#Linear Regression"
      ]
    },
    {
      "cell_type": "code",
      "execution_count": null,
      "id": "42be7328",
      "metadata": {
        "id": "42be7328"
      },
      "outputs": [],
      "source": [
        "#importing Linear Regression and metric mean square error\n",
        "from sklearn.linear_model import LinearRegression as LR\n",
        "from sklearn.metrics import mean_squared_error as mse\n",
        "from sklearn.linear_model import Ridge, Lasso\n",
        "from sklearn.metrics import r2_score"
      ]
    },
    {
      "cell_type": "code",
      "execution_count": null,
      "id": "923bff6c",
      "metadata": {
        "id": "923bff6c"
      },
      "outputs": [],
      "source": [
        "# Importing Train test split\n",
        "from sklearn.model_selection import train_test_split\n",
        "train_x,test_x,train_y,test_y = train_test_split(x,y, random_state = 56)"
      ]
    },
    {
      "cell_type": "code",
      "execution_count": null,
      "id": "a0d54c88",
      "metadata": {
        "id": "a0d54c88",
        "colab": {
          "base_uri": "https://localhost:8080/"
        },
        "outputId": "b7566b39-4ee3-458b-86d0-d24feaa4ee9d"
      },
      "outputs": [
        {
          "output_type": "execute_result",
          "data": {
            "text/plain": [
              "LinearRegression(normalize=True)"
            ]
          },
          "metadata": {},
          "execution_count": 101
        }
      ],
      "source": [
        "# Creating instance of Linear Regresssion\n",
        "lr = LR(normalize = True)\n",
        "\n",
        "# Fitting the model\n",
        "lr.fit(train_x, train_y)"
      ]
    },
    {
      "cell_type": "code",
      "execution_count": null,
      "id": "c6395325",
      "metadata": {
        "id": "c6395325",
        "colab": {
          "base_uri": "https://localhost:8080/"
        },
        "outputId": "98338ef7-59c2-40da-8ca6-930932fb6c97"
      },
      "outputs": [
        {
          "output_type": "stream",
          "name": "stdout",
          "text": [
            "Training Mean  Error 9772792.198752813\n"
          ]
        }
      ],
      "source": [
        "# Predicting over the Train Set and calculating error\n",
        "train_predict = lr.predict(train_x)\n",
        "k = mse(train_predict, train_y)\n",
        "print('Training Mean  Error', k )"
      ]
    },
    {
      "cell_type": "code",
      "execution_count": null,
      "id": "49bb67eb",
      "metadata": {
        "id": "49bb67eb",
        "colab": {
          "base_uri": "https://localhost:8080/"
        },
        "outputId": "881c2835-bd85-4a9f-89ab-e33b041f9cd2"
      },
      "outputs": [
        {
          "output_type": "stream",
          "name": "stdout",
          "text": [
            "Test Mean  Error     30085430.990275927\n"
          ]
        }
      ],
      "source": [
        "# Predicting over the Test Set and calculating error\n",
        "test_predict = lr.predict(test_x)\n",
        "k = mse(test_predict, test_y)\n",
        "print('Test Mean  Error    ', k )"
      ]
    },
    {
      "cell_type": "markdown",
      "source": [
        "The test mse error seems to increase alot than the train mse error this seems like the model was overfitted\n",
        "\n",
        "To overcome this we can find the coefficients of the function and find the most relevant ones"
      ],
      "metadata": {
        "id": "GHW-0e5qVdbE"
      },
      "id": "GHW-0e5qVdbE"
    },
    {
      "cell_type": "markdown",
      "id": "784c3a0c",
      "metadata": {
        "id": "784c3a0c"
      },
      "source": [
        "### Parameters of Linear Regression"
      ]
    },
    {
      "cell_type": "code",
      "execution_count": null,
      "id": "90291218",
      "metadata": {
        "id": "90291218",
        "colab": {
          "base_uri": "https://localhost:8080/"
        },
        "outputId": "cd5ade89-9e49-4469-9b23-214225505af1"
      },
      "outputs": [
        {
          "output_type": "execute_result",
          "data": {
            "text/plain": [
              "array([ 1.56855968e+02, -2.05053462e+02,  1.53784464e+03, -7.78622015e+04,\n",
              "        2.54884563e+02, -1.56330980e+03,  9.35731545e+04,  2.67870877e+02,\n",
              "       -6.72338581e+15, -6.72338581e+15])"
            ]
          },
          "metadata": {},
          "execution_count": 104
        }
      ],
      "source": [
        "lr.coef_"
      ]
    },
    {
      "cell_type": "markdown",
      "id": "a66fe407",
      "metadata": {
        "id": "a66fe407"
      },
      "source": [
        "### Plotting the coefficients"
      ]
    },
    {
      "cell_type": "code",
      "execution_count": null,
      "id": "3247c56c",
      "metadata": {
        "id": "3247c56c",
        "colab": {
          "base_uri": "https://localhost:8080/",
          "height": 680
        },
        "outputId": "21cf0aaa-d3f1-4a5e-856d-be656a3b12d6"
      },
      "outputs": [
        {
          "output_type": "execute_result",
          "data": {
            "text/plain": [
              "Text(0.5, 1.0, 'Normalized Coefficient plot')"
            ]
          },
          "metadata": {},
          "execution_count": 105
        },
        {
          "output_type": "display_data",
          "data": {
            "image/png": "[encoded data removed]",
            "text/plain": [
              "<Figure size 960x720 with 1 Axes>"
            ]
          },
          "metadata": {}
        }
      ],
      "source": [
        "plt.figure(figsize=(8, 6), dpi=120, facecolor='w', edgecolor='b')\n",
        "x = range(len(train_x.columns))\n",
        "y = lr.coef_\n",
        "plt.bar( x, y )\n",
        "plt.xlabel( \"Variables\")\n",
        "plt.ylabel('Coefficients')\n",
        "plt.title('Normalized Coefficient plot')"
      ]
    },
    {
      "cell_type": "markdown",
      "id": "162ef589",
      "metadata": {
        "id": "162ef589"
      },
      "source": [
        "#### Creating new subsets of data"
      ]
    },
    {
      "cell_type": "code",
      "execution_count": null,
      "id": "779dd3bb",
      "metadata": {
        "id": "779dd3bb",
        "colab": {
          "base_uri": "https://localhost:8080/"
        },
        "outputId": "4aeb53ce-a130-4fcf-a673-1352087d4be3"
      },
      "outputs": [
        {
          "output_type": "execute_result",
          "data": {
            "text/plain": [
              "((729322, 10), (729322,))"
            ]
          },
          "metadata": {},
          "execution_count": 106
        }
      ],
      "source": [
        "#seperating independent and dependent variables\n",
        "x = data.drop(['trip_duration'], axis=1)\n",
        "y = data['trip_duration']\n",
        "x.shape, y.shape"
      ]
    },
    {
      "cell_type": "markdown",
      "id": "c4b1217d",
      "metadata": {
        "id": "c4b1217d"
      },
      "source": [
        "#### Arranging coefficients with features"
      ]
    },
    {
      "cell_type": "code",
      "execution_count": null,
      "id": "b2a91ed3",
      "metadata": {
        "scrolled": false,
        "id": "b2a91ed3",
        "colab": {
          "base_uri": "https://localhost:8080/",
          "height": 363
        },
        "outputId": "07070ee4-156a-4991-d034-6d672b31791c"
      },
      "outputs": [
        {
          "output_type": "execute_result",
          "data": {
            "text/html": [
              "\n",
              "  <div id=\"df-f6b1f1be-ed96-4876-a9b2-c0c7887dde6e\">\n",
              "    <div class=\"colab-df-container\">\n",
              "      <div>\n",
              "<style scoped>\n",
              "    .dataframe tbody tr th:only-of-type {\n",
              "        vertical-align: middle;\n",
              "    }\n",
              "\n",
              "    .dataframe tbody tr th {\n",
              "        vertical-align: top;\n",
              "    }\n",
              "\n",
              "    .dataframe thead th {\n",
              "        text-align: right;\n",
              "    }\n",
              "</style>\n",
              "<table border=\"1\" class=\"dataframe\">\n",
              "  <thead>\n",
              "    <tr style=\"text-align: right;\">\n",
              "      <th></th>\n",
              "      <th>Variable</th>\n",
              "      <th>coefficient</th>\n",
              "    </tr>\n",
              "  </thead>\n",
              "  <tbody>\n",
              "    <tr>\n",
              "      <th>0</th>\n",
              "      <td>passenger_count</td>\n",
              "      <td>1.568560e+02</td>\n",
              "    </tr>\n",
              "    <tr>\n",
              "      <th>1</th>\n",
              "      <td>pickuphour</td>\n",
              "      <td>-2.050535e+02</td>\n",
              "    </tr>\n",
              "    <tr>\n",
              "      <th>2</th>\n",
              "      <td>pickupday</td>\n",
              "      <td>1.537845e+03</td>\n",
              "    </tr>\n",
              "    <tr>\n",
              "      <th>3</th>\n",
              "      <td>pickupmonth</td>\n",
              "      <td>-7.786220e+04</td>\n",
              "    </tr>\n",
              "    <tr>\n",
              "      <th>4</th>\n",
              "      <td>dropoffhour</td>\n",
              "      <td>2.548846e+02</td>\n",
              "    </tr>\n",
              "    <tr>\n",
              "      <th>5</th>\n",
              "      <td>dropoffday</td>\n",
              "      <td>-1.563310e+03</td>\n",
              "    </tr>\n",
              "    <tr>\n",
              "      <th>6</th>\n",
              "      <td>dropoffmonth</td>\n",
              "      <td>9.357315e+04</td>\n",
              "    </tr>\n",
              "    <tr>\n",
              "      <th>7</th>\n",
              "      <td>store_and_fwd_encoded</td>\n",
              "      <td>2.678709e+02</td>\n",
              "    </tr>\n",
              "    <tr>\n",
              "      <th>8</th>\n",
              "      <td>vendor_id_1</td>\n",
              "      <td>-6.723386e+15</td>\n",
              "    </tr>\n",
              "    <tr>\n",
              "      <th>9</th>\n",
              "      <td>vendor_id_2</td>\n",
              "      <td>-6.723386e+15</td>\n",
              "    </tr>\n",
              "  </tbody>\n",
              "</table>\n",
              "</div>\n",
              "      <button class=\"colab-df-convert\" onclick=\"convertToInteractive('df-f6b1f1be-ed96-4876-a9b2-c0c7887dde6e')\"\n",
              "              title=\"Convert this dataframe to an interactive table.\"\n",
              "              style=\"display:none;\">\n",
              "        \n",
              "  <svg xmlns=\"http://www.w3.org/2000/svg\" height=\"24px\"viewBox=\"0 0 24 24\"\n",
              "       width=\"24px\">\n",
              "    <path d=\"M0 0h24v24H0V0z\" fill=\"none\"/>\n",
              "    <path d=\"M18.56 5.44l.94 2.06.94-2.06 2.06-.94-2.06-.94-.94-2.06-.94 2.06-2.06.94zm-11 1L8.5 8.5l.94-2.06 2.06-.94-2.06-.94L8.5 2.5l-.94 2.06-2.06.94zm10 10l.94 2.06.94-2.06 2.06-.94-2.06-.94-.94-2.06-.94 2.06-2.06.94z\"/><path d=\"M17.41 7.96l-1.37-1.37c-.4-.4-.92-.59-1.43-.59-.52 0-1.04.2-1.43.59L10.3 9.45l-7.72 7.72c-.78.78-.78 2.05 0 2.83L4 21.41c.39.39.9.59 1.41.59.51 0 1.02-.2 1.41-.59l7.78-7.78 2.81-2.81c.8-.78.8-2.07 0-2.86zM5.41 20L4 18.59l7.72-7.72 1.47 1.35L5.41 20z\"/>\n",
              "  </svg>\n",
              "      </button>\n",
              "      \n",
              "  <style>\n",
              "    .colab-df-container {\n",
              "      display:flex;\n",
              "      flex-wrap:wrap;\n",
              "      gap: 12px;\n",
              "    }\n",
              "\n",
              "    .colab-df-convert {\n",
              "      background-color: #E8F0FE;\n",
              "      border: none;\n",
              "      border-radius: 50%;\n",
              "      cursor: pointer;\n",
              "      display: none;\n",
              "      fill: #1967D2;\n",
              "      height: 32px;\n",
              "      padding: 0 0 0 0;\n",
              "      width: 32px;\n",
              "    }\n",
              "\n",
              "    .colab-df-convert:hover {\n",
              "      background-color: #E2EBFA;\n",
              "      box-shadow: 0px 1px 2px rgba(60, 64, 67, 0.3), 0px 1px 3px 1px rgba(60, 64, 67, 0.15);\n",
              "      fill: #174EA6;\n",
              "    }\n",
              "\n",
              "    [theme=dark] .colab-df-convert {\n",
              "      background-color: #3B4455;\n",
              "      fill: #D2E3FC;\n",
              "    }\n",
              "\n",
              "    [theme=dark] .colab-df-convert:hover {\n",
              "      background-color: #434B5C;\n",
              "      box-shadow: 0px 1px 3px 1px rgba(0, 0, 0, 0.15);\n",
              "      filter: drop-shadow(0px 1px 2px rgba(0, 0, 0, 0.3));\n",
              "      fill: #FFFFFF;\n",
              "    }\n",
              "  </style>\n",
              "\n",
              "      <script>\n",
              "        const buttonEl =\n",
              "          document.querySelector('#df-f6b1f1be-ed96-4876-a9b2-c0c7887dde6e button.colab-df-convert');\n",
              "        buttonEl.style.display =\n",
              "          google.colab.kernel.accessAllowed ? 'block' : 'none';\n",
              "\n",
              "        async function convertToInteractive(key) {\n",
              "          const element = document.querySelector('#df-f6b1f1be-ed96-4876-a9b2-c0c7887dde6e');\n",
              "          const dataTable =\n",
              "            await google.colab.kernel.invokeFunction('convertToInteractive',\n",
              "                                                     [key], {});\n",
              "          if (!dataTable) return;\n",
              "\n",
              "          const docLinkHtml = 'Like what you see? Visit the ' +\n",
              "            '<a target=\"_blank\" href=https://colab.research.google.com/notebooks/data_table.ipynb>data table notebook</a>'\n",
              "            + ' to learn more about interactive tables.';\n",
              "          element.innerHTML = '';\n",
              "          dataTable['output_type'] = 'display_data';\n",
              "          await google.colab.output.renderOutput(dataTable, element);\n",
              "          const docLink = document.createElement('div');\n",
              "          docLink.innerHTML = docLinkHtml;\n",
              "          element.appendChild(docLink);\n",
              "        }\n",
              "      </script>\n",
              "    </div>\n",
              "  </div>\n",
              "  "
            ],
            "text/plain": [
              "                Variable   coefficient\n",
              "0        passenger_count  1.568560e+02\n",
              "1             pickuphour -2.050535e+02\n",
              "2              pickupday  1.537845e+03\n",
              "3            pickupmonth -7.786220e+04\n",
              "4            dropoffhour  2.548846e+02\n",
              "5             dropoffday -1.563310e+03\n",
              "6           dropoffmonth  9.357315e+04\n",
              "7  store_and_fwd_encoded  2.678709e+02\n",
              "8            vendor_id_1 -6.723386e+15\n",
              "9            vendor_id_2 -6.723386e+15"
            ]
          },
          "metadata": {},
          "execution_count": 107
        }
      ],
      "source": [
        "Coefficients = pd.DataFrame({\n",
        "    'Variable'    : x.columns,\n",
        "    'coefficient' : lr.coef_\n",
        "})\n",
        "Coefficients"
      ]
    },
    {
      "cell_type": "code",
      "execution_count": null,
      "id": "09b1f4ee",
      "metadata": {
        "id": "09b1f4ee"
      },
      "outputs": [],
      "source": [
        "#Chossing variables with sigificance greater than 0 ( Filtering Significant Features)\n",
        "sig_var = Coefficients[Coefficients.coefficient > 0]"
      ]
    },
    {
      "cell_type": "code",
      "execution_count": null,
      "id": "2a1b1c41",
      "metadata": {
        "id": "2a1b1c41",
        "colab": {
          "base_uri": "https://localhost:8080/",
          "height": 206
        },
        "outputId": "74b26012-a90e-4f6c-870a-13133a1ea8c1"
      },
      "outputs": [
        {
          "output_type": "execute_result",
          "data": {
            "text/html": [
              "\n",
              "  <div id=\"df-c072507b-2a67-4a43-934d-faf6261126a7\">\n",
              "    <div class=\"colab-df-container\">\n",
              "      <div>\n",
              "<style scoped>\n",
              "    .dataframe tbody tr th:only-of-type {\n",
              "        vertical-align: middle;\n",
              "    }\n",
              "\n",
              "    .dataframe tbody tr th {\n",
              "        vertical-align: top;\n",
              "    }\n",
              "\n",
              "    .dataframe thead th {\n",
              "        text-align: right;\n",
              "    }\n",
              "</style>\n",
              "<table border=\"1\" class=\"dataframe\">\n",
              "  <thead>\n",
              "    <tr style=\"text-align: right;\">\n",
              "      <th></th>\n",
              "      <th>passenger_count</th>\n",
              "      <th>pickupday</th>\n",
              "      <th>dropoffhour</th>\n",
              "      <th>dropoffmonth</th>\n",
              "      <th>store_and_fwd_encoded</th>\n",
              "    </tr>\n",
              "  </thead>\n",
              "  <tbody>\n",
              "    <tr>\n",
              "      <th>184765</th>\n",
              "      <td>1</td>\n",
              "      <td>2</td>\n",
              "      <td>23</td>\n",
              "      <td>3</td>\n",
              "      <td>0</td>\n",
              "    </tr>\n",
              "    <tr>\n",
              "      <th>697925</th>\n",
              "      <td>6</td>\n",
              "      <td>2</td>\n",
              "      <td>17</td>\n",
              "      <td>2</td>\n",
              "      <td>0</td>\n",
              "    </tr>\n",
              "    <tr>\n",
              "      <th>73547</th>\n",
              "      <td>1</td>\n",
              "      <td>4</td>\n",
              "      <td>0</td>\n",
              "      <td>1</td>\n",
              "      <td>0</td>\n",
              "    </tr>\n",
              "    <tr>\n",
              "      <th>281498</th>\n",
              "      <td>6</td>\n",
              "      <td>1</td>\n",
              "      <td>18</td>\n",
              "      <td>5</td>\n",
              "      <td>0</td>\n",
              "    </tr>\n",
              "    <tr>\n",
              "      <th>374196</th>\n",
              "      <td>1</td>\n",
              "      <td>6</td>\n",
              "      <td>1</td>\n",
              "      <td>6</td>\n",
              "      <td>0</td>\n",
              "    </tr>\n",
              "  </tbody>\n",
              "</table>\n",
              "</div>\n",
              "      <button class=\"colab-df-convert\" onclick=\"convertToInteractive('df-c072507b-2a67-4a43-934d-faf6261126a7')\"\n",
              "              title=\"Convert this dataframe to an interactive table.\"\n",
              "              style=\"display:none;\">\n",
              "        \n",
              "  <svg xmlns=\"http://www.w3.org/2000/svg\" height=\"24px\"viewBox=\"0 0 24 24\"\n",
              "       width=\"24px\">\n",
              "    <path d=\"M0 0h24v24H0V0z\" fill=\"none\"/>\n",
              "    <path d=\"M18.56 5.44l.94 2.06.94-2.06 2.06-.94-2.06-.94-.94-2.06-.94 2.06-2.06.94zm-11 1L8.5 8.5l.94-2.06 2.06-.94-2.06-.94L8.5 2.5l-.94 2.06-2.06.94zm10 10l.94 2.06.94-2.06 2.06-.94-2.06-.94-.94-2.06-.94 2.06-2.06.94z\"/><path d=\"M17.41 7.96l-1.37-1.37c-.4-.4-.92-.59-1.43-.59-.52 0-1.04.2-1.43.59L10.3 9.45l-7.72 7.72c-.78.78-.78 2.05 0 2.83L4 21.41c.39.39.9.59 1.41.59.51 0 1.02-.2 1.41-.59l7.78-7.78 2.81-2.81c.8-.78.8-2.07 0-2.86zM5.41 20L4 18.59l7.72-7.72 1.47 1.35L5.41 20z\"/>\n",
              "  </svg>\n",
              "      </button>\n",
              "      \n",
              "  <style>\n",
              "    .colab-df-container {\n",
              "      display:flex;\n",
              "      flex-wrap:wrap;\n",
              "      gap: 12px;\n",
              "    }\n",
              "\n",
              "    .colab-df-convert {\n",
              "      background-color: #E8F0FE;\n",
              "      border: none;\n",
              "      border-radius: 50%;\n",
              "      cursor: pointer;\n",
              "      display: none;\n",
              "      fill: #1967D2;\n",
              "      height: 32px;\n",
              "      padding: 0 0 0 0;\n",
              "      width: 32px;\n",
              "    }\n",
              "\n",
              "    .colab-df-convert:hover {\n",
              "      background-color: #E2EBFA;\n",
              "      box-shadow: 0px 1px 2px rgba(60, 64, 67, 0.3), 0px 1px 3px 1px rgba(60, 64, 67, 0.15);\n",
              "      fill: #174EA6;\n",
              "    }\n",
              "\n",
              "    [theme=dark] .colab-df-convert {\n",
              "      background-color: #3B4455;\n",
              "      fill: #D2E3FC;\n",
              "    }\n",
              "\n",
              "    [theme=dark] .colab-df-convert:hover {\n",
              "      background-color: #434B5C;\n",
              "      box-shadow: 0px 1px 3px 1px rgba(0, 0, 0, 0.15);\n",
              "      filter: drop-shadow(0px 1px 2px rgba(0, 0, 0, 0.3));\n",
              "      fill: #FFFFFF;\n",
              "    }\n",
              "  </style>\n",
              "\n",
              "      <script>\n",
              "        const buttonEl =\n",
              "          document.querySelector('#df-c072507b-2a67-4a43-934d-faf6261126a7 button.colab-df-convert');\n",
              "        buttonEl.style.display =\n",
              "          google.colab.kernel.accessAllowed ? 'block' : 'none';\n",
              "\n",
              "        async function convertToInteractive(key) {\n",
              "          const element = document.querySelector('#df-c072507b-2a67-4a43-934d-faf6261126a7');\n",
              "          const dataTable =\n",
              "            await google.colab.kernel.invokeFunction('convertToInteractive',\n",
              "                                                     [key], {});\n",
              "          if (!dataTable) return;\n",
              "\n",
              "          const docLinkHtml = 'Like what you see? Visit the ' +\n",
              "            '<a target=\"_blank\" href=https://colab.research.google.com/notebooks/data_table.ipynb>data table notebook</a>'\n",
              "            + ' to learn more about interactive tables.';\n",
              "          element.innerHTML = '';\n",
              "          dataTable['output_type'] = 'display_data';\n",
              "          await google.colab.output.renderOutput(dataTable, element);\n",
              "          const docLink = document.createElement('div');\n",
              "          docLink.innerHTML = docLinkHtml;\n",
              "          element.appendChild(docLink);\n",
              "        }\n",
              "      </script>\n",
              "    </div>\n",
              "  </div>\n",
              "  "
            ],
            "text/plain": [
              "        passenger_count  pickupday  ...  dropoffmonth  store_and_fwd_encoded\n",
              "184765                1          2  ...             3                      0\n",
              "697925                6          2  ...             2                      0\n",
              "73547                 1          4  ...             1                      0\n",
              "281498                6          1  ...             5                      0\n",
              "374196                1          6  ...             6                      0\n",
              "\n",
              "[5 rows x 5 columns]"
            ]
          },
          "metadata": {},
          "execution_count": 109
        }
      ],
      "source": [
        "#Extracting the significant subset do independent Variables\n",
        "subset = data[sig_var['Variable'].values]\n",
        "subset.head()"
      ]
    },
    {
      "cell_type": "code",
      "execution_count": null,
      "id": "348d6393",
      "metadata": {
        "id": "348d6393"
      },
      "outputs": [],
      "source": [
        "# Importing the train test split function\n",
        "from sklearn.model_selection import train_test_split\n",
        "train_x,test_x,train_y,test_y = train_test_split(subset, y , random_state = 56)"
      ]
    },
    {
      "cell_type": "markdown",
      "id": "89ffc539",
      "metadata": {
        "id": "89ffc539"
      },
      "source": [
        "## Implementing Final Linear Regression"
      ]
    },
    {
      "cell_type": "code",
      "execution_count": null,
      "id": "bfd7878d",
      "metadata": {
        "id": "bfd7878d"
      },
      "outputs": [],
      "source": [
        "#importing Linear Regression and metric mean square error\n",
        "from sklearn.linear_model import LinearRegression as LR\n",
        "from sklearn.metrics import mean_absolute_error as mae"
      ]
    },
    {
      "cell_type": "markdown",
      "id": "b5d0e04a",
      "metadata": {
        "id": "b5d0e04a"
      },
      "source": [
        "#### Training Model"
      ]
    },
    {
      "cell_type": "code",
      "execution_count": null,
      "id": "58e6304e",
      "metadata": {
        "id": "58e6304e",
        "colab": {
          "base_uri": "https://localhost:8080/"
        },
        "outputId": "7566478a-52fb-428f-d910-02ed0ff73b03"
      },
      "outputs": [
        {
          "output_type": "execute_result",
          "data": {
            "text/plain": [
              "LinearRegression(normalize=True)"
            ]
          },
          "metadata": {},
          "execution_count": 112
        }
      ],
      "source": [
        "# Creating instance of Linear Regresssion with Normalised Data\n",
        "lr = LR(normalize = True)\n",
        "\n",
        "# Fitting the model\n",
        "lr.fit(train_x, train_y)"
      ]
    },
    {
      "cell_type": "markdown",
      "id": "66613d56",
      "metadata": {
        "id": "66613d56"
      },
      "source": [
        "#### Predicting over the train set"
      ]
    },
    {
      "cell_type": "code",
      "execution_count": null,
      "id": "4b5c5cc7",
      "metadata": {
        "id": "4b5c5cc7",
        "colab": {
          "base_uri": "https://localhost:8080/"
        },
        "outputId": "10614273-950d-48d4-c40c-61a043c8cf2d"
      },
      "outputs": [
        {
          "output_type": "stream",
          "name": "stdout",
          "text": [
            "Training Mean  Error 9866148.79355098\n"
          ]
        }
      ],
      "source": [
        "# Predicting over the Train Set and calculating error\n",
        "train_predict = lr.predict(train_x)\n",
        "lintrain = mse(train_predict, train_y)\n",
        "print('Training Mean  Error', lintrain )"
      ]
    },
    {
      "cell_type": "markdown",
      "id": "02482dd6",
      "metadata": {
        "id": "02482dd6"
      },
      "source": [
        "#### Predicting over the test set"
      ]
    },
    {
      "cell_type": "code",
      "execution_count": null,
      "id": "28b156c0",
      "metadata": {
        "id": "28b156c0",
        "scrolled": true,
        "colab": {
          "base_uri": "https://localhost:8080/"
        },
        "outputId": "8c5f4a20-5635-4bd2-93d4-f1936a8f8ee8"
      },
      "outputs": [
        {
          "output_type": "stream",
          "name": "stdout",
          "text": [
            "Test Mean  Error     30125192.291684538\n"
          ]
        }
      ],
      "source": [
        "# Predicting over the Test Set and calculating error\n",
        "test_predict = lr.predict(test_x)\n",
        "lintest = mse(test_predict, test_y)\n",
        "print('Test Mean  Error    ', lintest )"
      ]
    },
    {
      "cell_type": "markdown",
      "source": [
        "There still seems to be a big difference between the train and the test models"
      ],
      "metadata": {
        "id": "gtlXmQnoWeg3"
      },
      "id": "gtlXmQnoWeg3"
    },
    {
      "cell_type": "markdown",
      "id": "70c282bb",
      "metadata": {
        "id": "70c282bb"
      },
      "source": [
        "#### Plotting the coefficients"
      ]
    },
    {
      "cell_type": "code",
      "execution_count": null,
      "id": "db2a289d",
      "metadata": {
        "id": "db2a289d",
        "scrolled": false,
        "colab": {
          "base_uri": "https://localhost:8080/",
          "height": 680
        },
        "outputId": "b7ae7e77-8e17-494b-95eb-c4a477aadf96"
      },
      "outputs": [
        {
          "output_type": "execute_result",
          "data": {
            "text/plain": [
              "Text(0.5, 1.0, 'Normalized Coefficient plot')"
            ]
          },
          "metadata": {},
          "execution_count": 115
        },
        {
          "output_type": "display_data",
          "data": {
            "image/png": "[encoded data removed]",
            "text/plain": [
              "<Figure size 960x720 with 1 Axes>"
            ]
          },
          "metadata": {}
        }
      ],
      "source": [
        "plt.figure(figsize=(8, 6), dpi=120, facecolor='w', edgecolor='b')\n",
        "x = range(len(train_x.columns))\n",
        "y = lr.coef_\n",
        "plt.bar( x, y )\n",
        "plt.xlabel( \"Variables\")\n",
        "plt.ylabel('Coefficients')\n",
        "plt.title('Normalized Coefficient plot')"
      ]
    },
    {
      "cell_type": "markdown",
      "source": [
        "Here the variable 4 (store_and_frd_flag) has a higher significance\n",
        "\n",
        "passenger_count and dropoff_month also has a decent significance to the linear model"
      ],
      "metadata": {
        "id": "dI0f97nnW58w"
      },
      "id": "dI0f97nnW58w"
    },
    {
      "cell_type": "markdown",
      "id": "180488d2",
      "metadata": {
        "id": "180488d2"
      },
      "source": [
        "### Implementing Ridge Regression model"
      ]
    },
    {
      "cell_type": "markdown",
      "source": [
        "Lets try to regularize our linear model by using the ridge and lasso models"
      ],
      "metadata": {
        "id": "u9-zWmYGXhlA"
      },
      "id": "u9-zWmYGXhlA"
    },
    {
      "cell_type": "code",
      "execution_count": null,
      "id": "55260bd2",
      "metadata": {
        "id": "55260bd2",
        "colab": {
          "base_uri": "https://localhost:8080/"
        },
        "outputId": "ee097dd5-d6d2-4dd9-8bd6-5ba0b4da6e7f"
      },
      "outputs": [
        {
          "output_type": "stream",
          "name": "stdout",
          "text": [
            "9866148.793620868\n"
          ]
        }
      ],
      "source": [
        "ridgem = Ridge(alpha = 2)\n",
        "\n",
        "ridgem.fit(train_x, train_y)\n",
        "\n",
        "ridgetrainpredict=ridgem.predict(train_x)\n",
        "\n",
        "# Evaluating the Ridge Regression model using mse\n",
        "rtrain = mse(train_y, ridgetrainpredict)\n",
        "print(rtrain)"
      ]
    },
    {
      "cell_type": "code",
      "execution_count": null,
      "metadata": {
        "id": "k-_DeJoZ0R91",
        "colab": {
          "base_uri": "https://localhost:8080/"
        },
        "outputId": "399c22cd-1b25-4d3f-80a5-a286fec2ca69"
      },
      "outputs": [
        {
          "output_type": "stream",
          "name": "stdout",
          "text": [
            "30125192.229189225\n"
          ]
        }
      ],
      "source": [
        "ridgem = Ridge(alpha = 2)\n",
        "\n",
        "ridgem.fit(train_x, train_y)\n",
        "\n",
        "ridgetestpredict=ridgem.predict(test_x)\n",
        "\n",
        "# Evaluating the Ridge Regression model\n",
        "rtest = mse(test_y, ridgetestpredict)\n",
        "print(rtest)"
      ],
      "id": "k-_DeJoZ0R91"
    },
    {
      "cell_type": "markdown",
      "id": "85038bc0",
      "metadata": {
        "id": "85038bc0"
      },
      "source": [
        "### Implementing Lasso Regression"
      ]
    },
    {
      "cell_type": "code",
      "execution_count": null,
      "id": "108664f9",
      "metadata": {
        "id": "108664f9",
        "colab": {
          "base_uri": "https://localhost:8080/"
        },
        "outputId": "5d7c7a8c-5c45-49ae-efaa-baf62f397734"
      },
      "outputs": [
        {
          "output_type": "stream",
          "name": "stdout",
          "text": [
            "9866309.84762962\n"
          ]
        }
      ],
      "source": [
        "lassom = Lasso(alpha = 2)\n",
        "\n",
        "lassom.fit(train_x, train_y)\n",
        "\n",
        "lassotrainpredict=lassom.predict(train_x)\n",
        "\n",
        "# Evaluating the Lasso Regression model\n",
        "ltrain=mse(train_y, lassotrainpredict)\n",
        "print(ltrain)"
      ]
    },
    {
      "cell_type": "code",
      "execution_count": null,
      "metadata": {
        "id": "-VgIHhtL0pEj",
        "colab": {
          "base_uri": "https://localhost:8080/"
        },
        "outputId": "2b32cddc-90e6-42a4-c4d1-d0cf028f179b"
      },
      "outputs": [
        {
          "output_type": "stream",
          "name": "stdout",
          "text": [
            "30125242.321786396\n"
          ]
        }
      ],
      "source": [
        "lassom = Lasso(alpha = 2)\n",
        "\n",
        "lassom.fit(train_x, train_y)\n",
        "\n",
        "lassotestpredict=lassom.predict(test_x)\n",
        "\n",
        "# Evaluating the Lasso Regression model\n",
        "ltest=mse(test_y, lassotestpredict)\n",
        "print(ltest)"
      ],
      "id": "-VgIHhtL0pEj"
    },
    {
      "cell_type": "markdown",
      "source": [
        "the ridge and lasso regression seem to show the same case as above"
      ],
      "metadata": {
        "id": "qfX-jR4KXt_e"
      },
      "id": "qfX-jR4KXt_e"
    },
    {
      "cell_type": "markdown",
      "id": "051108d6",
      "metadata": {
        "id": "051108d6"
      },
      "source": [
        "# Decision Tree Regression"
      ]
    },
    {
      "cell_type": "code",
      "execution_count": null,
      "id": "03aac571",
      "metadata": {
        "id": "03aac571",
        "colab": {
          "base_uri": "https://localhost:8080/"
        },
        "outputId": "c5e31dca-d2c1-447f-891a-e9faa540a754"
      },
      "outputs": [
        {
          "output_type": "execute_result",
          "data": {
            "text/plain": [
              "((729322, 10), (729322,))"
            ]
          },
          "metadata": {},
          "execution_count": 120
        }
      ],
      "source": [
        "#seperating independent and dependent variables\n",
        "x = data.drop(['trip_duration'], axis=1)\n",
        "y = data['trip_duration']\n",
        "x.shape, y.shape"
      ]
    },
    {
      "cell_type": "code",
      "execution_count": null,
      "id": "b09e79a1",
      "metadata": {
        "id": "b09e79a1"
      },
      "outputs": [],
      "source": [
        "# Importing the train test split function\n",
        "from sklearn.model_selection import train_test_split\n",
        "train_x,test_x,train_y,test_y = train_test_split(subset, y , random_state = 56)"
      ]
    },
    {
      "cell_type": "code",
      "execution_count": null,
      "id": "593a98d2",
      "metadata": {
        "id": "593a98d2",
        "colab": {
          "base_uri": "https://localhost:8080/"
        },
        "outputId": "5377f8e9-1ecf-431b-8a58-9ed02242bd8c"
      },
      "outputs": [
        {
          "output_type": "execute_result",
          "data": {
            "text/plain": [
              "DecisionTreeRegressor(random_state=10)"
            ]
          },
          "metadata": {},
          "execution_count": 122
        }
      ],
      "source": [
        "#importing the DecisionTreeRegressor to predict a decision tree \n",
        "from sklearn.tree import DecisionTreeRegressor\n",
        "regressor = DecisionTreeRegressor(random_state=10)\n",
        "regressor.fit(train_x, train_y)"
      ]
    },
    {
      "cell_type": "code",
      "execution_count": null,
      "id": "d631c318",
      "metadata": {
        "id": "d631c318"
      },
      "outputs": [],
      "source": [
        "#predicting using the test data\n",
        "y_pred = regressor.predict(test_x)"
      ]
    },
    {
      "cell_type": "code",
      "execution_count": null,
      "id": "b362276c",
      "metadata": {
        "id": "b362276c",
        "colab": {
          "base_uri": "https://localhost:8080/",
          "height": 423
        },
        "outputId": "5342dddf-cbf3-45b0-8da2-c62ada9fec61"
      },
      "outputs": [
        {
          "output_type": "execute_result",
          "data": {
            "text/html": [
              "\n",
              "  <div id=\"df-c93d7912-9fa8-4a12-9890-ee5339f369fd\">\n",
              "    <div class=\"colab-df-container\">\n",
              "      <div>\n",
              "<style scoped>\n",
              "    .dataframe tbody tr th:only-of-type {\n",
              "        vertical-align: middle;\n",
              "    }\n",
              "\n",
              "    .dataframe tbody tr th {\n",
              "        vertical-align: top;\n",
              "    }\n",
              "\n",
              "    .dataframe thead th {\n",
              "        text-align: right;\n",
              "    }\n",
              "</style>\n",
              "<table border=\"1\" class=\"dataframe\">\n",
              "  <thead>\n",
              "    <tr style=\"text-align: right;\">\n",
              "      <th></th>\n",
              "      <th>Actual</th>\n",
              "      <th>Predicted</th>\n",
              "    </tr>\n",
              "  </thead>\n",
              "  <tbody>\n",
              "    <tr>\n",
              "      <th>443339</th>\n",
              "      <td>562</td>\n",
              "      <td>904.884532</td>\n",
              "    </tr>\n",
              "    <tr>\n",
              "      <th>439323</th>\n",
              "      <td>2203</td>\n",
              "      <td>862.500000</td>\n",
              "    </tr>\n",
              "    <tr>\n",
              "      <th>377143</th>\n",
              "      <td>773</td>\n",
              "      <td>670.667391</td>\n",
              "    </tr>\n",
              "    <tr>\n",
              "      <th>473235</th>\n",
              "      <td>309</td>\n",
              "      <td>875.490231</td>\n",
              "    </tr>\n",
              "    <tr>\n",
              "      <th>701005</th>\n",
              "      <td>131</td>\n",
              "      <td>835.690423</td>\n",
              "    </tr>\n",
              "    <tr>\n",
              "      <th>...</th>\n",
              "      <td>...</td>\n",
              "      <td>...</td>\n",
              "    </tr>\n",
              "    <tr>\n",
              "      <th>141356</th>\n",
              "      <td>575</td>\n",
              "      <td>892.375000</td>\n",
              "    </tr>\n",
              "    <tr>\n",
              "      <th>236872</th>\n",
              "      <td>710</td>\n",
              "      <td>946.843537</td>\n",
              "    </tr>\n",
              "    <tr>\n",
              "      <th>1153</th>\n",
              "      <td>887</td>\n",
              "      <td>980.493878</td>\n",
              "    </tr>\n",
              "    <tr>\n",
              "      <th>553810</th>\n",
              "      <td>377</td>\n",
              "      <td>1143.382567</td>\n",
              "    </tr>\n",
              "    <tr>\n",
              "      <th>449848</th>\n",
              "      <td>1386</td>\n",
              "      <td>955.083333</td>\n",
              "    </tr>\n",
              "  </tbody>\n",
              "</table>\n",
              "<p>182331 rows × 2 columns</p>\n",
              "</div>\n",
              "      <button class=\"colab-df-convert\" onclick=\"convertToInteractive('df-c93d7912-9fa8-4a12-9890-ee5339f369fd')\"\n",
              "              title=\"Convert this dataframe to an interactive table.\"\n",
              "              style=\"display:none;\">\n",
              "        \n",
              "  <svg xmlns=\"http://www.w3.org/2000/svg\" height=\"24px\"viewBox=\"0 0 24 24\"\n",
              "       width=\"24px\">\n",
              "    <path d=\"M0 0h24v24H0V0z\" fill=\"none\"/>\n",
              "    <path d=\"M18.56 5.44l.94 2.06.94-2.06 2.06-.94-2.06-.94-.94-2.06-.94 2.06-2.06.94zm-11 1L8.5 8.5l.94-2.06 2.06-.94-2.06-.94L8.5 2.5l-.94 2.06-2.06.94zm10 10l.94 2.06.94-2.06 2.06-.94-2.06-.94-.94-2.06-.94 2.06-2.06.94z\"/><path d=\"M17.41 7.96l-1.37-1.37c-.4-.4-.92-.59-1.43-.59-.52 0-1.04.2-1.43.59L10.3 9.45l-7.72 7.72c-.78.78-.78 2.05 0 2.83L4 21.41c.39.39.9.59 1.41.59.51 0 1.02-.2 1.41-.59l7.78-7.78 2.81-2.81c.8-.78.8-2.07 0-2.86zM5.41 20L4 18.59l7.72-7.72 1.47 1.35L5.41 20z\"/>\n",
              "  </svg>\n",
              "      </button>\n",
              "      \n",
              "  <style>\n",
              "    .colab-df-container {\n",
              "      display:flex;\n",
              "      flex-wrap:wrap;\n",
              "      gap: 12px;\n",
              "    }\n",
              "\n",
              "    .colab-df-convert {\n",
              "      background-color: #E8F0FE;\n",
              "      border: none;\n",
              "      border-radius: 50%;\n",
              "      cursor: pointer;\n",
              "      display: none;\n",
              "      fill: #1967D2;\n",
              "      height: 32px;\n",
              "      padding: 0 0 0 0;\n",
              "      width: 32px;\n",
              "    }\n",
              "\n",
              "    .colab-df-convert:hover {\n",
              "      background-color: #E2EBFA;\n",
              "      box-shadow: 0px 1px 2px rgba(60, 64, 67, 0.3), 0px 1px 3px 1px rgba(60, 64, 67, 0.15);\n",
              "      fill: #174EA6;\n",
              "    }\n",
              "\n",
              "    [theme=dark] .colab-df-convert {\n",
              "      background-color: #3B4455;\n",
              "      fill: #D2E3FC;\n",
              "    }\n",
              "\n",
              "    [theme=dark] .colab-df-convert:hover {\n",
              "      background-color: #434B5C;\n",
              "      box-shadow: 0px 1px 3px 1px rgba(0, 0, 0, 0.15);\n",
              "      filter: drop-shadow(0px 1px 2px rgba(0, 0, 0, 0.3));\n",
              "      fill: #FFFFFF;\n",
              "    }\n",
              "  </style>\n",
              "\n",
              "      <script>\n",
              "        const buttonEl =\n",
              "          document.querySelector('#df-c93d7912-9fa8-4a12-9890-ee5339f369fd button.colab-df-convert');\n",
              "        buttonEl.style.display =\n",
              "          google.colab.kernel.accessAllowed ? 'block' : 'none';\n",
              "\n",
              "        async function convertToInteractive(key) {\n",
              "          const element = document.querySelector('#df-c93d7912-9fa8-4a12-9890-ee5339f369fd');\n",
              "          const dataTable =\n",
              "            await google.colab.kernel.invokeFunction('convertToInteractive',\n",
              "                                                     [key], {});\n",
              "          if (!dataTable) return;\n",
              "\n",
              "          const docLinkHtml = 'Like what you see? Visit the ' +\n",
              "            '<a target=\"_blank\" href=https://colab.research.google.com/notebooks/data_table.ipynb>data table notebook</a>'\n",
              "            + ' to learn more about interactive tables.';\n",
              "          element.innerHTML = '';\n",
              "          dataTable['output_type'] = 'display_data';\n",
              "          await google.colab.output.renderOutput(dataTable, element);\n",
              "          const docLink = document.createElement('div');\n",
              "          docLink.innerHTML = docLinkHtml;\n",
              "          element.appendChild(docLink);\n",
              "        }\n",
              "      </script>\n",
              "    </div>\n",
              "  </div>\n",
              "  "
            ],
            "text/plain": [
              "        Actual    Predicted\n",
              "443339     562   904.884532\n",
              "439323    2203   862.500000\n",
              "377143     773   670.667391\n",
              "473235     309   875.490231\n",
              "701005     131   835.690423\n",
              "...        ...          ...\n",
              "141356     575   892.375000\n",
              "236872     710   946.843537\n",
              "1153       887   980.493878\n",
              "553810     377  1143.382567\n",
              "449848    1386   955.083333\n",
              "\n",
              "[182331 rows x 2 columns]"
            ]
          },
          "metadata": {},
          "execution_count": 124
        }
      ],
      "source": [
        "#Framing a dataframe using the predicted values and the actual values\n",
        "df=pd.DataFrame({'Actual':test_y, 'Predicted':y_pred})\n",
        "df"
      ]
    },
    {
      "cell_type": "code",
      "execution_count": null,
      "id": "09515285",
      "metadata": {
        "id": "09515285",
        "colab": {
          "base_uri": "https://localhost:8080/"
        },
        "outputId": "7b91e963-44d6-4e8f-e27a-c8a46458d440"
      },
      "outputs": [
        {
          "output_type": "execute_result",
          "data": {
            "text/plain": [
              "0.022377869823920538"
            ]
          },
          "metadata": {},
          "execution_count": 158
        }
      ],
      "source": [
        "#Calculating the r2_score on train set\n",
        "dtreetrain=regressor.score(train_x, train_y)\n",
        "dtreetrain"
      ]
    },
    {
      "cell_type": "code",
      "source": [
        "#Calculating the r2_score on test set\n",
        "dtreetest=regressor.score(test_x, test_y)\n",
        "dtreetest"
      ],
      "metadata": {
        "colab": {
          "base_uri": "https://localhost:8080/"
        },
        "id": "IFTeimirMmyL",
        "outputId": "300821f3-2b1d-4443-e50a-322109ef9e91"
      },
      "id": "IFTeimirMmyL",
      "execution_count": null,
      "outputs": [
        {
          "output_type": "execute_result",
          "data": {
            "text/plain": [
              "-0.0020601937832080974"
            ]
          },
          "metadata": {},
          "execution_count": 159
        }
      ]
    },
    {
      "cell_type": "code",
      "execution_count": null,
      "id": "4e71013d",
      "metadata": {
        "id": "4e71013d"
      },
      "outputs": [],
      "source": [
        "#Adding the r2_scores of the models to a list\n",
        "dtlist = ['TRAIN','TEST']\n",
        "dtelist=[dtreetrain,dtreetest]"
      ]
    },
    {
      "cell_type": "code",
      "source": [
        "#Plotting the r2_score of the decision trees\n",
        "plt.figure(figsize=(8, 6), dpi=90, facecolor='w', edgecolor='b')\n",
        "plt.bar( dtlist, dtelist )\n",
        "plt.xlabel( \"MODELS\")\n",
        "plt.ylabel('ERRORS IN R2_SCORE')\n",
        "plt.title('DECISION ERROR plot')"
      ],
      "metadata": {
        "colab": {
          "base_uri": "https://localhost:8080/",
          "height": 518
        },
        "id": "lQ16aYSgMElb",
        "outputId": "f557de17-9283-434e-cb91-6bed59382553"
      },
      "id": "lQ16aYSgMElb",
      "execution_count": null,
      "outputs": [
        {
          "output_type": "execute_result",
          "data": {
            "text/plain": [
              "Text(0.5, 1.0, 'DECISION ERROR plot')"
            ]
          },
          "metadata": {},
          "execution_count": 157
        },
        {
          "output_type": "display_data",
          "data": {
            "image/png": "[encoded data removed]",
            "text/plain": [
              "<Figure size 720x540 with 1 Axes>"
            ]
          },
          "metadata": {}
        }
      ]
    },
    {
      "cell_type": "markdown",
      "source": [
        "###Visualizing the decision tree"
      ],
      "metadata": {
        "id": "0CkUyNaiv4A3"
      },
      "id": "0CkUyNaiv4A3"
    },
    {
      "cell_type": "code",
      "execution_count": null,
      "id": "3d03a487",
      "metadata": {
        "id": "3d03a487"
      },
      "outputs": [],
      "source": [
        "#importing the tree module \n",
        "from sklearn import tree"
      ]
    },
    {
      "cell_type": "code",
      "execution_count": null,
      "id": "04315859",
      "metadata": {
        "id": "04315859"
      },
      "outputs": [],
      "source": [
        "#creating a decision tree using the decision tree instance \n",
        "decision_tree = tree.export_graphviz(regressor,out_file='nyctree.dot',feature_names=train_x.columns,max_depth=2,filled=True)"
      ]
    },
    {
      "cell_type": "code",
      "execution_count": null,
      "id": "ccffae30",
      "metadata": {
        "scrolled": true,
        "id": "ccffae30"
      },
      "outputs": [],
      "source": [
        "#converting the dot file to a png file for visualization\n",
        "!dot -Tpng nyctree.dot -o nyctree.png"
      ]
    },
    {
      "cell_type": "code",
      "execution_count": null,
      "id": "82ba8387",
      "metadata": {
        "id": "82ba8387",
        "colab": {
          "base_uri": "https://localhost:8080/",
          "height": 406
        },
        "outputId": "8f0a2fa2-2fc3-4ba4-98ba-d8dd0d901988"
      },
      "outputs": [
        {
          "output_type": "execute_result",
          "data": {
            "text/plain": [
              "<matplotlib.image.AxesImage at 0x7f090f816950>"
            ]
          },
          "metadata": {},
          "execution_count": 130
        },
        {
          "output_type": "display_data",
          "data": {
            "image/png": "[encoded data removed]",
            "text/plain": [
              "<Figure size 1080x1080 with 1 Axes>"
            ]
          },
          "metadata": {
            "needs_background": "light"
          }
        }
      ],
      "source": [
        "#plotting the Decision Tree\n",
        "image = plt.imread('nyctree.png')\n",
        "plt.figure(figsize=(15,15))\n",
        "plt.imshow(image)"
      ]
    },
    {
      "cell_type": "markdown",
      "source": [
        "*   The variable dropoffmonth is the feature used to split the tree do its importance is the most\n",
        "\n",
        "*   The tree is then split using passenger_count and dropoffhour features signifing that they are the next features with are close to the purity of the node"
      ],
      "metadata": {
        "id": "4dBrr8zTZ0Fk"
      },
      "id": "4dBrr8zTZ0Fk"
    },
    {
      "cell_type": "markdown",
      "source": [
        "# Visualizing the errors using barplots"
      ],
      "metadata": {
        "id": "gae9GFKHB-M7"
      },
      "id": "gae9GFKHB-M7"
    },
    {
      "cell_type": "code",
      "source": [
        "#creating a list to contain all the errors \n",
        "mlist = ['KNN','LINEAR','RIDGE','LASSO']\n",
        "trlist=[ktrain,lintrain,rtrain,ltrain]\n",
        "telist=[ktest,lintest,rtest,ltest]"
      ],
      "metadata": {
        "id": "815BhVXPDSyv"
      },
      "id": "815BhVXPDSyv",
      "execution_count": null,
      "outputs": []
    },
    {
      "cell_type": "code",
      "execution_count": null,
      "id": "4a3e6653",
      "metadata": {
        "id": "4a3e6653",
        "colab": {
          "base_uri": "https://localhost:8080/",
          "height": 518
        },
        "outputId": "ac92c54e-5fae-45ff-bfa4-fce2c06d0e27"
      },
      "outputs": [
        {
          "output_type": "execute_result",
          "data": {
            "text/plain": [
              "Text(0.5, 1.0, 'TRAIN ERROR plot')"
            ]
          },
          "metadata": {},
          "execution_count": 150
        },
        {
          "output_type": "display_data",
          "data": {
            "image/png": "[encoded data removed]",
            "text/plain": [
              "<Figure size 720x540 with 1 Axes>"
            ]
          },
          "metadata": {}
        }
      ],
      "source": [
        "#PLOTTING THE TRAIN ERROR PLOT\n",
        "plt.figure(figsize=(8, 6), dpi=90, facecolor='w', edgecolor='b')\n",
        "plt.bar( mlist, trlist )\n",
        "plt.xlabel( \"MODELS\")\n",
        "plt.ylabel('ERRORS IN MSE')\n",
        "plt.title('TRAIN ERROR plot')"
      ]
    },
    {
      "cell_type": "code",
      "execution_count": null,
      "id": "bc59ad72",
      "metadata": {
        "id": "bc59ad72",
        "colab": {
          "base_uri": "https://localhost:8080/",
          "height": 518
        },
        "outputId": "a2fafa41-2db9-4042-ec70-8799d0dd3254"
      },
      "outputs": [
        {
          "output_type": "execute_result",
          "data": {
            "text/plain": [
              "Text(0.5, 1.0, 'TEST ERROR plot')"
            ]
          },
          "metadata": {},
          "execution_count": 151
        },
        {
          "output_type": "display_data",
          "data": {
            "image/png": "[encoded data removed]",
            "text/plain": [
              "<Figure size 720x540 with 1 Axes>"
            ]
          },
          "metadata": {}
        }
      ],
      "source": [
        "#PLOTTING THE TEST ERROR PLOT\n",
        "plt.figure(figsize=(8, 6), dpi=90, facecolor='w', edgecolor='b')\n",
        "plt.bar( mlist, telist )\n",
        "plt.xlabel( \"MODELS\")\n",
        "plt.ylabel('ERRORS IN MSE')\n",
        "plt.title('TEST ERROR plot')"
      ]
    },
    {
      "cell_type": "markdown",
      "source": [
        "- Observing the above plots we can see that the linear models performed well but showed a bit of overfitting\n",
        "\n",
        "- The given data was well cleaned but the mse score is still pretty high"
      ],
      "metadata": {
        "id": "WGY-2IX7au3Z"
      },
      "id": "WGY-2IX7au3Z"
    },
    {
      "cell_type": "code",
      "source": [
        ""
      ],
      "metadata": {
        "id": "889x_VZfbHd7"
      },
      "id": "889x_VZfbHd7",
      "execution_count": null,
      "outputs": []
    }
  ],
  "metadata": {
    "kernelspec": {
      "display_name": "Python 3 (ipykernel)",
      "language": "python",
      "name": "python3"
    },
    "language_info": {
      "codemirror_mode": {
        "name": "ipython",
        "version": 3
      },
      "file_extension": ".py",
      "mimetype": "text/x-python",
      "name": "python",
      "nbconvert_exporter": "python",
      "pygments_lexer": "ipython3",
      "version": "3.9.7"
    },
    "colab": {
      "name": "NYC_MODELING.ipynb",
      "provenance": [],
      "collapsed_sections": [
        "52690c18",
        "bcb44856",
        "3651a389"
      ],
      "toc_visible": true
    }
  },
  "nbformat": 4,
  "nbformat_minor": 5
}