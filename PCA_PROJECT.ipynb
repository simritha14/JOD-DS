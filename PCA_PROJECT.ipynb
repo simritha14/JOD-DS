{
 "cells": [
  {
   "cell_type": "markdown",
   "id": "80cbe5da",
   "metadata": {},
   "source": [
    "# Feature Selection & Dimensionality Reduction - Simritha R "
   ]
  },
  {
   "cell_type": "code",
   "execution_count": 1,
   "id": "b0745fa8",
   "metadata": {},
   "outputs": [],
   "source": [
    "# import required libraries\n",
    "import pandas as pd\n",
    "import numpy as np\n",
    "import matplotlib.pyplot as plt\n",
    "import seaborn as sns\n",
    "%matplotlib inline\n",
    "import warnings\n",
    "warnings.filterwarnings('ignore')\n",
    "\n",
    "from sklearn.preprocessing import StandardScaler\n",
    "from sklearn.model_selection import train_test_split\n",
    "from sklearn.ensemble import RandomForestRegressor\n",
    "from sklearn.metrics import mean_squared_error\n",
    "from sklearn.preprocessing import LabelEncoder\n",
    "from sklearn.decomposition import PCA"
   ]
  },
  {
   "cell_type": "code",
   "execution_count": 2,
   "id": "c25b5d4e",
   "metadata": {},
   "outputs": [],
   "source": [
    "# reading the file\n",
    "data = pd.read_csv('product_dataset.csv')"
   ]
  },
  {
   "cell_type": "code",
   "execution_count": 3,
   "id": "2e8e9115",
   "metadata": {
    "scrolled": true
   },
   "outputs": [
    {
     "data": {
      "text/html": [
       "<div>\n",
       "<style scoped>\n",
       "    .dataframe tbody tr th:only-of-type {\n",
       "        vertical-align: middle;\n",
       "    }\n",
       "\n",
       "    .dataframe tbody tr th {\n",
       "        vertical-align: top;\n",
       "    }\n",
       "\n",
       "    .dataframe thead th {\n",
       "        text-align: right;\n",
       "    }\n",
       "</style>\n",
       "<table border=\"1\" class=\"dataframe\">\n",
       "  <thead>\n",
       "    <tr style=\"text-align: right;\">\n",
       "      <th></th>\n",
       "      <th>User_ID</th>\n",
       "      <th>Product_ID</th>\n",
       "      <th>Gender</th>\n",
       "      <th>Age</th>\n",
       "      <th>Occupation</th>\n",
       "      <th>City_Category</th>\n",
       "      <th>Stay_In_Current_City_Years</th>\n",
       "      <th>Marital_Status</th>\n",
       "      <th>Product_Category_1</th>\n",
       "      <th>Product_Category_2</th>\n",
       "      <th>Product_Category_3</th>\n",
       "      <th>Purchase</th>\n",
       "    </tr>\n",
       "  </thead>\n",
       "  <tbody>\n",
       "    <tr>\n",
       "      <th>0</th>\n",
       "      <td>1000001</td>\n",
       "      <td>P00069042</td>\n",
       "      <td>F</td>\n",
       "      <td>0-17</td>\n",
       "      <td>10</td>\n",
       "      <td>A</td>\n",
       "      <td>2</td>\n",
       "      <td>0</td>\n",
       "      <td>3</td>\n",
       "      <td>NaN</td>\n",
       "      <td>NaN</td>\n",
       "      <td>8370</td>\n",
       "    </tr>\n",
       "    <tr>\n",
       "      <th>1</th>\n",
       "      <td>1000001</td>\n",
       "      <td>P00248942</td>\n",
       "      <td>F</td>\n",
       "      <td>0-17</td>\n",
       "      <td>10</td>\n",
       "      <td>A</td>\n",
       "      <td>2</td>\n",
       "      <td>0</td>\n",
       "      <td>1</td>\n",
       "      <td>6.0</td>\n",
       "      <td>14.0</td>\n",
       "      <td>15200</td>\n",
       "    </tr>\n",
       "    <tr>\n",
       "      <th>2</th>\n",
       "      <td>1000001</td>\n",
       "      <td>P00087842</td>\n",
       "      <td>F</td>\n",
       "      <td>0-17</td>\n",
       "      <td>10</td>\n",
       "      <td>A</td>\n",
       "      <td>2</td>\n",
       "      <td>0</td>\n",
       "      <td>12</td>\n",
       "      <td>NaN</td>\n",
       "      <td>NaN</td>\n",
       "      <td>1422</td>\n",
       "    </tr>\n",
       "    <tr>\n",
       "      <th>3</th>\n",
       "      <td>1000001</td>\n",
       "      <td>P00085442</td>\n",
       "      <td>F</td>\n",
       "      <td>0-17</td>\n",
       "      <td>10</td>\n",
       "      <td>A</td>\n",
       "      <td>2</td>\n",
       "      <td>0</td>\n",
       "      <td>12</td>\n",
       "      <td>14.0</td>\n",
       "      <td>NaN</td>\n",
       "      <td>1057</td>\n",
       "    </tr>\n",
       "    <tr>\n",
       "      <th>4</th>\n",
       "      <td>1000002</td>\n",
       "      <td>P00285442</td>\n",
       "      <td>M</td>\n",
       "      <td>55+</td>\n",
       "      <td>16</td>\n",
       "      <td>C</td>\n",
       "      <td>4+</td>\n",
       "      <td>0</td>\n",
       "      <td>8</td>\n",
       "      <td>NaN</td>\n",
       "      <td>NaN</td>\n",
       "      <td>7969</td>\n",
       "    </tr>\n",
       "  </tbody>\n",
       "</table>\n",
       "</div>"
      ],
      "text/plain": [
       "   User_ID Product_ID Gender   Age  Occupation City_Category  \\\n",
       "0  1000001  P00069042      F  0-17          10             A   \n",
       "1  1000001  P00248942      F  0-17          10             A   \n",
       "2  1000001  P00087842      F  0-17          10             A   \n",
       "3  1000001  P00085442      F  0-17          10             A   \n",
       "4  1000002  P00285442      M   55+          16             C   \n",
       "\n",
       "  Stay_In_Current_City_Years  Marital_Status  Product_Category_1  \\\n",
       "0                          2               0                   3   \n",
       "1                          2               0                   1   \n",
       "2                          2               0                  12   \n",
       "3                          2               0                  12   \n",
       "4                         4+               0                   8   \n",
       "\n",
       "   Product_Category_2  Product_Category_3  Purchase  \n",
       "0                 NaN                 NaN      8370  \n",
       "1                 6.0                14.0     15200  \n",
       "2                 NaN                 NaN      1422  \n",
       "3                14.0                 NaN      1057  \n",
       "4                 NaN                 NaN      7969  "
      ]
     },
     "execution_count": 3,
     "metadata": {},
     "output_type": "execute_result"
    }
   ],
   "source": [
    "# first 5 rows of the data\n",
    "data.head()"
   ]
  },
  {
   "cell_type": "markdown",
   "id": "6554f74b",
   "metadata": {},
   "source": [
    "### Variable Identification and Typecasting"
   ]
  },
  {
   "cell_type": "code",
   "execution_count": 4,
   "id": "acb2f97d",
   "metadata": {},
   "outputs": [
    {
     "data": {
      "text/plain": [
       "User_ID                         int64\n",
       "Product_ID                     object\n",
       "Gender                         object\n",
       "Age                            object\n",
       "Occupation                      int64\n",
       "City_Category                  object\n",
       "Stay_In_Current_City_Years     object\n",
       "Marital_Status                  int64\n",
       "Product_Category_1              int64\n",
       "Product_Category_2            float64\n",
       "Product_Category_3            float64\n",
       "Purchase                        int64\n",
       "dtype: object"
      ]
     },
     "execution_count": 4,
     "metadata": {},
     "output_type": "execute_result"
    }
   ],
   "source": [
    "data.dtypes"
   ]
  },
  {
   "cell_type": "code",
   "execution_count": 5,
   "id": "0024f5e0",
   "metadata": {
    "scrolled": true
   },
   "outputs": [
    {
     "data": {
      "text/plain": [
       "(550068, 12)"
      ]
     },
     "execution_count": 5,
     "metadata": {},
     "output_type": "execute_result"
    }
   ],
   "source": [
    "# shape of the data\n",
    "data.shape"
   ]
  },
  {
   "cell_type": "code",
   "execution_count": 6,
   "id": "3a4a3e66",
   "metadata": {},
   "outputs": [],
   "source": [
    "# Converting variables into category datatype\n",
    "data['Marital_Status'] = data['Marital_Status'].astype('category')\n",
    "data['Occupation'] = data['Occupation'].astype('category')"
   ]
  },
  {
   "cell_type": "markdown",
   "id": "77a99a4a",
   "metadata": {},
   "source": [
    "### Missing Values"
   ]
  },
  {
   "cell_type": "code",
   "execution_count": 7,
   "id": "ca4ee1cc",
   "metadata": {
    "scrolled": false
   },
   "outputs": [
    {
     "data": {
      "text/plain": [
       "User_ID                        0.000000\n",
       "Product_ID                     0.000000\n",
       "Gender                         0.000000\n",
       "Age                            0.000000\n",
       "Occupation                     0.000000\n",
       "City_Category                  0.000000\n",
       "Stay_In_Current_City_Years     0.000000\n",
       "Marital_Status                 0.000000\n",
       "Product_Category_1             0.000000\n",
       "Product_Category_2            31.566643\n",
       "Product_Category_3            69.672659\n",
       "Purchase                       0.000000\n",
       "dtype: float64"
      ]
     },
     "execution_count": 7,
     "metadata": {},
     "output_type": "execute_result"
    }
   ],
   "source": [
    "# percentage of missing values in each variable\n",
    "data.isnull().sum()/len(data)*100"
   ]
  },
  {
   "cell_type": "markdown",
   "id": "689fc400",
   "metadata": {},
   "source": [
    "#### Product_Category_2 and Product_Category_3 have more than 30% of missing values"
   ]
  },
  {
   "cell_type": "code",
   "execution_count": 8,
   "id": "c1458552",
   "metadata": {},
   "outputs": [],
   "source": [
    "# imputing missing values in Product_Category_2 andProduct_Category_3 with the median of the variable\n",
    "data['Product_Category_2'].fillna(data['Product_Category_2'].median(), inplace=True)\n",
    "data['Product_Category_3'].fillna(data['Product_Category_3'].median(), inplace=True)"
   ]
  },
  {
   "cell_type": "markdown",
   "id": "09f603d7",
   "metadata": {},
   "source": [
    "### Descriptive Analysis of Target Variable"
   ]
  },
  {
   "cell_type": "code",
   "execution_count": 9,
   "id": "8960f8f0",
   "metadata": {},
   "outputs": [
    {
     "data": {
      "text/plain": [
       "count    550068.000000\n",
       "mean       9263.968713\n",
       "std        5023.065394\n",
       "min          12.000000\n",
       "25%        5823.000000\n",
       "50%        8047.000000\n",
       "75%       12054.000000\n",
       "max       23961.000000\n",
       "Name: Purchase, dtype: float64"
      ]
     },
     "execution_count": 9,
     "metadata": {},
     "output_type": "execute_result"
    }
   ],
   "source": [
    "# Description on Purchase\n",
    "data['Purchase'].describe()"
   ]
  },
  {
   "cell_type": "code",
   "execution_count": 10,
   "id": "6682f554",
   "metadata": {
    "scrolled": false
   },
   "outputs": [
    {
     "data": {
      "text/plain": [
       "<AxesSubplot:xlabel='Purchase', ylabel='Count'>"
      ]
     },
     "execution_count": 10,
     "metadata": {},
     "output_type": "execute_result"
    },
    {
     "data": {
      "image/png": "[encoded data removed]",
      "text/plain": [
       "<Figure size 432x288 with 1 Axes>"
      ]
     },
     "metadata": {
      "needs_background": "light"
     },
     "output_type": "display_data"
    }
   ],
   "source": [
    "sns.histplot(data.Purchase)"
   ]
  },
  {
   "cell_type": "code",
   "execution_count": 11,
   "id": "d8c021e6",
   "metadata": {
    "scrolled": true
   },
   "outputs": [
    {
     "data": {
      "text/plain": [
       "User_ID                          int64\n",
       "Product_ID                      object\n",
       "Gender                          object\n",
       "Age                             object\n",
       "Occupation                    category\n",
       "City_Category                   object\n",
       "Stay_In_Current_City_Years      object\n",
       "Marital_Status                category\n",
       "Product_Category_1               int64\n",
       "Product_Category_2             float64\n",
       "Product_Category_3             float64\n",
       "Purchase                         int64\n",
       "dtype: object"
      ]
     },
     "execution_count": 11,
     "metadata": {},
     "output_type": "execute_result"
    }
   ],
   "source": [
    "data.dtypes"
   ]
  },
  {
   "cell_type": "markdown",
   "id": "b0b34fc7",
   "metadata": {},
   "source": [
    "### Univariate Analysis"
   ]
  },
  {
   "cell_type": "code",
   "execution_count": 12,
   "id": "f99ea966",
   "metadata": {},
   "outputs": [],
   "source": [
    "# Custom function for visualisation of Categorical Variables\n",
    "def UVA_category(data, var_group):\n",
    "    \n",
    "  # setting figure_size\n",
    "  size = len(var_group)\n",
    "  plt.figure(figsize = (7*size,5), dpi = 100)\n",
    "\n",
    "  # for every variable\n",
    "  for j,i in enumerate(var_group):\n",
    "    norm_count = data[i].value_counts(normalize = True)\n",
    "    n_uni = data[i].nunique()\n",
    "\n",
    "  #Plotting the variable with every information\n",
    "    plt.subplot(1,size,j+1)\n",
    "    sns.barplot(norm_count, norm_count.index , order = norm_count.index)\n",
    "    plt.xlabel('fraction/percent', fontsize = 20)\n",
    "    plt.ylabel('{}'.format(i), fontsize = 20)\n",
    "    plt.title('n_uniques = {} \\n value counts \\n {};'.format(n_uni,norm_count))"
   ]
  },
  {
   "cell_type": "code",
   "execution_count": 13,
   "id": "2b9f75a0",
   "metadata": {
    "scrolled": false
   },
   "outputs": [
    {
     "data": {
      "image/png": "[encoded data removed]",
      "text/plain": [
       "<Figure size 2100x500 with 3 Axes>"
      ]
     },
     "metadata": {
      "needs_background": "light"
     },
     "output_type": "display_data"
    }
   ],
   "source": [
    "UVA_category(data, ['Gender','Age','Occupation'])"
   ]
  },
  {
   "cell_type": "code",
   "execution_count": 14,
   "id": "5c0878a0",
   "metadata": {
    "scrolled": false
   },
   "outputs": [
    {
     "data": {
      "image/png": "[encoded data removed]",
      "text/plain": [
       "<Figure size 2100x500 with 3 Axes>"
      ]
     },
     "metadata": {
      "needs_background": "light"
     },
     "output_type": "display_data"
    }
   ],
   "source": [
    "UVA_category(data, ['City_Category','Stay_In_Current_City_Years','Marital_Status'])"
   ]
  },
  {
   "cell_type": "code",
   "execution_count": 15,
   "id": "c9c7fcb0",
   "metadata": {},
   "outputs": [
    {
     "data": {
      "text/plain": [
       "<AxesSubplot:xlabel='Product_Category_1', ylabel='Count'>"
      ]
     },
     "execution_count": 15,
     "metadata": {},
     "output_type": "execute_result"
    },
    {
     "data": {
      "image/png": "[encoded data removed]",
      "text/plain": [
       "<Figure size 432x288 with 1 Axes>"
      ]
     },
     "metadata": {
      "needs_background": "light"
     },
     "output_type": "display_data"
    }
   ],
   "source": [
    "sns.histplot(data.Product_Category_1)"
   ]
  },
  {
   "cell_type": "code",
   "execution_count": 16,
   "id": "1af36f20",
   "metadata": {
    "scrolled": true
   },
   "outputs": [
    {
     "data": {
      "text/plain": [
       "<AxesSubplot:xlabel='Product_Category_2', ylabel='Count'>"
      ]
     },
     "execution_count": 16,
     "metadata": {},
     "output_type": "execute_result"
    },
    {
     "data": {
      "image/png": "[encoded data removed]",
      "text/plain": [
       "<Figure size 432x288 with 1 Axes>"
      ]
     },
     "metadata": {
      "needs_background": "light"
     },
     "output_type": "display_data"
    }
   ],
   "source": [
    "sns.histplot(data.Product_Category_2)"
   ]
  },
  {
   "cell_type": "code",
   "execution_count": 17,
   "id": "cbbf7785",
   "metadata": {},
   "outputs": [
    {
     "data": {
      "text/plain": [
       "<AxesSubplot:xlabel='Product_Category_3', ylabel='Count'>"
      ]
     },
     "execution_count": 17,
     "metadata": {},
     "output_type": "execute_result"
    },
    {
     "data": {
      "image/png": "[encoded data removed]",
      "text/plain": [
       "<Figure size 432x288 with 1 Axes>"
      ]
     },
     "metadata": {
      "needs_background": "light"
     },
     "output_type": "display_data"
    }
   ],
   "source": [
    "sns.histplot(data.Product_Category_3)"
   ]
  },
  {
   "cell_type": "markdown",
   "id": "0a707878",
   "metadata": {},
   "source": [
    "### Bivariate Analysis"
   ]
  },
  {
   "cell_type": "code",
   "execution_count": 18,
   "id": "193ad5a7",
   "metadata": {
    "scrolled": false
   },
   "outputs": [
    {
     "data": {
      "image/png": "[encoded data removed]",
      "text/plain": [
       "<Figure size 432x288 with 1 Axes>"
      ]
     },
     "metadata": {
      "needs_background": "light"
     },
     "output_type": "display_data"
    }
   ],
   "source": [
    "sns.barplot(x = 'Purchase',y = 'Age',data = data)\n",
    "plt.show()"
   ]
  },
  {
   "cell_type": "markdown",
   "id": "2fea6959",
   "metadata": {},
   "source": [
    "* Age group 51-55 seem to have purchased the most among the others"
   ]
  },
  {
   "cell_type": "code",
   "execution_count": 19,
   "id": "411367a7",
   "metadata": {
    "scrolled": false
   },
   "outputs": [
    {
     "data": {
      "image/png": "[encoded data removed]",
      "text/plain": [
       "<Figure size 432x288 with 1 Axes>"
      ]
     },
     "metadata": {
      "needs_background": "light"
     },
     "output_type": "display_data"
    }
   ],
   "source": [
    "sns.barplot(x = 'Purchase',y = 'Occupation',data = data)\n",
    "plt.show()"
   ]
  },
  {
   "cell_type": "code",
   "execution_count": 20,
   "id": "464ee022",
   "metadata": {},
   "outputs": [
    {
     "data": {
      "image/png": "[encoded data removed]",
      "text/plain": [
       "<Figure size 432x288 with 1 Axes>"
      ]
     },
     "metadata": {
      "needs_background": "light"
     },
     "output_type": "display_data"
    }
   ],
   "source": [
    "sns.barplot(x ='Purchase',y ='City_Category',data = data)\n",
    "plt.show()"
   ]
  },
  {
   "cell_type": "markdown",
   "id": "cf5c19b1",
   "metadata": {},
   "source": [
    "* City category c has the most purchase amount"
   ]
  },
  {
   "cell_type": "code",
   "execution_count": 21,
   "id": "2c00c4be",
   "metadata": {},
   "outputs": [
    {
     "data": {
      "image/png": "[encoded data removed]",
      "text/plain": [
       "<Figure size 432x288 with 1 Axes>"
      ]
     },
     "metadata": {
      "needs_background": "light"
     },
     "output_type": "display_data"
    }
   ],
   "source": [
    "sns.barplot(x ='Purchase',y ='Stay_In_Current_City_Years',data = data)\n",
    "plt.show()"
   ]
  },
  {
   "cell_type": "code",
   "execution_count": 22,
   "id": "91f2b3f7",
   "metadata": {
    "scrolled": true
   },
   "outputs": [
    {
     "data": {
      "image/png": "[encoded data removed]",
      "text/plain": [
       "<Figure size 432x288 with 1 Axes>"
      ]
     },
     "metadata": {
      "needs_background": "light"
     },
     "output_type": "display_data"
    }
   ],
   "source": [
    "sns.barplot(x ='Purchase',y ='Marital_Status',data = data)\n",
    "plt.show()"
   ]
  },
  {
   "cell_type": "markdown",
   "id": "4cb8ddc8",
   "metadata": {},
   "source": [
    "## CORRELATION MATRIX"
   ]
  },
  {
   "cell_type": "code",
   "execution_count": 23,
   "id": "8455bd9c",
   "metadata": {},
   "outputs": [],
   "source": [
    "# dropping the targer variable\n",
    "df = data.drop('Purchase',axis=1)"
   ]
  },
  {
   "cell_type": "code",
   "execution_count": 24,
   "id": "171df538",
   "metadata": {},
   "outputs": [
    {
     "data": {
      "text/html": [
       "<div>\n",
       "<style scoped>\n",
       "    .dataframe tbody tr th:only-of-type {\n",
       "        vertical-align: middle;\n",
       "    }\n",
       "\n",
       "    .dataframe tbody tr th {\n",
       "        vertical-align: top;\n",
       "    }\n",
       "\n",
       "    .dataframe thead th {\n",
       "        text-align: right;\n",
       "    }\n",
       "</style>\n",
       "<table border=\"1\" class=\"dataframe\">\n",
       "  <thead>\n",
       "    <tr style=\"text-align: right;\">\n",
       "      <th></th>\n",
       "      <th>User_ID</th>\n",
       "      <th>Product_Category_1</th>\n",
       "      <th>Product_Category_2</th>\n",
       "      <th>Product_Category_3</th>\n",
       "    </tr>\n",
       "  </thead>\n",
       "  <tbody>\n",
       "    <tr>\n",
       "      <th>User_ID</th>\n",
       "      <td>1.000000</td>\n",
       "      <td>0.003825</td>\n",
       "      <td>0.001644</td>\n",
       "      <td>0.001008</td>\n",
       "    </tr>\n",
       "    <tr>\n",
       "      <th>Product_Category_1</th>\n",
       "      <td>0.003825</td>\n",
       "      <td>1.000000</td>\n",
       "      <td>0.331691</td>\n",
       "      <td>0.195930</td>\n",
       "    </tr>\n",
       "    <tr>\n",
       "      <th>Product_Category_2</th>\n",
       "      <td>0.001644</td>\n",
       "      <td>0.331691</td>\n",
       "      <td>1.000000</td>\n",
       "      <td>0.416680</td>\n",
       "    </tr>\n",
       "    <tr>\n",
       "      <th>Product_Category_3</th>\n",
       "      <td>0.001008</td>\n",
       "      <td>0.195930</td>\n",
       "      <td>0.416680</td>\n",
       "      <td>1.000000</td>\n",
       "    </tr>\n",
       "  </tbody>\n",
       "</table>\n",
       "</div>"
      ],
      "text/plain": [
       "                     User_ID  Product_Category_1  Product_Category_2  \\\n",
       "User_ID             1.000000            0.003825            0.001644   \n",
       "Product_Category_1  0.003825            1.000000            0.331691   \n",
       "Product_Category_2  0.001644            0.331691            1.000000   \n",
       "Product_Category_3  0.001008            0.195930            0.416680   \n",
       "\n",
       "                    Product_Category_3  \n",
       "User_ID                       0.001008  \n",
       "Product_Category_1            0.195930  \n",
       "Product_Category_2            0.416680  \n",
       "Product_Category_3            1.000000  "
      ]
     },
     "execution_count": 24,
     "metadata": {},
     "output_type": "execute_result"
    }
   ],
   "source": [
    "# calculalting the correlation between independent variables\n",
    "df.corr()"
   ]
  },
  {
   "cell_type": "code",
   "execution_count": 25,
   "id": "d7c09169",
   "metadata": {},
   "outputs": [],
   "source": [
    "# creating correlation matrix with abso;ute values\n",
    "corr_matrix = df.corr().abs()"
   ]
  },
  {
   "cell_type": "code",
   "execution_count": 26,
   "id": "663ab0db",
   "metadata": {},
   "outputs": [
    {
     "data": {
      "text/html": [
       "<div>\n",
       "<style scoped>\n",
       "    .dataframe tbody tr th:only-of-type {\n",
       "        vertical-align: middle;\n",
       "    }\n",
       "\n",
       "    .dataframe tbody tr th {\n",
       "        vertical-align: top;\n",
       "    }\n",
       "\n",
       "    .dataframe thead th {\n",
       "        text-align: right;\n",
       "    }\n",
       "</style>\n",
       "<table border=\"1\" class=\"dataframe\">\n",
       "  <thead>\n",
       "    <tr style=\"text-align: right;\">\n",
       "      <th></th>\n",
       "      <th>User_ID</th>\n",
       "      <th>Product_Category_1</th>\n",
       "      <th>Product_Category_2</th>\n",
       "      <th>Product_Category_3</th>\n",
       "    </tr>\n",
       "  </thead>\n",
       "  <tbody>\n",
       "    <tr>\n",
       "      <th>User_ID</th>\n",
       "      <td>NaN</td>\n",
       "      <td>0.003825</td>\n",
       "      <td>0.001644</td>\n",
       "      <td>0.001008</td>\n",
       "    </tr>\n",
       "    <tr>\n",
       "      <th>Product_Category_1</th>\n",
       "      <td>NaN</td>\n",
       "      <td>NaN</td>\n",
       "      <td>0.331691</td>\n",
       "      <td>0.195930</td>\n",
       "    </tr>\n",
       "    <tr>\n",
       "      <th>Product_Category_2</th>\n",
       "      <td>NaN</td>\n",
       "      <td>NaN</td>\n",
       "      <td>NaN</td>\n",
       "      <td>0.416680</td>\n",
       "    </tr>\n",
       "    <tr>\n",
       "      <th>Product_Category_3</th>\n",
       "      <td>NaN</td>\n",
       "      <td>NaN</td>\n",
       "      <td>NaN</td>\n",
       "      <td>NaN</td>\n",
       "    </tr>\n",
       "  </tbody>\n",
       "</table>\n",
       "</div>"
      ],
      "text/plain": [
       "                    User_ID  Product_Category_1  Product_Category_2  \\\n",
       "User_ID                 NaN            0.003825            0.001644   \n",
       "Product_Category_1      NaN                 NaN            0.331691   \n",
       "Product_Category_2      NaN                 NaN                 NaN   \n",
       "Product_Category_3      NaN                 NaN                 NaN   \n",
       "\n",
       "                    Product_Category_3  \n",
       "User_ID                       0.001008  \n",
       "Product_Category_1            0.195930  \n",
       "Product_Category_2            0.416680  \n",
       "Product_Category_3                 NaN  "
      ]
     },
     "execution_count": 26,
     "metadata": {},
     "output_type": "execute_result"
    }
   ],
   "source": [
    "# selecting upper triangle of correlation matrix\n",
    "upper = corr_matrix.where(np.triu(np.ones(corr_matrix.shape), k=1).astype(np.bool))\n",
    "upper"
   ]
  },
  {
   "cell_type": "code",
   "execution_count": 27,
   "id": "8c678076",
   "metadata": {
    "scrolled": true
   },
   "outputs": [],
   "source": [
    "# finding index of variables with correlation greater than 0.5\n",
    "to_drop = [column for column in upper.columns if any(upper[column] > 0.4)]"
   ]
  },
  {
   "cell_type": "code",
   "execution_count": 28,
   "id": "3219906a",
   "metadata": {},
   "outputs": [
    {
     "data": {
      "text/plain": [
       "['Product_Category_3']"
      ]
     },
     "execution_count": 28,
     "metadata": {},
     "output_type": "execute_result"
    }
   ],
   "source": [
    "to_drop"
   ]
  },
  {
   "cell_type": "code",
   "execution_count": 29,
   "id": "5be3a7d8",
   "metadata": {},
   "outputs": [],
   "source": [
    "# dropping the variable\n",
    "data = data.drop(data[to_drop], axis=1)"
   ]
  },
  {
   "cell_type": "markdown",
   "id": "84f37f96",
   "metadata": {},
   "source": [
    "#### Product_Category_3 is the most correlated factor in the dataset"
   ]
  },
  {
   "cell_type": "markdown",
   "id": "a66d2585",
   "metadata": {},
   "source": [
    "## COVARIANCE MATRIX"
   ]
  },
  {
   "cell_type": "code",
   "execution_count": 30,
   "id": "0d0c1da7",
   "metadata": {},
   "outputs": [],
   "source": [
    "# dropping identifier variables\n",
    "data = data.drop('Product_ID',axis=1)\n",
    "data = data.drop('User_ID',axis=1)"
   ]
  },
  {
   "cell_type": "code",
   "execution_count": 31,
   "id": "606e3dfb",
   "metadata": {},
   "outputs": [],
   "source": [
    "data['Gender'] = data['Gender'].map({'M': 0,'F': 1})"
   ]
  },
  {
   "cell_type": "code",
   "execution_count": 32,
   "id": "d1881c92",
   "metadata": {},
   "outputs": [],
   "source": [
    "data['City_Category'] = data['City_Category'].map({'A': 1,'B': 2,'C': 3})"
   ]
  },
  {
   "cell_type": "code",
   "execution_count": 33,
   "id": "95febb31",
   "metadata": {},
   "outputs": [],
   "source": [
    "data['Stay_In_Current_City_Years'] = data['Stay_In_Current_City_Years'].map({'0':0,'1': 1,'2': 2,'3': 3,'4+': 4})"
   ]
  },
  {
   "cell_type": "code",
   "execution_count": 34,
   "id": "2c440af9",
   "metadata": {},
   "outputs": [],
   "source": [
    "data['Age'] = data['Age'].map({'0-17': 1,'18-25': 2,'26-35': 3,'36-45': 4,'46-50': 5,'51-55': 6,'55+': 7})"
   ]
  },
  {
   "cell_type": "code",
   "execution_count": 35,
   "id": "27aedb1b",
   "metadata": {},
   "outputs": [],
   "source": [
    "# dropping the target variable\n",
    "newdata = data.drop('Purchase', axis = 1)"
   ]
  },
  {
   "cell_type": "code",
   "execution_count": 36,
   "id": "ebf1cb89",
   "metadata": {},
   "outputs": [],
   "source": [
    "# calculating covariance matrix\n",
    "cov_Matrix = newdata.cov().abs()"
   ]
  },
  {
   "cell_type": "code",
   "execution_count": 37,
   "id": "a5ccdfc2",
   "metadata": {},
   "outputs": [
    {
     "data": {
      "text/html": [
       "<div>\n",
       "<style scoped>\n",
       "    .dataframe tbody tr th:only-of-type {\n",
       "        vertical-align: middle;\n",
       "    }\n",
       "\n",
       "    .dataframe tbody tr th {\n",
       "        vertical-align: top;\n",
       "    }\n",
       "\n",
       "    .dataframe thead th {\n",
       "        text-align: right;\n",
       "    }\n",
       "</style>\n",
       "<table border=\"1\" class=\"dataframe\">\n",
       "  <thead>\n",
       "    <tr style=\"text-align: right;\">\n",
       "      <th></th>\n",
       "      <th>Gender</th>\n",
       "      <th>Age</th>\n",
       "      <th>City_Category</th>\n",
       "      <th>Stay_In_Current_City_Years</th>\n",
       "      <th>Product_Category_1</th>\n",
       "      <th>Product_Category_2</th>\n",
       "    </tr>\n",
       "  </thead>\n",
       "  <tbody>\n",
       "    <tr>\n",
       "      <th>Gender</th>\n",
       "      <td>0.185938</td>\n",
       "      <td>0.002488</td>\n",
       "      <td>0.001480</td>\n",
       "      <td>0.008151</td>\n",
       "      <td>0.077388</td>\n",
       "      <td>0.025604</td>\n",
       "    </tr>\n",
       "    <tr>\n",
       "      <th>Age</th>\n",
       "      <td>0.002488</td>\n",
       "      <td>1.832319</td>\n",
       "      <td>0.126654</td>\n",
       "      <td>0.008225</td>\n",
       "      <td>0.326069</td>\n",
       "      <td>0.248859</td>\n",
       "    </tr>\n",
       "    <tr>\n",
       "      <th>City_Category</th>\n",
       "      <td>0.001480</td>\n",
       "      <td>0.126654</td>\n",
       "      <td>0.577920</td>\n",
       "      <td>0.019552</td>\n",
       "      <td>0.042982</td>\n",
       "      <td>0.022129</td>\n",
       "    </tr>\n",
       "    <tr>\n",
       "      <th>Stay_In_Current_City_Years</th>\n",
       "      <td>0.008151</td>\n",
       "      <td>0.008225</td>\n",
       "      <td>0.019552</td>\n",
       "      <td>1.662662</td>\n",
       "      <td>0.021384</td>\n",
       "      <td>0.005922</td>\n",
       "    </tr>\n",
       "    <tr>\n",
       "      <th>Product_Category_1</th>\n",
       "      <td>0.077388</td>\n",
       "      <td>0.326069</td>\n",
       "      <td>0.042982</td>\n",
       "      <td>0.021384</td>\n",
       "      <td>15.493760</td>\n",
       "      <td>5.517531</td>\n",
       "    </tr>\n",
       "    <tr>\n",
       "      <th>Product_Category_2</th>\n",
       "      <td>0.025604</td>\n",
       "      <td>0.248859</td>\n",
       "      <td>0.022129</td>\n",
       "      <td>0.005922</td>\n",
       "      <td>5.517531</td>\n",
       "      <td>17.859289</td>\n",
       "    </tr>\n",
       "  </tbody>\n",
       "</table>\n",
       "</div>"
      ],
      "text/plain": [
       "                              Gender       Age  City_Category  \\\n",
       "Gender                      0.185938  0.002488       0.001480   \n",
       "Age                         0.002488  1.832319       0.126654   \n",
       "City_Category               0.001480  0.126654       0.577920   \n",
       "Stay_In_Current_City_Years  0.008151  0.008225       0.019552   \n",
       "Product_Category_1          0.077388  0.326069       0.042982   \n",
       "Product_Category_2          0.025604  0.248859       0.022129   \n",
       "\n",
       "                            Stay_In_Current_City_Years  Product_Category_1  \\\n",
       "Gender                                        0.008151            0.077388   \n",
       "Age                                           0.008225            0.326069   \n",
       "City_Category                                 0.019552            0.042982   \n",
       "Stay_In_Current_City_Years                    1.662662            0.021384   \n",
       "Product_Category_1                            0.021384           15.493760   \n",
       "Product_Category_2                            0.005922            5.517531   \n",
       "\n",
       "                            Product_Category_2  \n",
       "Gender                                0.025604  \n",
       "Age                                   0.248859  \n",
       "City_Category                         0.022129  \n",
       "Stay_In_Current_City_Years            0.005922  \n",
       "Product_Category_1                    5.517531  \n",
       "Product_Category_2                   17.859289  "
      ]
     },
     "execution_count": 37,
     "metadata": {},
     "output_type": "execute_result"
    }
   ],
   "source": [
    "cov_Matrix"
   ]
  },
  {
   "cell_type": "markdown",
   "id": "a6c61623",
   "metadata": {},
   "source": [
    "### EIGEN VALUES AND EIGEN VECTORS"
   ]
  },
  {
   "cell_type": "code",
   "execution_count": 38,
   "id": "503265a2",
   "metadata": {},
   "outputs": [],
   "source": [
    "# Calcuating the eigen values and eigen vectors of covariance matrix\n",
    "from numpy.linalg import eig\n",
    "values,vectors=eig(cov_Matrix)"
   ]
  },
  {
   "cell_type": "code",
   "execution_count": 39,
   "id": "f63e1964",
   "metadata": {},
   "outputs": [
    {
     "data": {
      "text/plain": [
       "array([22.32748171, 11.03490803,  0.18549927,  0.56493691,  1.66245302,\n",
       "        1.83660891])"
      ]
     },
     "execution_count": 39,
     "metadata": {},
     "output_type": "execute_result"
    }
   ],
   "source": [
    "values"
   ]
  },
  {
   "cell_type": "code",
   "execution_count": 40,
   "id": "2013c733",
   "metadata": {},
   "outputs": [
    {
     "data": {
      "text/plain": [
       "array([[-3.09893893e-03, -4.06465706e-03,  9.99968300e-01,\n",
       "         2.72492846e-03, -5.41049380e-03, -7.58266686e-04],\n",
       "       [-1.94555394e-02, -1.05667343e-02, -2.78577146e-04,\n",
       "        -9.91872352e-02,  5.68347183e-02, -9.93197591e-01],\n",
       "       [-2.14767102e-03, -1.99560078e-03, -2.86318983e-03,\n",
       "         9.94919659e-01, -1.13598049e-02, -9.99451606e-02],\n",
       "       [-8.84309858e-04, -1.39326858e-03, -5.40561882e-03,\n",
       "        -1.69836561e-02, -9.98303945e-01, -5.53971628e-02],\n",
       "       [-6.28667648e-01, -7.77381205e-01, -5.08725666e-03,\n",
       "        -8.45238733e-04,  5.34971924e-04,  2.07019309e-02],\n",
       "       [-7.77421040e-01,  6.28923176e-01,  1.48828340e-04,\n",
       "         4.25676307e-04, -6.66428724e-04,  8.45686930e-03]])"
      ]
     },
     "execution_count": 40,
     "metadata": {},
     "output_type": "execute_result"
    }
   ],
   "source": [
    "vectors"
   ]
  },
  {
   "cell_type": "code",
   "execution_count": 41,
   "id": "2a80322c",
   "metadata": {},
   "outputs": [
    {
     "data": {
      "text/plain": [
       "array([ 0.18549927,  0.56493691,  1.66245302,  1.83660891, 11.03490803,\n",
       "       22.32748171])"
      ]
     },
     "execution_count": 41,
     "metadata": {},
     "output_type": "execute_result"
    }
   ],
   "source": [
    "# sorting eigen values\n",
    "sorted_values = np.sort(values)\n",
    "sorted_values"
   ]
  },
  {
   "cell_type": "code",
   "execution_count": 42,
   "id": "0c7c5075",
   "metadata": {},
   "outputs": [],
   "source": [
    "# calulating sum of eigen values\n",
    "sum_evalue = sorted_values.sum()"
   ]
  },
  {
   "cell_type": "code",
   "execution_count": 43,
   "id": "3e7abbda",
   "metadata": {},
   "outputs": [],
   "source": [
    "# each eigen value divded by 'sum_evalue'\n",
    "percentage_evalue = sorted_values/sum_evalue*100"
   ]
  },
  {
   "cell_type": "code",
   "execution_count": 44,
   "id": "cebb27da",
   "metadata": {},
   "outputs": [],
   "source": [
    "# Creating a dataframe with eigen values\n",
    "e_values = pd.DataFrame(data = percentage_evalue, index = ['Gender','Age', 'City_Category', 'Stay_In_Current_City_Years','Product_Category_1','Product_Category_2'])"
   ]
  },
  {
   "cell_type": "markdown",
   "id": "85fb69b6",
   "metadata": {},
   "source": [
    "### PRINCIPAL COMPONENTS"
   ]
  },
  {
   "cell_type": "code",
   "execution_count": 45,
   "id": "fc485d51",
   "metadata": {},
   "outputs": [
    {
     "data": {
      "text/html": [
       "<div>\n",
       "<style scoped>\n",
       "    .dataframe tbody tr th:only-of-type {\n",
       "        vertical-align: middle;\n",
       "    }\n",
       "\n",
       "    .dataframe tbody tr th {\n",
       "        vertical-align: top;\n",
       "    }\n",
       "\n",
       "    .dataframe thead th {\n",
       "        text-align: right;\n",
       "    }\n",
       "</style>\n",
       "<table border=\"1\" class=\"dataframe\">\n",
       "  <thead>\n",
       "    <tr style=\"text-align: right;\">\n",
       "      <th></th>\n",
       "      <th>0</th>\n",
       "    </tr>\n",
       "  </thead>\n",
       "  <tbody>\n",
       "    <tr>\n",
       "      <th>Gender</th>\n",
       "      <td>0.493193</td>\n",
       "    </tr>\n",
       "    <tr>\n",
       "      <th>Age</th>\n",
       "      <td>1.502017</td>\n",
       "    </tr>\n",
       "    <tr>\n",
       "      <th>City_Category</th>\n",
       "      <td>4.420020</td>\n",
       "    </tr>\n",
       "    <tr>\n",
       "      <th>Stay_In_Current_City_Years</th>\n",
       "      <td>4.883054</td>\n",
       "    </tr>\n",
       "    <tr>\n",
       "      <th>Product_Category_1</th>\n",
       "      <td>29.338884</td>\n",
       "    </tr>\n",
       "    <tr>\n",
       "      <th>Product_Category_2</th>\n",
       "      <td>59.362832</td>\n",
       "    </tr>\n",
       "  </tbody>\n",
       "</table>\n",
       "</div>"
      ],
      "text/plain": [
       "                                    0\n",
       "Gender                       0.493193\n",
       "Age                          1.502017\n",
       "City_Category                4.420020\n",
       "Stay_In_Current_City_Years   4.883054\n",
       "Product_Category_1          29.338884\n",
       "Product_Category_2          59.362832"
      ]
     },
     "execution_count": 45,
     "metadata": {},
     "output_type": "execute_result"
    }
   ],
   "source": [
    "e_values"
   ]
  },
  {
   "cell_type": "markdown",
   "id": "6bded1e3",
   "metadata": {},
   "source": [
    "#### Product_Category_1 and Product_Category_2 are the Principal components beacuse they preserve the maximum variance."
   ]
  },
  {
   "cell_type": "markdown",
   "id": "dc752637",
   "metadata": {},
   "source": [
    "## PRINCIPAL COMPONENT ANALYSIS"
   ]
  },
  {
   "cell_type": "code",
   "execution_count": 46,
   "id": "cd2ed9e0",
   "metadata": {
    "scrolled": true
   },
   "outputs": [
    {
     "data": {
      "text/html": [
       "<div>\n",
       "<style scoped>\n",
       "    .dataframe tbody tr th:only-of-type {\n",
       "        vertical-align: middle;\n",
       "    }\n",
       "\n",
       "    .dataframe tbody tr th {\n",
       "        vertical-align: top;\n",
       "    }\n",
       "\n",
       "    .dataframe thead th {\n",
       "        text-align: right;\n",
       "    }\n",
       "</style>\n",
       "<table border=\"1\" class=\"dataframe\">\n",
       "  <thead>\n",
       "    <tr style=\"text-align: right;\">\n",
       "      <th></th>\n",
       "      <th>Gender</th>\n",
       "      <th>Age</th>\n",
       "      <th>Occupation</th>\n",
       "      <th>City_Category</th>\n",
       "      <th>Stay_In_Current_City_Years</th>\n",
       "      <th>Marital_Status</th>\n",
       "      <th>Product_Category_1</th>\n",
       "      <th>Product_Category_2</th>\n",
       "      <th>Purchase</th>\n",
       "    </tr>\n",
       "  </thead>\n",
       "  <tbody>\n",
       "    <tr>\n",
       "      <th>0</th>\n",
       "      <td>1</td>\n",
       "      <td>1</td>\n",
       "      <td>10</td>\n",
       "      <td>1</td>\n",
       "      <td>2</td>\n",
       "      <td>0</td>\n",
       "      <td>3</td>\n",
       "      <td>9.0</td>\n",
       "      <td>8370</td>\n",
       "    </tr>\n",
       "    <tr>\n",
       "      <th>1</th>\n",
       "      <td>1</td>\n",
       "      <td>1</td>\n",
       "      <td>10</td>\n",
       "      <td>1</td>\n",
       "      <td>2</td>\n",
       "      <td>0</td>\n",
       "      <td>1</td>\n",
       "      <td>6.0</td>\n",
       "      <td>15200</td>\n",
       "    </tr>\n",
       "    <tr>\n",
       "      <th>2</th>\n",
       "      <td>1</td>\n",
       "      <td>1</td>\n",
       "      <td>10</td>\n",
       "      <td>1</td>\n",
       "      <td>2</td>\n",
       "      <td>0</td>\n",
       "      <td>12</td>\n",
       "      <td>9.0</td>\n",
       "      <td>1422</td>\n",
       "    </tr>\n",
       "    <tr>\n",
       "      <th>3</th>\n",
       "      <td>1</td>\n",
       "      <td>1</td>\n",
       "      <td>10</td>\n",
       "      <td>1</td>\n",
       "      <td>2</td>\n",
       "      <td>0</td>\n",
       "      <td>12</td>\n",
       "      <td>14.0</td>\n",
       "      <td>1057</td>\n",
       "    </tr>\n",
       "    <tr>\n",
       "      <th>4</th>\n",
       "      <td>0</td>\n",
       "      <td>7</td>\n",
       "      <td>16</td>\n",
       "      <td>3</td>\n",
       "      <td>4</td>\n",
       "      <td>0</td>\n",
       "      <td>8</td>\n",
       "      <td>9.0</td>\n",
       "      <td>7969</td>\n",
       "    </tr>\n",
       "  </tbody>\n",
       "</table>\n",
       "</div>"
      ],
      "text/plain": [
       "   Gender  Age Occupation  City_Category  Stay_In_Current_City_Years  \\\n",
       "0       1    1         10              1                           2   \n",
       "1       1    1         10              1                           2   \n",
       "2       1    1         10              1                           2   \n",
       "3       1    1         10              1                           2   \n",
       "4       0    7         16              3                           4   \n",
       "\n",
       "  Marital_Status  Product_Category_1  Product_Category_2  Purchase  \n",
       "0              0                   3                 9.0      8370  \n",
       "1              0                   1                 6.0     15200  \n",
       "2              0                  12                 9.0      1422  \n",
       "3              0                  12                14.0      1057  \n",
       "4              0                   8                 9.0      7969  "
      ]
     },
     "execution_count": 46,
     "metadata": {},
     "output_type": "execute_result"
    }
   ],
   "source": [
    "data.head()"
   ]
  },
  {
   "cell_type": "code",
   "execution_count": 47,
   "id": "21927eaa",
   "metadata": {},
   "outputs": [
    {
     "data": {
      "text/plain": [
       "(550068, 9)"
      ]
     },
     "execution_count": 47,
     "metadata": {},
     "output_type": "execute_result"
    }
   ],
   "source": [
    "data.shape"
   ]
  },
  {
   "cell_type": "code",
   "execution_count": 48,
   "id": "3ddff538",
   "metadata": {
    "scrolled": true
   },
   "outputs": [
    {
     "data": {
      "text/plain": [
       "Gender                           int64\n",
       "Age                              int64\n",
       "Occupation                    category\n",
       "City_Category                    int64\n",
       "Stay_In_Current_City_Years       int64\n",
       "Marital_Status                category\n",
       "Product_Category_1               int64\n",
       "Product_Category_2             float64\n",
       "Purchase                         int64\n",
       "dtype: object"
      ]
     },
     "execution_count": 48,
     "metadata": {},
     "output_type": "execute_result"
    }
   ],
   "source": [
    "data.dtypes"
   ]
  },
  {
   "cell_type": "code",
   "execution_count": 49,
   "id": "90b95832",
   "metadata": {
    "scrolled": true
   },
   "outputs": [
    {
     "data": {
      "text/plain": [
       "(550068, 9)"
      ]
     },
     "execution_count": 49,
     "metadata": {},
     "output_type": "execute_result"
    }
   ],
   "source": [
    "data.shape"
   ]
  },
  {
   "cell_type": "code",
   "execution_count": 50,
   "id": "aec33dc8",
   "metadata": {},
   "outputs": [],
   "source": [
    "int16 = data[['Age','Marital_Status', 'Product_Category_1', 'Occupation','Purchase','Gender','City_Category']].astype('int16')\n",
    "float16  = data[['Stay_In_Current_City_Years','Product_Category_2']].astype('float16')\n",
    "data = pd.concat([int16, float16], axis=1, join=\"inner\")"
   ]
  },
  {
   "cell_type": "code",
   "execution_count": 51,
   "id": "4425f6de",
   "metadata": {},
   "outputs": [
    {
     "data": {
      "text/plain": [
       "Age                             int16\n",
       "Marital_Status                  int16\n",
       "Product_Category_1              int16\n",
       "Occupation                      int16\n",
       "Purchase                        int16\n",
       "Gender                          int16\n",
       "City_Category                   int16\n",
       "Stay_In_Current_City_Years    float16\n",
       "Product_Category_2            float16\n",
       "dtype: object"
      ]
     },
     "execution_count": 51,
     "metadata": {},
     "output_type": "execute_result"
    }
   ],
   "source": [
    "data.dtypes"
   ]
  },
  {
   "cell_type": "code",
   "execution_count": 52,
   "id": "bed4f31e",
   "metadata": {},
   "outputs": [
    {
     "data": {
      "text/plain": [
       "((550068, 8), (550068,))"
      ]
     },
     "execution_count": 52,
     "metadata": {},
     "output_type": "execute_result"
    }
   ],
   "source": [
    "# creating target dataset\n",
    "x = data.drop(['Purchase'], axis=1)\n",
    "y = data['Purchase']\n",
    "x.shape, y.shape"
   ]
  },
  {
   "cell_type": "code",
   "execution_count": 53,
   "id": "5568f02c",
   "metadata": {},
   "outputs": [
    {
     "data": {
      "text/plain": [
       "Age                           0\n",
       "Marital_Status                0\n",
       "Product_Category_1            0\n",
       "Occupation                    0\n",
       "Purchase                      0\n",
       "Gender                        0\n",
       "City_Category                 0\n",
       "Stay_In_Current_City_Years    0\n",
       "Product_Category_2            0\n",
       "dtype: int64"
      ]
     },
     "execution_count": 53,
     "metadata": {},
     "output_type": "execute_result"
    }
   ],
   "source": [
    "data.isnull().sum()"
   ]
  },
  {
   "cell_type": "code",
   "execution_count": 54,
   "id": "5ab31a7f",
   "metadata": {},
   "outputs": [],
   "source": [
    "# Standardise the data\n",
    "scaler = StandardScaler()\n",
    "x_scaled = scaler.fit_transform(x)"
   ]
  },
  {
   "cell_type": "code",
   "execution_count": 55,
   "id": "35d2d7fa",
   "metadata": {},
   "outputs": [],
   "source": [
    "# creating the training and validation set\n",
    "X_train, X_valid, y_train, y_valid = train_test_split(x_scaled, y, random_state = 10, test_size = 0.25)"
   ]
  },
  {
   "cell_type": "code",
   "execution_count": 56,
   "id": "a51ece74",
   "metadata": {},
   "outputs": [],
   "source": [
    "# creating the random forest regression model\n",
    "model = RandomForestRegressor(random_state=1, max_depth=3, n_estimators=100)"
   ]
  },
  {
   "cell_type": "code",
   "execution_count": 57,
   "id": "482f2741",
   "metadata": {},
   "outputs": [],
   "source": [
    "# fitting on the training data with 8 features\n",
    "pca = PCA(8).fit(X_train)\n",
    "\n",
    "# transform both training and validation data\n",
    "X_train_transformed = pca.transform(X_train)\n",
    "X_valid_transformed = pca.transform(X_valid)"
   ]
  },
  {
   "cell_type": "code",
   "execution_count": 58,
   "id": "ff40ff34",
   "metadata": {
    "scrolled": true
   },
   "outputs": [
    {
     "data": {
      "text/plain": [
       "RandomForestRegressor(max_depth=3, random_state=1)"
      ]
     },
     "execution_count": 58,
     "metadata": {},
     "output_type": "execute_result"
    }
   ],
   "source": [
    "# fitting the same random forest model on transformed data\n",
    "model.fit(X_train_transformed,y_train)"
   ]
  },
  {
   "cell_type": "code",
   "execution_count": 59,
   "id": "1a1d0661",
   "metadata": {},
   "outputs": [],
   "source": [
    "# predicting for the transformed validation set\n",
    "pred = model.predict(X_valid_transformed)"
   ]
  },
  {
   "cell_type": "code",
   "execution_count": 60,
   "id": "a9357d49",
   "metadata": {},
   "outputs": [
    {
     "name": "stdout",
     "output_type": "stream",
     "text": [
      "4618.775992468486\n"
     ]
    }
   ],
   "source": [
    "# checking the training performance (root mean squared error)\n",
    "print(np.sqrt(mean_squared_error(model.predict(X_train_transformed), y_train)))"
   ]
  },
  {
   "cell_type": "code",
   "execution_count": 61,
   "id": "c8bdbaca",
   "metadata": {},
   "outputs": [
    {
     "name": "stdout",
     "output_type": "stream",
     "text": [
      "4618.576203314698\n"
     ]
    }
   ],
   "source": [
    "# checking the validation performance (root mean squared error)\n",
    "print(np.sqrt(mean_squared_error(pred, y_valid)))"
   ]
  },
  {
   "cell_type": "code",
   "execution_count": 64,
   "id": "d06d7b84",
   "metadata": {},
   "outputs": [],
   "source": [
    "pca = PCA(n_components=8)\n",
    "principalComponents = pca.fit_transform(data)\n",
    "principalDf = pd.DataFrame(data = principalComponents , columns = ['pc1', 'pc2', 'pc3', 'pc4','pc5', 'pc6', 'pc7', 'pc8'])"
   ]
  },
  {
   "cell_type": "code",
   "execution_count": 65,
   "id": "ad84f026",
   "metadata": {},
   "outputs": [
    {
     "data": {
      "text/html": [
       "<div>\n",
       "<style scoped>\n",
       "    .dataframe tbody tr th:only-of-type {\n",
       "        vertical-align: middle;\n",
       "    }\n",
       "\n",
       "    .dataframe tbody tr th {\n",
       "        vertical-align: top;\n",
       "    }\n",
       "\n",
       "    .dataframe thead th {\n",
       "        text-align: right;\n",
       "    }\n",
       "</style>\n",
       "<table border=\"1\" class=\"dataframe\">\n",
       "  <thead>\n",
       "    <tr style=\"text-align: right;\">\n",
       "      <th></th>\n",
       "      <th>pc1</th>\n",
       "      <th>pc2</th>\n",
       "      <th>pc3</th>\n",
       "      <th>pc4</th>\n",
       "      <th>pc5</th>\n",
       "      <th>pc6</th>\n",
       "      <th>pc7</th>\n",
       "      <th>pc8</th>\n",
       "    </tr>\n",
       "  </thead>\n",
       "  <tbody>\n",
       "    <tr>\n",
       "      <th>0</th>\n",
       "      <td>-895.473328</td>\n",
       "      <td>1.871989</td>\n",
       "      <td>-2.122631</td>\n",
       "      <td>-1.845334</td>\n",
       "      <td>-2.570657</td>\n",
       "      <td>-0.060827</td>\n",
       "      <td>0.786884</td>\n",
       "      <td>0.048776</td>\n",
       "    </tr>\n",
       "    <tr>\n",
       "      <th>1</th>\n",
       "      <td>5936.224121</td>\n",
       "      <td>1.687997</td>\n",
       "      <td>-3.948124</td>\n",
       "      <td>-0.805059</td>\n",
       "      <td>-2.578233</td>\n",
       "      <td>-0.070669</td>\n",
       "      <td>0.849615</td>\n",
       "      <td>0.040625</td>\n",
       "    </tr>\n",
       "    <tr>\n",
       "      <th>2</th>\n",
       "      <td>-7833.376465</td>\n",
       "      <td>2.072176</td>\n",
       "      <td>1.099439</td>\n",
       "      <td>4.584178</td>\n",
       "      <td>-2.723080</td>\n",
       "      <td>-0.053018</td>\n",
       "      <td>0.722082</td>\n",
       "      <td>0.049814</td>\n",
       "    </tr>\n",
       "    <tr>\n",
       "      <th>3</th>\n",
       "      <td>-8206.844727</td>\n",
       "      <td>2.104055</td>\n",
       "      <td>5.155274</td>\n",
       "      <td>1.729384</td>\n",
       "      <td>-2.762326</td>\n",
       "      <td>-0.056050</td>\n",
       "      <td>0.715051</td>\n",
       "      <td>0.047699</td>\n",
       "    </tr>\n",
       "    <tr>\n",
       "      <th>4</th>\n",
       "      <td>-1294.669067</td>\n",
       "      <td>8.041831</td>\n",
       "      <td>0.676124</td>\n",
       "      <td>2.352072</td>\n",
       "      <td>3.139722</td>\n",
       "      <td>2.327712</td>\n",
       "      <td>-0.582474</td>\n",
       "      <td>0.848034</td>\n",
       "    </tr>\n",
       "  </tbody>\n",
       "</table>\n",
       "</div>"
      ],
      "text/plain": [
       "           pc1       pc2       pc3       pc4       pc5       pc6       pc7  \\\n",
       "0  -895.473328  1.871989 -2.122631 -1.845334 -2.570657 -0.060827  0.786884   \n",
       "1  5936.224121  1.687997 -3.948124 -0.805059 -2.578233 -0.070669  0.849615   \n",
       "2 -7833.376465  2.072176  1.099439  4.584178 -2.723080 -0.053018  0.722082   \n",
       "3 -8206.844727  2.104055  5.155274  1.729384 -2.762326 -0.056050  0.715051   \n",
       "4 -1294.669067  8.041831  0.676124  2.352072  3.139722  2.327712 -0.582474   \n",
       "\n",
       "        pc8  \n",
       "0  0.048776  \n",
       "1  0.040625  \n",
       "2  0.049814  \n",
       "3  0.047699  \n",
       "4  0.848034  "
      ]
     },
     "execution_count": 65,
     "metadata": {},
     "output_type": "execute_result"
    }
   ],
   "source": [
    "principalDf.head(5)"
   ]
  },
  {
   "cell_type": "code",
   "execution_count": null,
   "id": "ee5770ff",
   "metadata": {},
   "outputs": [],
   "source": []
  }
 ],
 "metadata": {
  "kernelspec": {
   "display_name": "Python 3 (ipykernel)",
   "language": "python",
   "name": "python3"
  },
  "language_info": {
   "codemirror_mode": {
    "name": "ipython",
    "version": 3
   },
   "file_extension": ".py",
   "mimetype": "text/x-python",
   "name": "python",
   "nbconvert_exporter": "python",
   "pygments_lexer": "ipython3",
   "version": "3.9.7"
  }
 },
 "nbformat": 4,
 "nbformat_minor": 5
}
